{
 "cells": [
  {
   "cell_type": "code",
   "execution_count": 7,
   "metadata": {
    "collapsed": false
   },
   "outputs": [
    {
     "name": "stdout",
     "output_type": "stream",
     "text": [
      "Populating the interactive namespace from numpy and matplotlib\n"
     ]
    },
    {
     "name": "stderr",
     "output_type": "stream",
     "text": [
      "WARNING: pylab import has clobbered these variables: ['exp', 'random']\n",
      "`%matplotlib` prevents importing * from pylab and numpy\n"
     ]
    }
   ],
   "source": [
    "#STEP 1: Load modules\n",
    "%pylab inline\n",
    "import pandas as pd\n",
    "import contributions\n",
    "import votes\n",
    "import bills\n",
    "import sqlCommands\n",
    "from peoplefinder import PeopleFinder\n",
    "from operator import attrgetter\n",
    "from sqlalchemy import create_engine\n",
    "from sqlalchemy_utils import database_exists, create_database\n",
    "import psycopg2\n",
    "from tqdm import tqdm\n",
    "from sklearn import linear_model\n",
    "from sklearn import svm\n",
    "import random\n",
    "import scipy as sc\n",
    "\n",
    "#define function that generates plot of F1-score with varying parameters.\n",
    "def F1plot(f,x,xtitle, islog):\n",
    "    plt.plot(x,f*100.)\n",
    "    if islog:\n",
    "        plt.xscale('log')\n",
    "    plt.title('F1 Score', fontsize=20)\n",
    "    plt.xlabel(xtitle, fontsize=16)\n",
    "    plt.ylabel('F1 Score (%)', fontsize=16)\n",
    "    \n",
    "def accplot(y_accs,x,xtitle, islog):\n",
    "    plt.plot(x,y_accs*100.)\n",
    "    if islog:\n",
    "        plt.xscale('log')\n",
    "    plt.title('Accuracy', fontsize=20)\n",
    "    plt.xlabel(xtitle, fontsize=16)\n",
    "    plt.ylabel('Accuracy (%)', fontsize=16)"
   ]
  },
  {
   "cell_type": "code",
   "execution_count": 8,
   "metadata": {
    "collapsed": true
   },
   "outputs": [],
   "source": [
    "#set up postgresql engine\n",
    "dbname = 'legislatr'\n",
    "engine = sqlCommands.get_engine(dbname)"
   ]
  },
  {
   "cell_type": "code",
   "execution_count": 9,
   "metadata": {
    "collapsed": true
   },
   "outputs": [],
   "source": [
    "#STEP 2: Load features\n",
    "#read in the subject feature array\n",
    "query = \"SELECT * FROM features_subs WHERE final_result = 0 OR final_result = 1;\"\n",
    "feat_subs = pd.read_sql_query(query,engine)\n",
    "#read in the legislator feature array\n",
    "query = \"SELECT * FROM features_legis WHERE final_result = 0 OR final_result = 1;\"\n",
    "feat_legis = pd.read_sql_query(query,engine)\n",
    "#read in the committee feature array\n",
    "query = \"SELECT * FROM features_comms WHERE final_result = 0 OR final_result = 1;\"\n",
    "feat_comms = pd.read_sql_query(query,engine)\n",
    "\n",
    "#fuse dataframes\n",
    "feat = pd.concat([feat_subs,feat_legis.drop(['bill_number','bill_type','index','result','status','final_result','num_amends','congress'],axis=1),\n",
    "                 feat_comms.drop(['bill_number','bill_type','index','result','status','final_result','num_amends','congress'],axis=1)],axis=1)"
   ]
  },
  {
   "cell_type": "code",
   "execution_count": 10,
   "metadata": {
    "collapsed": false
   },
   "outputs": [
    {
     "name": "stdout",
     "output_type": "stream",
     "text": [
      "18094\n",
      "6032\n",
      "6032\n",
      "(18094, 1317)\n",
      "(18094,)\n",
      "(6032, 1317)\n",
      "(6032,)\n",
      "(6031, 1317)\n",
      "(6031,)\n"
     ]
    }
   ],
   "source": [
    "#STEP 3: Create train (60%), CV (20%), and test (20%) sets.\n",
    "\n",
    "#randomize input\n",
    "data = feat.iloc[np.random.permutation(len(feat))]\n",
    "\n",
    "indlen = feat['index'].size\n",
    "trlen = int(indlen*0.6) #training set length\n",
    "print(trlen)\n",
    "cvlen = int((indlen-trlen)*0.5) #CV set length\n",
    "print(cvlen)\n",
    "testlen = indlen - trlen - cvlen #test set length\n",
    "print(testlen)\n",
    "\n",
    "#create training set\n",
    "tr_data = data.iloc[0:trlen]\n",
    "tr_data_Y = (tr_data.as_matrix(columns=['final_result'])).flatten()\n",
    "tr_data = tr_data.drop(['bill_number','bill_type','index','result','status','final_result','congress'],axis=1)\n",
    "tr_data_X = tr_data.as_matrix()\n",
    "print(tr_data_X.shape)\n",
    "print(tr_data_Y.shape)\n",
    "\n",
    "#create CV set\n",
    "CV_data = data.iloc[trlen:cvlen+trlen]\n",
    "CV_data_Y = (CV_data.as_matrix(columns=['final_result'])).flatten()\n",
    "CV_data = CV_data.drop(['bill_number','bill_type','index','result','status','final_result','congress'],axis=1)\n",
    "CV_data_X = CV_data.as_matrix()\n",
    "print(CV_data_X.shape)\n",
    "print(CV_data_Y.shape)\n",
    "\n",
    "#create testing set\n",
    "test_data = data.iloc[cvlen+trlen:-1]\n",
    "test_data_Y = (test_data.as_matrix(columns=['final_result'])).flatten()\n",
    "test_data = test_data.drop(['bill_number','bill_type','index','result','status','final_result','congress'],axis=1)\n",
    "test_data_X = test_data.as_matrix()\n",
    "print(test_data_X.shape)\n",
    "print(test_data_Y.shape)"
   ]
  },
  {
   "cell_type": "markdown",
   "metadata": {},
   "source": [
    "# Optimize SVM"
   ]
  },
  {
   "cell_type": "code",
   "execution_count": 11,
   "metadata": {
    "collapsed": false
   },
   "outputs": [
    {
     "name": "stdout",
     "output_type": "stream",
     "text": [
      "Accuracy =  0.8978779840848806\n",
      "Precision =  0.2078125\n",
      "Recall =  0.5495867768595041\n",
      "F1-Score =  0.30158730158730157\n"
     ]
    }
   ],
   "source": [
    "#optimize number of splits\n",
    "base = 2. #base for numbers\n",
    "exp = np.arange(10)+1. #exponent for base\n",
    "val = base**exp #values to be tested\n",
    "recs = list() #all recalls\n",
    "prec = list() #all precisions\n",
    "accs = list() #all accuracies\n",
    "fscr = list() #all F1-scores\n",
    "\n",
    "#loop through forests\n",
    "#for v in val:\n",
    "#    print('----------------------')\n",
    "#    print('Min Samples Split = ',v)\n",
    "svc = svm.LinearSVC(class_weight='balanced')\n",
    "svc = svc.fit(tr_data_X,tr_data_Y)\n",
    "Z =svc.predict(CV_data_X)\n",
    "\n",
    "#set up variables\n",
    "acc = 0 #accuracy\n",
    "true_pos = 0.\n",
    "false_pos = 0.\n",
    "true_neg = 0.\n",
    "false_neg = 0.\n",
    "final = 0.\n",
    "\n",
    "#get parameters for statistics\n",
    "for i in range(0,len(Z)):\n",
    "    if Z[i] == CV_data_Y[i]: #mark correct answers\n",
    "        acc = acc + 1.\n",
    "    if (Z[i] == 1) and (CV_data_Y[i] == 1): #mark true positives\n",
    "        true_pos = true_pos + 1.\n",
    "    if (Z[i] == 1) and (CV_data_Y[i] == 0): #mark false positives\n",
    "        false_pos = false_pos + 1.\n",
    "    if (Z[i] == 0) and (CV_data_Y[i] == 1): #mark false negatives\n",
    "        false_neg = false_neg + 1.\n",
    "    if (Z[i] == 0) and (CV_data_Y[i] == 0): #mark true negatives\n",
    "        true_neg = true_neg + 1.\n",
    "#calculate Accuracy\n",
    "final = acc/len(Z)\n",
    "print('Accuracy = ',final)\n",
    "accs.append(final)\n",
    "\n",
    "#calculate Precision\n",
    "pre = true_pos/(true_pos+false_pos)\n",
    "print('Precision = ',pre)\n",
    "prec.append(pre)\n",
    "    \n",
    "#calculate Recall\n",
    "rec = true_pos/(true_pos+false_neg)\n",
    "print('Recall = ',rec)\n",
    "recs.append(rec)\n",
    "    \n",
    "#calculate F1-Score\n",
    "f1 = 2*((rec*pre)/(rec+pre))\n",
    "print('F1-Score = ',f1)\n",
    "fscr.append(f1)\n",
    "\n",
    "#y_accs = np.asarray(accs)\n",
    "#y_prec = np.asarray(prec)\n",
    "#y_recs = np.asarray(recs)\n",
    "#y_fscr = np.asarray(fscr)\n",
    "\n",
    "#F1plot(y_fscr,val,'Min Sample Split',True)\n"
   ]
  },
  {
   "cell_type": "code",
   "execution_count": null,
   "metadata": {
    "collapsed": true
   },
   "outputs": [],
   "source": []
  }
 ],
 "metadata": {
  "kernelspec": {
   "display_name": "Python 3",
   "language": "python",
   "name": "python3"
  },
  "language_info": {
   "codemirror_mode": {
    "name": "ipython",
    "version": 3
   },
   "file_extension": ".py",
   "mimetype": "text/x-python",
   "name": "python",
   "nbconvert_exporter": "python",
   "pygments_lexer": "ipython3",
   "version": "3.5.1"
  }
 },
 "nbformat": 4,
 "nbformat_minor": 0
}
