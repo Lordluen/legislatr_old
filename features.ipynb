{
 "cells": [
  {
   "cell_type": "markdown",
   "metadata": {},
   "source": [
    "# Step (n-2): Generate Feature Vector"
   ]
  },
  {
   "cell_type": "code",
   "execution_count": 1,
   "metadata": {
    "collapsed": false
   },
   "outputs": [
    {
     "name": "stdout",
     "output_type": "stream",
     "text": [
      "Populating the interactive namespace from numpy and matplotlib\n"
     ]
    }
   ],
   "source": [
    "%pylab inline\n",
    "import pandas as pd\n",
    "import contributions\n",
    "import votes\n",
    "import bills\n",
    "import sqlCommands\n",
    "from peoplefinder import PeopleFinder\n",
    "from operator import attrgetter\n",
    "from sqlalchemy import create_engine\n",
    "from sqlalchemy_utils import database_exists, create_database\n",
    "import psycopg2\n",
    "from tqdm import tqdm\n",
    "\n",
    "def subject_match(engine,A):\n",
    "    query = (\"SELECT type,number FROM bills WHERE category LIKE 'passage' AND (subjects LIKE '%%{\" + A\n",
    "                     + \",%%' OR subjects LIKE '%%,\"+A+\",%%' OR subjects LIKE '%%,\"+A+\"}%%');\")\n",
    "    #use query and put in DataFrame\n",
    "    foo = pd.read_sql_query(query,engine)\n",
    "    return foo\n",
    "\n",
    "def get_subject_features(engine):\n",
    "    query = \"SELECT * FROM subs_morebills_hair\"\n",
    "    foo = pd.read_sql_query(query, engine)\n",
    "    return foo\n",
    "\n",
    "def clean_subject(a):\n",
    "    try:\n",
    "        quoteloc = a.index(\"'\") #may get issues with multiple single quotes in one topic.\n",
    "        a = a[:quoteloc]+\"'\"+a[quoteloc:]\n",
    "    except:\n",
    "        pass #no quotes found\n",
    "    #need to add \" if there are any spaces in the subject\n",
    "    try:\n",
    "        quoteloc = a.index(\" \") #will go to except if there are no spaces in the subject\n",
    "        a = '\\\"'+a+'\\\"'\n",
    "    except:\n",
    "        pass #no spaces found\n",
    "    return a"
   ]
  },
  {
   "cell_type": "code",
   "execution_count": 2,
   "metadata": {
    "collapsed": true
   },
   "outputs": [],
   "source": [
    "#set up postgresql engine\n",
    "dbname = 'legislatr'\n",
    "engine = sqlCommands.get_engine(dbname)\n",
    "conn = psycopg2.connect(\"dbname='legislatr' user='lordluen' host='localhost'\")\n",
    "cur = conn.cursor()"
   ]
  },
  {
   "cell_type": "code",
   "execution_count": 4,
   "metadata": {
    "collapsed": false
   },
   "outputs": [],
   "source": [
    "#load in subject features\n",
    "sub_feat_temp = get_subject_features(engine)\n",
    "sub_feat = pd.DataFrame()\n",
    "sub_feat['subjects'] = sub_feat_temp.subjects\n",
    "sub_feat['q_subjects'] = subs_feat['subjects'].map( lambda x: clean_subject(x)) #subjects for querying."
   ]
  },
  {
   "cell_type": "code",
   "execution_count": 5,
   "metadata": {
    "collapsed": false
   },
   "outputs": [
    {
     "name": "stdout",
     "output_type": "stream",
     "text": [
      "406\n"
     ]
    },
    {
     "data": {
      "text/html": [
       "<div>\n",
       "<table border=\"1\" class=\"dataframe\">\n",
       "  <thead>\n",
       "    <tr style=\"text-align: right;\">\n",
       "      <th></th>\n",
       "      <th>subjects</th>\n",
       "    </tr>\n",
       "  </thead>\n",
       "  <tbody>\n",
       "    <tr>\n",
       "      <th>0</th>\n",
       "      <td>Access Board</td>\n",
       "    </tr>\n",
       "    <tr>\n",
       "      <th>1</th>\n",
       "      <td>Administrative Conference of the U.S.</td>\n",
       "    </tr>\n",
       "    <tr>\n",
       "      <th>2</th>\n",
       "      <td>Administrative law and regulatory procedures</td>\n",
       "    </tr>\n",
       "  </tbody>\n",
       "</table>\n",
       "</div>"
      ],
      "text/plain": [
       "                                       subjects\n",
       "0                                  Access Board\n",
       "1         Administrative Conference of the U.S.\n",
       "2  Administrative law and regulatory procedures"
      ]
     },
     "execution_count": 5,
     "metadata": {},
     "output_type": "execute_result"
    }
   ],
   "source": [
    "print(sub_feat.subjects.size)\n",
    "sub_feat.head(3)"
   ]
  },
  {
   "cell_type": "code",
   "execution_count": 8,
   "metadata": {
    "collapsed": false
   },
   "outputs": [
    {
     "name": "stdout",
     "output_type": "stream",
     "text": [
      "1080\n"
     ]
    },
    {
     "data": {
      "text/html": [
       "<div>\n",
       "<table border=\"1\" class=\"dataframe\">\n",
       "  <thead>\n",
       "    <tr style=\"text-align: right;\">\n",
       "      <th></th>\n",
       "      <th>index</th>\n",
       "      <th>category</th>\n",
       "      <th>chamber</th>\n",
       "      <th>congress</th>\n",
       "      <th>date</th>\n",
       "      <th>number</th>\n",
       "      <th>result</th>\n",
       "      <th>subjects</th>\n",
       "      <th>top_subject</th>\n",
       "      <th>type</th>\n",
       "    </tr>\n",
       "  </thead>\n",
       "  <tbody>\n",
       "    <tr>\n",
       "      <th>0</th>\n",
       "      <td>3</td>\n",
       "      <td>passage</td>\n",
       "      <td>h</td>\n",
       "      <td>113</td>\n",
       "      <td>2013-10-05 10:57:00</td>\n",
       "      <td>3223</td>\n",
       "      <td>Passed</td>\n",
       "      <td>{Appropriations,\"Executive agency funding and ...</td>\n",
       "      <td>Government operations and politics</td>\n",
       "      <td>hr</td>\n",
       "    </tr>\n",
       "    <tr>\n",
       "      <th>1</th>\n",
       "      <td>4</td>\n",
       "      <td>passage</td>\n",
       "      <td>h</td>\n",
       "      <td>113</td>\n",
       "      <td>2013-12-04 17:00:00</td>\n",
       "      <td>1105</td>\n",
       "      <td>Passed</td>\n",
       "      <td>{\"Administrative law and regulatory procedures...</td>\n",
       "      <td>Finance and financial sector</td>\n",
       "      <td>hr</td>\n",
       "    </tr>\n",
       "    <tr>\n",
       "      <th>2</th>\n",
       "      <td>9</td>\n",
       "      <td>passage</td>\n",
       "      <td>h</td>\n",
       "      <td>113</td>\n",
       "      <td>2013-09-29 00:22:00</td>\n",
       "      <td>3210</td>\n",
       "      <td>Passed</td>\n",
       "      <td>{Appropriations,\"Armed forces and national sec...</td>\n",
       "      <td>Armed forces and national security</td>\n",
       "      <td>hr</td>\n",
       "    </tr>\n",
       "  </tbody>\n",
       "</table>\n",
       "</div>"
      ],
      "text/plain": [
       "   index category chamber  congress                date  number  result  \\\n",
       "0      3  passage       h       113 2013-10-05 10:57:00    3223  Passed   \n",
       "1      4  passage       h       113 2013-12-04 17:00:00    1105  Passed   \n",
       "2      9  passage       h       113 2013-09-29 00:22:00    3210  Passed   \n",
       "\n",
       "                                            subjects  \\\n",
       "0  {Appropriations,\"Executive agency funding and ...   \n",
       "1  {\"Administrative law and regulatory procedures...   \n",
       "2  {Appropriations,\"Armed forces and national sec...   \n",
       "\n",
       "                          top_subject type  \n",
       "0  Government operations and politics   hr  \n",
       "1        Finance and financial sector   hr  \n",
       "2  Armed forces and national security   hr  "
      ]
     },
     "execution_count": 8,
     "metadata": {},
     "output_type": "execute_result"
    }
   ],
   "source": [
    "#create a dataframe will bill in first column, pass or fail in second column (will need to clean), and features in reamaining columns\n",
    "#first get a list of bills.\n",
    "bills = pd.read_sql(\"SELECT * FROM bills WHERE category LIKE 'passage';\",engine)\n",
    "print(bills['index'].size)\n",
    "bills.head(3)"
   ]
  },
  {
   "cell_type": "code",
   "execution_count": 15,
   "metadata": {
    "collapsed": false
   },
   "outputs": [],
   "source": [
    "#second make new dataframe with just type, number, and result.\n",
    "bills_features = pd.DataFrame()\n",
    "bills_features[['type','number','result']] = bills[['type','number','result']]"
   ]
  },
  {
   "cell_type": "code",
   "execution_count": 16,
   "metadata": {
    "collapsed": false
   },
   "outputs": [
    {
     "data": {
      "text/html": [
       "<div>\n",
       "<table border=\"1\" class=\"dataframe\">\n",
       "  <thead>\n",
       "    <tr style=\"text-align: right;\">\n",
       "      <th></th>\n",
       "      <th>type</th>\n",
       "      <th>number</th>\n",
       "      <th>result</th>\n",
       "    </tr>\n",
       "  </thead>\n",
       "  <tbody>\n",
       "    <tr>\n",
       "      <th>0</th>\n",
       "      <td>hr</td>\n",
       "      <td>3223</td>\n",
       "      <td>Passed</td>\n",
       "    </tr>\n",
       "    <tr>\n",
       "      <th>1</th>\n",
       "      <td>hr</td>\n",
       "      <td>1105</td>\n",
       "      <td>Passed</td>\n",
       "    </tr>\n",
       "    <tr>\n",
       "      <th>2</th>\n",
       "      <td>hr</td>\n",
       "      <td>3210</td>\n",
       "      <td>Passed</td>\n",
       "    </tr>\n",
       "  </tbody>\n",
       "</table>\n",
       "</div>"
      ],
      "text/plain": [
       "  type  number  result\n",
       "0   hr    3223  Passed\n",
       "1   hr    1105  Passed\n",
       "2   hr    3210  Passed"
      ]
     },
     "execution_count": 16,
     "metadata": {},
     "output_type": "execute_result"
    }
   ],
   "source": [
    "bills_features.head(3)"
   ]
  },
  {
   "cell_type": "code",
   "execution_count": 33,
   "metadata": {
    "collapsed": false
   },
   "outputs": [
    {
     "name": "stderr",
     "output_type": "stream",
     "text": [
      "  0%|          | 0/406 [00:00<?, ?it/s]/home/lordluen/anaconda2/envs/py3_env/lib/python3.5/site-packages/ipykernel/__main__.py:9: UserWarning: This pattern has match groups. To actually get the groups, use str.extract.\n",
      "100%|██████████| 406/406 [00:00<00:00, 552.69it/s]\n"
     ]
    }
   ],
   "source": [
    "#query type and number for bills that match each subject, map into df.\n",
    "#loop over subjects.\n",
    "for i in tqdm(range(0,sub_feat['subjects'].size)):\n",
    "#get subject.\n",
    "#qsub = sub_feat['q_subjects'].iloc[i] #pull out subject to search for\n",
    "#currently using a postgresql query to get bill info, might be faster to search the dataframe I already have loaded.\n",
    "#matches = subject_matches(engine,qsub) #get bill identifiers that have those subjects\n",
    "    qsub = sub_feat['subjects'].iloc[i] #pull out subject to search for\n",
    "    boolcount = bills.subjects.str.contains(qsub, na=False)\n",
    "    bills_features[qsub] = boolcount.map({False:0,True:1}).astype(int) #subjects for querying."
   ]
  },
  {
   "cell_type": "code",
   "execution_count": 39,
   "metadata": {
    "collapsed": false
   },
   "outputs": [
    {
     "name": "stdout",
     "output_type": "stream",
     "text": [
      "Appropriations                            1\n",
      "Executive agency funding and structure    1\n",
      "Government operations and politics        1\n",
      "Name: 0, dtype: object\n",
      "{Appropriations,\"Executive agency funding and structure\",\"Government employee pay, benefits, personnel management\",\"Government operations and politics\"}\n"
     ]
    }
   ],
   "source": [
    "#check that it worked. It did.\n",
    "print(bills_features.loc[0][bills_features.loc[0] == 1])\n",
    "print(bills['subjects'].iloc[0])"
   ]
  },
  {
   "cell_type": "code",
   "execution_count": 40,
   "metadata": {
    "collapsed": false
   },
   "outputs": [
    {
     "data": {
      "text/html": [
       "<div>\n",
       "<table border=\"1\" class=\"dataframe\">\n",
       "  <thead>\n",
       "    <tr style=\"text-align: right;\">\n",
       "      <th></th>\n",
       "      <th>type</th>\n",
       "      <th>number</th>\n",
       "      <th>result</th>\n",
       "      <th>Access Board</th>\n",
       "      <th>Administrative Conference of the U.S.</th>\n",
       "      <th>Administrative law and regulatory procedures</th>\n",
       "      <th>Afghanistan</th>\n",
       "      <th>Africa</th>\n",
       "      <th>Agricultural conservation and pollution</th>\n",
       "      <th>Agricultural insurance</th>\n",
       "      <th>...</th>\n",
       "      <th>Water use and supply</th>\n",
       "      <th>Watersheds</th>\n",
       "      <th>West Bank</th>\n",
       "      <th>Wetlands</th>\n",
       "      <th>Women's health</th>\n",
       "      <th>Women's rights</th>\n",
       "      <th>World health</th>\n",
       "      <th>Wyoming</th>\n",
       "      <th>Yemen</th>\n",
       "      <th>Zimbabwe</th>\n",
       "    </tr>\n",
       "  </thead>\n",
       "  <tbody>\n",
       "    <tr>\n",
       "      <th>0</th>\n",
       "      <td>hr</td>\n",
       "      <td>3223</td>\n",
       "      <td>Passed</td>\n",
       "      <td>0</td>\n",
       "      <td>0</td>\n",
       "      <td>0</td>\n",
       "      <td>0</td>\n",
       "      <td>0</td>\n",
       "      <td>0</td>\n",
       "      <td>0</td>\n",
       "      <td>...</td>\n",
       "      <td>0</td>\n",
       "      <td>0</td>\n",
       "      <td>0</td>\n",
       "      <td>0</td>\n",
       "      <td>0</td>\n",
       "      <td>0</td>\n",
       "      <td>0</td>\n",
       "      <td>0</td>\n",
       "      <td>0</td>\n",
       "      <td>0</td>\n",
       "    </tr>\n",
       "    <tr>\n",
       "      <th>1</th>\n",
       "      <td>hr</td>\n",
       "      <td>1105</td>\n",
       "      <td>Passed</td>\n",
       "      <td>0</td>\n",
       "      <td>0</td>\n",
       "      <td>1</td>\n",
       "      <td>0</td>\n",
       "      <td>0</td>\n",
       "      <td>0</td>\n",
       "      <td>0</td>\n",
       "      <td>...</td>\n",
       "      <td>0</td>\n",
       "      <td>0</td>\n",
       "      <td>0</td>\n",
       "      <td>0</td>\n",
       "      <td>0</td>\n",
       "      <td>0</td>\n",
       "      <td>0</td>\n",
       "      <td>0</td>\n",
       "      <td>0</td>\n",
       "      <td>0</td>\n",
       "    </tr>\n",
       "    <tr>\n",
       "      <th>2</th>\n",
       "      <td>hr</td>\n",
       "      <td>3210</td>\n",
       "      <td>Passed</td>\n",
       "      <td>0</td>\n",
       "      <td>0</td>\n",
       "      <td>0</td>\n",
       "      <td>0</td>\n",
       "      <td>0</td>\n",
       "      <td>0</td>\n",
       "      <td>0</td>\n",
       "      <td>...</td>\n",
       "      <td>0</td>\n",
       "      <td>0</td>\n",
       "      <td>0</td>\n",
       "      <td>0</td>\n",
       "      <td>0</td>\n",
       "      <td>0</td>\n",
       "      <td>0</td>\n",
       "      <td>0</td>\n",
       "      <td>0</td>\n",
       "      <td>0</td>\n",
       "    </tr>\n",
       "  </tbody>\n",
       "</table>\n",
       "<p>3 rows × 409 columns</p>\n",
       "</div>"
      ],
      "text/plain": [
       "  type  number  result  Access Board  Administrative Conference of the U.S.  \\\n",
       "0   hr    3223  Passed             0                                      0   \n",
       "1   hr    1105  Passed             0                                      0   \n",
       "2   hr    3210  Passed             0                                      0   \n",
       "\n",
       "   Administrative law and regulatory procedures  Afghanistan  Africa  \\\n",
       "0                                             0            0       0   \n",
       "1                                             1            0       0   \n",
       "2                                             0            0       0   \n",
       "\n",
       "   Agricultural conservation and pollution  Agricultural insurance    ...     \\\n",
       "0                                        0                       0    ...      \n",
       "1                                        0                       0    ...      \n",
       "2                                        0                       0    ...      \n",
       "\n",
       "   Water use and supply  Watersheds  West Bank  Wetlands  Women's health  \\\n",
       "0                     0           0          0         0               0   \n",
       "1                     0           0          0         0               0   \n",
       "2                     0           0          0         0               0   \n",
       "\n",
       "   Women's rights  World health  Wyoming  Yemen  Zimbabwe  \n",
       "0               0             0        0      0         0  \n",
       "1               0             0        0      0         0  \n",
       "2               0             0        0      0         0  \n",
       "\n",
       "[3 rows x 409 columns]"
      ]
     },
     "execution_count": 40,
     "metadata": {},
     "output_type": "execute_result"
    }
   ],
   "source": [
    "bills_features.head(3)"
   ]
  },
  {
   "cell_type": "code",
   "execution_count": 41,
   "metadata": {
    "collapsed": false
   },
   "outputs": [
    {
     "name": "stdout",
     "output_type": "stream",
     "text": [
      "['Passed' 'Joint Resolution Passed' 'Resolution Agreed to' 'Failed'\n",
      " 'Bill Passed' 'Motion Agreed to' 'Concurrent Resolution Agreed to'\n",
      " 'Conference Report Agreed to' 'Bill Defeated' 'Resolution Rejected'\n",
      " 'Concurrent Resolution Rejected' 'Joint Resolution Defeated']\n"
     ]
    }
   ],
   "source": [
    "print(pd.unique(bills_features.result))"
   ]
  },
  {
   "cell_type": "code",
   "execution_count": 43,
   "metadata": {
    "collapsed": true
   },
   "outputs": [],
   "source": [
    "#map possible results to 0 = Fail or 1 = Pass\n",
    "result_keys = {\n",
    "    'Passed':1,\n",
    "    'Joint Resolution Passed':1,\n",
    "    'Resolution Agreed to':1,\n",
    "    'Failed':0,\n",
    "    'Bill Passed':1,\n",
    "    'Motion Agreed to':1,\n",
    "    'Concurrent Resolution Agreed to':1,\n",
    "    'Conference Report Agreed to':1,\n",
    "    'Bill Defeated':0,\n",
    "    'Resolution Rejected':0,\n",
    "    'Concurrent Resolution Rejected':0,\n",
    "    'Joint Resolution Defeated':0\n",
    "}\n",
    "bills_features['outcome']=bills_features.result.map(result_keys).astype(int)"
   ]
  },
  {
   "cell_type": "code",
   "execution_count": 44,
   "metadata": {
    "collapsed": false
   },
   "outputs": [
    {
     "data": {
      "text/html": [
       "<div>\n",
       "<table border=\"1\" class=\"dataframe\">\n",
       "  <thead>\n",
       "    <tr style=\"text-align: right;\">\n",
       "      <th></th>\n",
       "      <th>type</th>\n",
       "      <th>number</th>\n",
       "      <th>result</th>\n",
       "      <th>Access Board</th>\n",
       "      <th>Administrative Conference of the U.S.</th>\n",
       "      <th>Administrative law and regulatory procedures</th>\n",
       "      <th>Afghanistan</th>\n",
       "      <th>Africa</th>\n",
       "      <th>Agricultural conservation and pollution</th>\n",
       "      <th>Agricultural insurance</th>\n",
       "      <th>...</th>\n",
       "      <th>Watersheds</th>\n",
       "      <th>West Bank</th>\n",
       "      <th>Wetlands</th>\n",
       "      <th>Women's health</th>\n",
       "      <th>Women's rights</th>\n",
       "      <th>World health</th>\n",
       "      <th>Wyoming</th>\n",
       "      <th>Yemen</th>\n",
       "      <th>Zimbabwe</th>\n",
       "      <th>outcome</th>\n",
       "    </tr>\n",
       "  </thead>\n",
       "  <tbody>\n",
       "    <tr>\n",
       "      <th>0</th>\n",
       "      <td>hr</td>\n",
       "      <td>3223</td>\n",
       "      <td>Passed</td>\n",
       "      <td>0</td>\n",
       "      <td>0</td>\n",
       "      <td>0</td>\n",
       "      <td>0</td>\n",
       "      <td>0</td>\n",
       "      <td>0</td>\n",
       "      <td>0</td>\n",
       "      <td>...</td>\n",
       "      <td>0</td>\n",
       "      <td>0</td>\n",
       "      <td>0</td>\n",
       "      <td>0</td>\n",
       "      <td>0</td>\n",
       "      <td>0</td>\n",
       "      <td>0</td>\n",
       "      <td>0</td>\n",
       "      <td>0</td>\n",
       "      <td>1</td>\n",
       "    </tr>\n",
       "    <tr>\n",
       "      <th>1</th>\n",
       "      <td>hr</td>\n",
       "      <td>1105</td>\n",
       "      <td>Passed</td>\n",
       "      <td>0</td>\n",
       "      <td>0</td>\n",
       "      <td>1</td>\n",
       "      <td>0</td>\n",
       "      <td>0</td>\n",
       "      <td>0</td>\n",
       "      <td>0</td>\n",
       "      <td>...</td>\n",
       "      <td>0</td>\n",
       "      <td>0</td>\n",
       "      <td>0</td>\n",
       "      <td>0</td>\n",
       "      <td>0</td>\n",
       "      <td>0</td>\n",
       "      <td>0</td>\n",
       "      <td>0</td>\n",
       "      <td>0</td>\n",
       "      <td>1</td>\n",
       "    </tr>\n",
       "    <tr>\n",
       "      <th>2</th>\n",
       "      <td>hr</td>\n",
       "      <td>3210</td>\n",
       "      <td>Passed</td>\n",
       "      <td>0</td>\n",
       "      <td>0</td>\n",
       "      <td>0</td>\n",
       "      <td>0</td>\n",
       "      <td>0</td>\n",
       "      <td>0</td>\n",
       "      <td>0</td>\n",
       "      <td>...</td>\n",
       "      <td>0</td>\n",
       "      <td>0</td>\n",
       "      <td>0</td>\n",
       "      <td>0</td>\n",
       "      <td>0</td>\n",
       "      <td>0</td>\n",
       "      <td>0</td>\n",
       "      <td>0</td>\n",
       "      <td>0</td>\n",
       "      <td>1</td>\n",
       "    </tr>\n",
       "  </tbody>\n",
       "</table>\n",
       "<p>3 rows × 410 columns</p>\n",
       "</div>"
      ],
      "text/plain": [
       "  type  number  result  Access Board  Administrative Conference of the U.S.  \\\n",
       "0   hr    3223  Passed             0                                      0   \n",
       "1   hr    1105  Passed             0                                      0   \n",
       "2   hr    3210  Passed             0                                      0   \n",
       "\n",
       "   Administrative law and regulatory procedures  Afghanistan  Africa  \\\n",
       "0                                             0            0       0   \n",
       "1                                             1            0       0   \n",
       "2                                             0            0       0   \n",
       "\n",
       "   Agricultural conservation and pollution  Agricultural insurance   ...     \\\n",
       "0                                        0                       0   ...      \n",
       "1                                        0                       0   ...      \n",
       "2                                        0                       0   ...      \n",
       "\n",
       "   Watersheds  West Bank  Wetlands  Women's health  Women's rights  \\\n",
       "0           0          0         0               0               0   \n",
       "1           0          0         0               0               0   \n",
       "2           0          0         0               0               0   \n",
       "\n",
       "   World health  Wyoming  Yemen  Zimbabwe  outcome  \n",
       "0             0        0      0         0        1  \n",
       "1             0        0      0         0        1  \n",
       "2             0        0      0         0        1  \n",
       "\n",
       "[3 rows x 410 columns]"
      ]
     },
     "execution_count": 44,
     "metadata": {},
     "output_type": "execute_result"
    }
   ],
   "source": [
    "bills_features.head(3)"
   ]
  },
  {
   "cell_type": "code",
   "execution_count": 46,
   "metadata": {
    "collapsed": false
   },
   "outputs": [
    {
     "name": "stdout",
     "output_type": "stream",
     "text": [
      "1054\n",
      "1080\n"
     ]
    }
   ],
   "source": [
    "print(np.sum(bills_features.outcome))\n",
    "print(bills_features.outcome.size)"
   ]
  },
  {
   "cell_type": "markdown",
   "metadata": {},
   "source": [
    "It appears the category passage is biased towards passing bills......\n",
    "May need to redo everything using different categories."
   ]
  },
  {
   "cell_type": "code",
   "execution_count": 47,
   "metadata": {
    "collapsed": false
   },
   "outputs": [
    {
     "name": "stdout",
     "output_type": "stream",
     "text": [
      "314\n"
     ]
    },
    {
     "data": {
      "text/html": [
       "<div>\n",
       "<table border=\"1\" class=\"dataframe\">\n",
       "  <thead>\n",
       "    <tr style=\"text-align: right;\">\n",
       "      <th></th>\n",
       "      <th>index</th>\n",
       "      <th>category</th>\n",
       "      <th>chamber</th>\n",
       "      <th>congress</th>\n",
       "      <th>date</th>\n",
       "      <th>number</th>\n",
       "      <th>result</th>\n",
       "      <th>subjects</th>\n",
       "      <th>top_subject</th>\n",
       "      <th>type</th>\n",
       "    </tr>\n",
       "  </thead>\n",
       "  <tbody>\n",
       "    <tr>\n",
       "      <th>0</th>\n",
       "      <td>55</td>\n",
       "      <td>recommit</td>\n",
       "      <td>h</td>\n",
       "      <td>113</td>\n",
       "      <td>2013-10-30 14:19:00</td>\n",
       "      <td>992</td>\n",
       "      <td>Failed</td>\n",
       "      <td>{\"Banking and financial institutions regulatio...</td>\n",
       "      <td>Finance and financial sector</td>\n",
       "      <td>hr</td>\n",
       "    </tr>\n",
       "    <tr>\n",
       "      <th>1</th>\n",
       "      <td>15</td>\n",
       "      <td>recommit</td>\n",
       "      <td>h</td>\n",
       "      <td>113</td>\n",
       "      <td>2013-02-06 11:52:00</td>\n",
       "      <td>444</td>\n",
       "      <td>Failed</td>\n",
       "      <td>{\"Budget deficits and national debt\",\"Budget p...</td>\n",
       "      <td>Economics and public finance</td>\n",
       "      <td>hr</td>\n",
       "    </tr>\n",
       "    <tr>\n",
       "      <th>2</th>\n",
       "      <td>21</td>\n",
       "      <td>recommit</td>\n",
       "      <td>h</td>\n",
       "      <td>113</td>\n",
       "      <td>2013-09-19 17:59:00</td>\n",
       "      <td>3102</td>\n",
       "      <td>Failed</td>\n",
       "      <td>{\"Administrative law and regulatory procedures...</td>\n",
       "      <td>Agriculture and food</td>\n",
       "      <td>hr</td>\n",
       "    </tr>\n",
       "  </tbody>\n",
       "</table>\n",
       "</div>"
      ],
      "text/plain": [
       "   index  category chamber  congress                date  number  result  \\\n",
       "0     55  recommit       h       113 2013-10-30 14:19:00     992  Failed   \n",
       "1     15  recommit       h       113 2013-02-06 11:52:00     444  Failed   \n",
       "2     21  recommit       h       113 2013-09-19 17:59:00    3102  Failed   \n",
       "\n",
       "                                            subjects  \\\n",
       "0  {\"Banking and financial institutions regulatio...   \n",
       "1  {\"Budget deficits and national debt\",\"Budget p...   \n",
       "2  {\"Administrative law and regulatory procedures...   \n",
       "\n",
       "                    top_subject type  \n",
       "0  Finance and financial sector   hr  \n",
       "1  Economics and public finance   hr  \n",
       "2          Agriculture and food   hr  "
      ]
     },
     "execution_count": 47,
     "metadata": {},
     "output_type": "execute_result"
    }
   ],
   "source": [
    "#playing with other categories ['amendment' 'recommit' 'passage-suspension' 'procedural' 'passage' 'cloture']\n",
    "bills = pd.read_sql(\"SELECT * FROM bills WHERE category LIKE 'recommit';\",engine)\n",
    "print(bills['index'].size)\n",
    "bills.head(3)"
   ]
  },
  {
   "cell_type": "code",
   "execution_count": 48,
   "metadata": {
    "collapsed": false
   },
   "outputs": [
    {
     "name": "stdout",
     "output_type": "stream",
     "text": [
      "5625\n"
     ]
    },
    {
     "data": {
      "text/html": [
       "<div>\n",
       "<table border=\"1\" class=\"dataframe\">\n",
       "  <thead>\n",
       "    <tr style=\"text-align: right;\">\n",
       "      <th></th>\n",
       "      <th>index</th>\n",
       "      <th>category</th>\n",
       "      <th>chamber</th>\n",
       "      <th>congress</th>\n",
       "      <th>date</th>\n",
       "      <th>number</th>\n",
       "      <th>result</th>\n",
       "      <th>subjects</th>\n",
       "      <th>top_subject</th>\n",
       "      <th>type</th>\n",
       "    </tr>\n",
       "  </thead>\n",
       "  <tbody>\n",
       "    <tr>\n",
       "      <th>0</th>\n",
       "      <td>0</td>\n",
       "      <td>amendment</td>\n",
       "      <td>h</td>\n",
       "      <td>113</td>\n",
       "      <td>2013-06-20 11:09:00</td>\n",
       "      <td>1947</td>\n",
       "      <td>Failed</td>\n",
       "      <td>{\"Administrative law and regulatory procedures...</td>\n",
       "      <td>Agriculture and food</td>\n",
       "      <td>hr</td>\n",
       "    </tr>\n",
       "    <tr>\n",
       "      <th>1</th>\n",
       "      <td>1</td>\n",
       "      <td>amendment</td>\n",
       "      <td>h</td>\n",
       "      <td>113</td>\n",
       "      <td>2013-11-21 11:22:00</td>\n",
       "      <td>1900</td>\n",
       "      <td>Failed</td>\n",
       "      <td>{\"Administrative law and regulatory procedures...</td>\n",
       "      <td>Energy</td>\n",
       "      <td>hr</td>\n",
       "    </tr>\n",
       "    <tr>\n",
       "      <th>2</th>\n",
       "      <td>2</td>\n",
       "      <td>amendment</td>\n",
       "      <td>h</td>\n",
       "      <td>113</td>\n",
       "      <td>2013-07-10 14:32:00</td>\n",
       "      <td>2609</td>\n",
       "      <td>Failed</td>\n",
       "      <td>{\"Administrative law and regulatory procedures...</td>\n",
       "      <td>Economics and public finance</td>\n",
       "      <td>hr</td>\n",
       "    </tr>\n",
       "  </tbody>\n",
       "</table>\n",
       "</div>"
      ],
      "text/plain": [
       "   index   category chamber  congress                date  number  result  \\\n",
       "0      0  amendment       h       113 2013-06-20 11:09:00    1947  Failed   \n",
       "1      1  amendment       h       113 2013-11-21 11:22:00    1900  Failed   \n",
       "2      2  amendment       h       113 2013-07-10 14:32:00    2609  Failed   \n",
       "\n",
       "                                            subjects  \\\n",
       "0  {\"Administrative law and regulatory procedures...   \n",
       "1  {\"Administrative law and regulatory procedures...   \n",
       "2  {\"Administrative law and regulatory procedures...   \n",
       "\n",
       "                    top_subject type  \n",
       "0          Agriculture and food   hr  \n",
       "1                        Energy   hr  \n",
       "2  Economics and public finance   hr  "
      ]
     },
     "execution_count": 48,
     "metadata": {},
     "output_type": "execute_result"
    }
   ],
   "source": [
    "bills = pd.read_sql(\"SELECT * FROM bills;\",engine)\n",
    "print(bills['index'].size)\n",
    "bills.head(3)"
   ]
  },
  {
   "cell_type": "code",
   "execution_count": 54,
   "metadata": {
    "collapsed": false
   },
   "outputs": [
    {
     "name": "stdout",
     "output_type": "stream",
     "text": [
      "[1947 1900 2609 ...,  735  764 4890]\n"
     ]
    }
   ],
   "source": [
    "test = pd.unique(bills.number)\n",
    "print(test)"
   ]
  },
  {
   "cell_type": "code",
   "execution_count": 58,
   "metadata": {
    "collapsed": false
   },
   "outputs": [],
   "source": [
    "#for i in range(0,test.size):\n",
    "q = 'number == '+str(test[0])\n",
    "foo = bills.query(q)"
   ]
  },
  {
   "cell_type": "code",
   "execution_count": 59,
   "metadata": {
    "collapsed": false
   },
   "outputs": [
    {
     "data": {
      "text/html": [
       "<div>\n",
       "<table border=\"1\" class=\"dataframe\">\n",
       "  <thead>\n",
       "    <tr style=\"text-align: right;\">\n",
       "      <th></th>\n",
       "      <th>index</th>\n",
       "      <th>category</th>\n",
       "      <th>chamber</th>\n",
       "      <th>congress</th>\n",
       "      <th>date</th>\n",
       "      <th>number</th>\n",
       "      <th>result</th>\n",
       "      <th>subjects</th>\n",
       "      <th>top_subject</th>\n",
       "      <th>type</th>\n",
       "    </tr>\n",
       "  </thead>\n",
       "  <tbody>\n",
       "    <tr>\n",
       "      <th>0</th>\n",
       "      <td>0</td>\n",
       "      <td>amendment</td>\n",
       "      <td>h</td>\n",
       "      <td>113</td>\n",
       "      <td>2013-06-20 11:09:00</td>\n",
       "      <td>1947</td>\n",
       "      <td>Failed</td>\n",
       "      <td>{\"Administrative law and regulatory procedures...</td>\n",
       "      <td>Agriculture and food</td>\n",
       "      <td>hr</td>\n",
       "    </tr>\n",
       "    <tr>\n",
       "      <th>27</th>\n",
       "      <td>23</td>\n",
       "      <td>amendment</td>\n",
       "      <td>h</td>\n",
       "      <td>113</td>\n",
       "      <td>2013-06-20 11:18:00</td>\n",
       "      <td>1947</td>\n",
       "      <td>Failed</td>\n",
       "      <td>{\"Administrative law and regulatory procedures...</td>\n",
       "      <td>Agriculture and food</td>\n",
       "      <td>hr</td>\n",
       "    </tr>\n",
       "    <tr>\n",
       "      <th>56</th>\n",
       "      <td>50</td>\n",
       "      <td>amendment</td>\n",
       "      <td>h</td>\n",
       "      <td>113</td>\n",
       "      <td>2013-06-20 13:03:00</td>\n",
       "      <td>1947</td>\n",
       "      <td>Agreed to</td>\n",
       "      <td>{\"Administrative law and regulatory procedures...</td>\n",
       "      <td>Agriculture and food</td>\n",
       "      <td>hr</td>\n",
       "    </tr>\n",
       "    <tr>\n",
       "      <th>98</th>\n",
       "      <td>93</td>\n",
       "      <td>amendment</td>\n",
       "      <td>h</td>\n",
       "      <td>113</td>\n",
       "      <td>2013-06-20 10:50:00</td>\n",
       "      <td>1947</td>\n",
       "      <td>Failed</td>\n",
       "      <td>{\"Administrative law and regulatory procedures...</td>\n",
       "      <td>Agriculture and food</td>\n",
       "      <td>hr</td>\n",
       "    </tr>\n",
       "    <tr>\n",
       "      <th>102</th>\n",
       "      <td>97</td>\n",
       "      <td>amendment</td>\n",
       "      <td>h</td>\n",
       "      <td>113</td>\n",
       "      <td>2013-06-19 18:36:00</td>\n",
       "      <td>1947</td>\n",
       "      <td>Failed</td>\n",
       "      <td>{\"Administrative law and regulatory procedures...</td>\n",
       "      <td>Agriculture and food</td>\n",
       "      <td>hr</td>\n",
       "    </tr>\n",
       "  </tbody>\n",
       "</table>\n",
       "</div>"
      ],
      "text/plain": [
       "     index   category chamber  congress                date  number  \\\n",
       "0        0  amendment       h       113 2013-06-20 11:09:00    1947   \n",
       "27      23  amendment       h       113 2013-06-20 11:18:00    1947   \n",
       "56      50  amendment       h       113 2013-06-20 13:03:00    1947   \n",
       "98      93  amendment       h       113 2013-06-20 10:50:00    1947   \n",
       "102     97  amendment       h       113 2013-06-19 18:36:00    1947   \n",
       "\n",
       "        result                                           subjects  \\\n",
       "0       Failed  {\"Administrative law and regulatory procedures...   \n",
       "27      Failed  {\"Administrative law and regulatory procedures...   \n",
       "56   Agreed to  {\"Administrative law and regulatory procedures...   \n",
       "98      Failed  {\"Administrative law and regulatory procedures...   \n",
       "102     Failed  {\"Administrative law and regulatory procedures...   \n",
       "\n",
       "              top_subject type  \n",
       "0    Agriculture and food   hr  \n",
       "27   Agriculture and food   hr  \n",
       "56   Agriculture and food   hr  \n",
       "98   Agriculture and food   hr  \n",
       "102  Agriculture and food   hr  "
      ]
     },
     "execution_count": 59,
     "metadata": {},
     "output_type": "execute_result"
    }
   ],
   "source": [
    "foo.head(5)"
   ]
  },
  {
   "cell_type": "code",
   "execution_count": null,
   "metadata": {
    "collapsed": true
   },
   "outputs": [],
   "source": [
    "#need to find amendment number and replace bill info for amendment votes with info from the amendments."
   ]
  }
 ],
 "metadata": {
  "kernelspec": {
   "display_name": "Python 3",
   "language": "python",
   "name": "python3"
  },
  "language_info": {
   "codemirror_mode": {
    "name": "ipython",
    "version": 3
   },
   "file_extension": ".py",
   "mimetype": "text/x-python",
   "name": "python",
   "nbconvert_exporter": "python",
   "pygments_lexer": "ipython3",
   "version": "3.5.1"
  }
 },
 "nbformat": 4,
 "nbformat_minor": 0
}
