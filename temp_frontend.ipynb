{
 "cells": [
  {
   "cell_type": "code",
   "execution_count": 1,
   "metadata": {
    "collapsed": false
   },
   "outputs": [
    {
     "name": "stdout",
     "output_type": "stream",
     "text": [
      "Populating the interactive namespace from numpy and matplotlib\n"
     ]
    }
   ],
   "source": [
    "%pylab inline\n",
    "import pandas as pd\n",
    "import contributions\n",
    "import votes\n",
    "import bills\n",
    "import sqlCommands\n",
    "from peoplefinder import PeopleFinder\n",
    "from operator import attrgetter\n",
    "from sqlalchemy import create_engine\n",
    "from sqlalchemy_utils import database_exists, create_database\n",
    "import psycopg2\n",
    "from tqdm import tqdm\n",
    "from sklearn import linear_model\n",
    "from sklearn.ensemble import RandomForestClassifier\n",
    "import pickle\n",
    "\n",
    "def runModel(model,bill):\n",
    "    test_data = bill.drop(['bill_number','bill_type','index','result','status'],axis=1)\n",
    "    X = (test_data.as_matrix().flatten()).reshape(1,-1)\n",
    "    result = model.predict(X)\n",
    "    return result\n",
    "\n",
    "def modelConf(model,bill):\n",
    "    test_data = bill.drop(['bill_number','bill_type','index','result','status'],axis=1)\n",
    "    X = (test_data.as_matrix().flatten()).reshape(1,-1)\n",
    "    P = model.predict_proba(X)\n",
    "    Pr = max(P[0])*100. #convert to percent\n",
    "    return Pr\n",
    "\n",
    "def getResult(model,bill_type,bill_number,engine):\n",
    "    bill = retrieveFeatures(bill_type,bill_number,engine)\n",
    "    output = np.zeros((2))\n",
    "    output[0] = runModel(model,bill)\n",
    "    output[1] = modelConf(model,bill)\n",
    "    return output\n",
    "\n",
    "def retrieveFeatures(bill_type,bill_number,engine):\n",
    "    #pull a bill's features from postgresql server\n",
    "    #query = \"SELECT * FROM features WHERE bill_type LIKE '\"+bill_type+\"' AND bill_number LIKE '\"+bill_number+\"';\"\n",
    "    query = \"SELECT * FROM features WHERE bill_type LIKE '\"+bill_type+\"' AND bill_number LIKE '\"+bill_number+\"' LIMIT 1;\"\n",
    "    bill = pd.read_sql_query(query,engine) #note to self, bills repeat, I only want the most recent one.\n",
    "    return bill"
   ]
  },
  {
   "cell_type": "code",
   "execution_count": 2,
   "metadata": {
    "collapsed": false
   },
   "outputs": [],
   "source": [
    "#set up postgresql engine\n",
    "dbname = 'legislatr'\n",
    "engine = sqlCommands.get_engine(dbname)\n",
    "\n",
    "#load model\n",
    "#model_file = 'logreg_model_subjects.pkl' #logistic regression\n",
    "model_file = 'random_forest_model_subjects.pkl' #random forest\n",
    "mfile = open(model_file,'rb')\n",
    "model = pickle.load(mfile)\n",
    "mfile.close()"
   ]
  },
  {
   "cell_type": "code",
   "execution_count": 3,
   "metadata": {
    "collapsed": false
   },
   "outputs": [
    {
     "name": "stdout",
     "output_type": "stream",
     "text": [
      "Please enter originating chamber: hr\n",
      "Please enter bill number: 4387\n",
      "Predicted Result: PASS\n",
      "Confidence of Prediction:  82.0\n"
     ]
    }
   ],
   "source": [
    "bill_type = str(input(\"Please enter originating chamber: \"))\n",
    "bill_number = str(input(\"Please enter bill number: \"))\n",
    "result = getResult(model,bill_type,bill_number,engine)\n",
    "if result[0] == 1:\n",
    "    print(\"Predicted Result: PASS\")\n",
    "if result[0] == 0:\n",
    "    print(\"Predicted Result: FAIL\")\n",
    "print(\"Confidence of Prediction: \",result[1])"
   ]
  },
  {
   "cell_type": "code",
   "execution_count": null,
   "metadata": {
    "collapsed": true
   },
   "outputs": [],
   "source": []
  }
 ],
 "metadata": {
  "kernelspec": {
   "display_name": "Python 3",
   "language": "python",
   "name": "python3"
  },
  "language_info": {
   "codemirror_mode": {
    "name": "ipython",
    "version": 3
   },
   "file_extension": ".py",
   "mimetype": "text/x-python",
   "name": "python",
   "nbconvert_exporter": "python",
   "pygments_lexer": "ipython3",
   "version": "3.5.1"
  }
 },
 "nbformat": 4,
 "nbformat_minor": 0
}
