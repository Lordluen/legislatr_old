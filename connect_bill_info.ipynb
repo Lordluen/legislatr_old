{
 "cells": [
  {
   "cell_type": "markdown",
   "metadata": {},
   "source": [
    "# Save out bill identifiers along with the bill title."
   ]
  },
  {
   "cell_type": "markdown",
   "metadata": {},
   "source": [
    "This program takes bill information from database and saves out a smaller table with just the bill identifiers and titles."
   ]
  },
  {
   "cell_type": "code",
   "execution_count": 1,
   "metadata": {
    "collapsed": true
   },
   "outputs": [],
   "source": [
    "import re\n",
    "import os\n",
    "import numpy as np\n",
    "import pandas as pd\n",
    "import ujson as json\n",
    "from tqdm import tqdm\n",
    "import sqlCommands\n",
    "\n",
    "from dateutil.parser import parse as DateParser\n",
    "\n",
    "#set up engine\n",
    "dbname = 'legislatr'\n",
    "engine = sqlCommands.get_engine(dbname)\n",
    "#query = \"SELECT * FROM topics;\"\n",
    "bills_df = pd.read_sql_table('allbills4',engine)"
   ]
  },
  {
   "cell_type": "code",
   "execution_count": 2,
   "metadata": {
    "collapsed": false
   },
   "outputs": [
    {
     "data": {
      "text/html": [
       "<div>\n",
       "<table border=\"1\" class=\"dataframe\">\n",
       "  <thead>\n",
       "    <tr style=\"text-align: right;\">\n",
       "      <th></th>\n",
       "      <th>index</th>\n",
       "      <th>result</th>\n",
       "      <th>num_amends</th>\n",
       "      <th>congress</th>\n",
       "      <th>active</th>\n",
       "      <th>final_result</th>\n",
       "    </tr>\n",
       "  </thead>\n",
       "  <tbody>\n",
       "    <tr>\n",
       "      <th>count</th>\n",
       "      <td>38340.0</td>\n",
       "      <td>38340.000000</td>\n",
       "      <td>38340.000000</td>\n",
       "      <td>38340.000000</td>\n",
       "      <td>38340.000000</td>\n",
       "      <td>38340.000000</td>\n",
       "    </tr>\n",
       "    <tr>\n",
       "      <th>mean</th>\n",
       "      <td>0.0</td>\n",
       "      <td>1.966927</td>\n",
       "      <td>0.505556</td>\n",
       "      <td>112.392123</td>\n",
       "      <td>0.171049</td>\n",
       "      <td>0.455608</td>\n",
       "    </tr>\n",
       "    <tr>\n",
       "      <th>std</th>\n",
       "      <td>0.0</td>\n",
       "      <td>0.190413</td>\n",
       "      <td>10.512045</td>\n",
       "      <td>1.108746</td>\n",
       "      <td>0.376556</td>\n",
       "      <td>0.821498</td>\n",
       "    </tr>\n",
       "    <tr>\n",
       "      <th>min</th>\n",
       "      <td>0.0</td>\n",
       "      <td>0.000000</td>\n",
       "      <td>0.000000</td>\n",
       "      <td>111.000000</td>\n",
       "      <td>0.000000</td>\n",
       "      <td>0.000000</td>\n",
       "    </tr>\n",
       "    <tr>\n",
       "      <th>25%</th>\n",
       "      <td>0.0</td>\n",
       "      <td>2.000000</td>\n",
       "      <td>0.000000</td>\n",
       "      <td>111.000000</td>\n",
       "      <td>0.000000</td>\n",
       "      <td>0.000000</td>\n",
       "    </tr>\n",
       "    <tr>\n",
       "      <th>50%</th>\n",
       "      <td>0.0</td>\n",
       "      <td>2.000000</td>\n",
       "      <td>0.000000</td>\n",
       "      <td>112.000000</td>\n",
       "      <td>0.000000</td>\n",
       "      <td>0.000000</td>\n",
       "    </tr>\n",
       "    <tr>\n",
       "      <th>75%</th>\n",
       "      <td>0.0</td>\n",
       "      <td>2.000000</td>\n",
       "      <td>0.000000</td>\n",
       "      <td>113.000000</td>\n",
       "      <td>0.000000</td>\n",
       "      <td>0.000000</td>\n",
       "    </tr>\n",
       "    <tr>\n",
       "      <th>max</th>\n",
       "      <td>0.0</td>\n",
       "      <td>2.000000</td>\n",
       "      <td>621.000000</td>\n",
       "      <td>114.000000</td>\n",
       "      <td>1.000000</td>\n",
       "      <td>2.000000</td>\n",
       "    </tr>\n",
       "  </tbody>\n",
       "</table>\n",
       "</div>"
      ],
      "text/plain": [
       "         index        result    num_amends      congress        active  \\\n",
       "count  38340.0  38340.000000  38340.000000  38340.000000  38340.000000   \n",
       "mean       0.0      1.966927      0.505556    112.392123      0.171049   \n",
       "std        0.0      0.190413     10.512045      1.108746      0.376556   \n",
       "min        0.0      0.000000      0.000000    111.000000      0.000000   \n",
       "25%        0.0      2.000000      0.000000    111.000000      0.000000   \n",
       "50%        0.0      2.000000      0.000000    112.000000      0.000000   \n",
       "75%        0.0      2.000000      0.000000    113.000000      0.000000   \n",
       "max        0.0      2.000000    621.000000    114.000000      1.000000   \n",
       "\n",
       "       final_result  \n",
       "count  38340.000000  \n",
       "mean       0.455608  \n",
       "std        0.821498  \n",
       "min        0.000000  \n",
       "25%        0.000000  \n",
       "50%        0.000000  \n",
       "75%        0.000000  \n",
       "max        2.000000  "
      ]
     },
     "execution_count": 2,
     "metadata": {},
     "output_type": "execute_result"
    }
   ],
   "source": [
    "bills_df.describe()"
   ]
  },
  {
   "cell_type": "code",
   "execution_count": 3,
   "metadata": {
    "collapsed": true
   },
   "outputs": [],
   "source": [
    "bills_df_limit = bills_df[[\"bill_type\",\"bill_number\",\"title\",\"otitle\",\"congress\",\"intro_date\",\"final_date\"]]"
   ]
  },
  {
   "cell_type": "code",
   "execution_count": 4,
   "metadata": {
    "collapsed": true
   },
   "outputs": [],
   "source": [
    "sqlCommands.write_to_database(dbname,'bill_info',bills_df_limit,engine)"
   ]
  }
 ],
 "metadata": {
  "kernelspec": {
   "display_name": "Python 3",
   "language": "python",
   "name": "python3"
  },
  "language_info": {
   "codemirror_mode": {
    "name": "ipython",
    "version": 3
   },
   "file_extension": ".py",
   "mimetype": "text/x-python",
   "name": "python",
   "nbconvert_exporter": "python",
   "pygments_lexer": "ipython3",
   "version": "3.5.1"
  }
 },
 "nbformat": 4,
 "nbformat_minor": 0
}
