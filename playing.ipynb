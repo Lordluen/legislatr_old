{
 "cells": [
  {
   "cell_type": "code",
   "execution_count": 2,
   "metadata": {
    "collapsed": true
   },
   "outputs": [],
   "source": [
    "import numpy as np\n",
    "import pandas as pd\n",
    "import xml.etree.ElementTree as ET\n",
    "from tqdm import tqdm\n",
    "\n",
    "from dateutil.parser import parse as DateParser\n",
    "import os\n",
    "\n",
    "def _dict_lower_keys(d):\n",
    "    return {k.lower():v for k,v in d.items()}\n",
    "\n",
    "\n",
    "condir = '/home/lordluen/Code/InsightDS/Legis_data/contributions/'"
   ]
  },
  {
   "cell_type": "code",
   "execution_count": 3,
   "metadata": {
    "collapsed": true
   },
   "outputs": [],
   "source": [
    "FIELD_SPECS={\n",
    "    'year': int,\n",
    "    'amount': float,\n",
    "    'registrantid': int,\n",
    "    'received': DateParser,\n",
    "    'contributiondate': DateParser,\n",
    "    'contributiontype': str,\n",
    "    'honoree': str,\n",
    "}"
   ]
  },
  {
   "cell_type": "code",
   "execution_count": 8,
   "metadata": {
    "collapsed": false
   },
   "outputs": [
    {
     "name": "stdout",
     "output_type": "stream",
     "text": [
      "/home/lordluen/Code/InsightDS/Legis_data/contributions/2016_2_6_1_LD203.xml\n"
     ]
    }
   ],
   "source": [
    "path_to_file = condir+\"2016_2_6_1_LD203.xml\"\n",
    "print(path_to_file)"
   ]
  },
  {
   "cell_type": "code",
   "execution_count": 77,
   "metadata": {
    "collapsed": false
   },
   "outputs": [
    {
     "name": "stdout",
     "output_type": "stream",
     "text": [
      "{('honoree', <class 'str'>), ('amount', <class 'float'>), ('received', <function parse at 0x7f56b415c7b8>), ('contributiondate', <function parse at 0x7f56b415c7b8>), ('registrantid', <class 'int'>), ('year', <class 'int'>), ('contributiontype', <class 'str'>)}\n"
     ]
    },
    {
     "ename": "TypeError",
     "evalue": "'set' object is not subscriptable",
     "output_type": "error",
     "traceback": [
      "\u001b[1;31m---------------------------------------------------------------------------\u001b[0m",
      "\u001b[1;31mTypeError\u001b[0m                                 Traceback (most recent call last)",
      "\u001b[1;32m<ipython-input-77-1eb45a39cedf>\u001b[0m in \u001b[0;36m<module>\u001b[1;34m()\u001b[0m\n\u001b[0;32m      2\u001b[0m \u001b[0mprint\u001b[0m\u001b[1;33m(\u001b[0m\u001b[0mbar\u001b[0m\u001b[1;33m)\u001b[0m\u001b[1;33m\u001b[0m\u001b[0m\n\u001b[0;32m      3\u001b[0m \u001b[1;32mfor\u001b[0m \u001b[0mkey\u001b[0m\u001b[1;33m,\u001b[0m\u001b[0mcast\u001b[0m \u001b[1;32min\u001b[0m \u001b[0mFIELD_SPECS\u001b[0m\u001b[1;33m.\u001b[0m\u001b[0mitems\u001b[0m\u001b[1;33m(\u001b[0m\u001b[1;33m)\u001b[0m\u001b[1;33m:\u001b[0m\u001b[1;33m\u001b[0m\u001b[0m\n\u001b[1;32m----> 4\u001b[1;33m     \u001b[0mbar\u001b[0m\u001b[1;33m[\u001b[0m\u001b[0mkey\u001b[0m\u001b[1;33m]\u001b[0m\u001b[1;33m.\u001b[0m\u001b[0mappend\u001b[0m\u001b[1;33m(\u001b[0m\u001b[0mcast\u001b[0m\u001b[1;33m(\u001b[0m\u001b[0mdata\u001b[0m\u001b[1;33m[\u001b[0m\u001b[0mkey\u001b[0m\u001b[1;33m]\u001b[0m\u001b[1;33m)\u001b[0m\u001b[1;33m)\u001b[0m\u001b[1;33m\u001b[0m\u001b[0m\n\u001b[0m",
      "\u001b[1;31mTypeError\u001b[0m: 'set' object is not subscriptable"
     ]
    }
   ],
   "source": [
    "bar = {key for key in FIELD_SPECS.items()}\n",
    "print(bar)\n",
    "for key,cast in FIELD_SPECS.items():\n",
    "    bar[key].append(cast(data[key])) "
   ]
  },
  {
   "cell_type": "code",
   "execution_count": 9,
   "metadata": {
    "collapsed": false
   },
   "outputs": [],
   "source": [
    "fd = open(path_to_file)\n",
    "dom = ET.fromstring(fd.read())"
   ]
  },
  {
   "cell_type": "code",
   "execution_count": 10,
   "metadata": {
    "collapsed": false
   },
   "outputs": [
    {
     "name": "stderr",
     "output_type": "stream",
     "text": [
      "100%|██████████| 10/10 [00:00<00:00, 39162.50it/s]\n"
     ]
    }
   ],
   "source": [
    "counter = 0\n",
    "data = {}\n",
    "data_topush = {}\n",
    "foo = True\n",
    "alldat = pd.DataFrame()\n",
    "for filing in tqdm(dom.findall('.//Filing')):\n",
    "    for reg in filing.findall('.//Registrant'):\n",
    "        for child in filing.findall('.//Contribution'):\n",
    "            data.clear()\n",
    "            data_topush.clear()\n",
    "            data.update(_dict_lower_keys(filing.attrib))\n",
    "            data.update(_dict_lower_keys(child.attrib))\n",
    "            data.update(_dict_lower_keys(reg.attrib))\n",
    "            data_topush = {key:cast(data[key]) for key,cast in FIELD_SPECS.items()}\n",
    "\n",
    "            for key,cast in FIELD_SPECS.items():\n",
    "                alldat.loc[counter,key] = cast(data[key])\n",
    "            counter = counter + 1\n",
    "            \n",
    "alldat['year'] = alldat['year'].astype(int)\n",
    "#alldat['registrantid'] = alldat['registrantid'].astype(int)\n"
   ]
  },
  {
   "cell_type": "code",
   "execution_count": 11,
   "metadata": {
    "collapsed": false,
    "scrolled": true
   },
   "outputs": [
    {
     "data": {
      "text/html": [
       "<div>\n",
       "<table border=\"1\" class=\"dataframe\">\n",
       "  <thead>\n",
       "    <tr style=\"text-align: right;\">\n",
       "      <th></th>\n",
       "    </tr>\n",
       "  </thead>\n",
       "  <tbody>\n",
       "  </tbody>\n",
       "</table>\n",
       "</div>"
      ],
      "text/plain": [
       "Empty DataFrame\n",
       "Columns: []\n",
       "Index: []"
      ]
     },
     "execution_count": 11,
     "metadata": {},
     "output_type": "execute_result"
    }
   ],
   "source": [
    "alldat.head(20)"
   ]
  },
  {
   "cell_type": "code",
   "execution_count": 84,
   "metadata": {
    "collapsed": false
   },
   "outputs": [
    {
     "name": "stdout",
     "output_type": "stream",
     "text": [
      "<class 'numpy.float64'>\n"
     ]
    }
   ],
   "source": [
    "print(type(alldat['year'].iloc[0]))"
   ]
  },
  {
   "cell_type": "code",
   "execution_count": 87,
   "metadata": {
    "collapsed": false
   },
   "outputs": [],
   "source": [
    "alldat['year'] = alldat['year'].astype(int)"
   ]
  },
  {
   "cell_type": "code",
   "execution_count": 12,
   "metadata": {
    "collapsed": false
   },
   "outputs": [
    {
     "name": "stdout",
     "output_type": "stream",
     "text": [
      "Populating the interactive namespace from numpy and matplotlib\n"
     ]
    },
    {
     "name": "stderr",
     "output_type": "stream",
     "text": [
      "WARNING: pylab import has clobbered these variables: ['cast']\n",
      "`%matplotlib` prevents importing * from pylab and numpy\n"
     ]
    }
   ],
   "source": [
    "%pylab inline\n",
    "import pandas as pd\n",
    "import contributions\n",
    "import votes\n",
    "import bills\n",
    "import sqlCommands\n",
    "from peoplefinder import PeopleFinder\n",
    "\n",
    "from operator import attrgetter"
   ]
  },
  {
   "cell_type": "code",
   "execution_count": 14,
   "metadata": {
    "collapsed": false
   },
   "outputs": [],
   "source": [
    "raw_bills = bills.read_bills( start_year = 2015 )"
   ]
  },
  {
   "cell_type": "code",
   "execution_count": 15,
   "metadata": {
    "collapsed": false
   },
   "outputs": [
    {
     "data": {
      "text/plain": [
       "generator"
      ]
     },
     "execution_count": 15,
     "metadata": {},
     "output_type": "execute_result"
    }
   ],
   "source": [
    "type(raw_bills)"
   ]
  },
  {
   "cell_type": "code",
   "execution_count": 16,
   "metadata": {
    "collapsed": false
   },
   "outputs": [
    {
     "name": "stderr",
     "output_type": "stream",
     "text": [
      "  0%|          | 0/119 [00:00<?, ?it/s]\n",
      "  0%|          | 0/1043 [00:00<?, ?it/s]\n",
      "  6%|▌         | 65/1043 [00:00<00:01, 648.10it/s]\n",
      " 16%|█▌        | 166/1043 [00:00<00:01, 726.10it/s]\n",
      " 26%|██▌       | 268/1043 [00:00<00:00, 794.31it/s]\n",
      " 36%|███▌      | 375/1043 [00:00<00:00, 860.34it/s]\n",
      " 46%|████▋     | 483/1043 [00:00<00:00, 912.85it/s]\n",
      " 56%|█████▌    | 581/1043 [00:00<00:00, 931.53it/s]\n",
      " 65%|██████▌   | 680/1043 [00:00<00:00, 947.04it/s]\n",
      " 75%|███████▌  | 785/1043 [00:00<00:00, 975.31it/s]\n",
      " 85%|████████▍ | 885/1043 [00:00<00:00, 976.76it/s]\n",
      " 95%|█████████▌| 994/1043 [00:01<00:00, 1007.17it/s]\n",
      "100%|██████████| 1043/1043 [00:01<00:00, 989.88it/s]\n",
      "  0%|          | 0/355 [00:00<?, ?it/s]\n",
      " 37%|███▋      | 133/355 [00:00<00:00, 1328.81it/s]\n",
      " 72%|███████▏  | 256/355 [00:00<00:00, 1295.29it/s]\n",
      "100%|██████████| 119/119 [00:01<00:00, 88.91it/s]\n"
     ]
    }
   ],
   "source": [
    "data = pd.DataFrame.from_dict( raw_bills )"
   ]
  },
  {
   "cell_type": "code",
   "execution_count": 17,
   "metadata": {
    "collapsed": false
   },
   "outputs": [
    {
     "data": {
      "text/html": [
       "<div>\n",
       "<table border=\"1\" class=\"dataframe\">\n",
       "  <thead>\n",
       "    <tr style=\"text-align: right;\">\n",
       "      <th></th>\n",
       "      <th>category</th>\n",
       "      <th>chamber</th>\n",
       "      <th>congress</th>\n",
       "      <th>date</th>\n",
       "      <th>number</th>\n",
       "      <th>result</th>\n",
       "      <th>subjects</th>\n",
       "      <th>top_subject</th>\n",
       "      <th>type</th>\n",
       "    </tr>\n",
       "  </thead>\n",
       "  <tbody>\n",
       "    <tr>\n",
       "      <th>0</th>\n",
       "      <td>amendment</td>\n",
       "      <td>s</td>\n",
       "      <td>114</td>\n",
       "      <td>2015-03-26 23:23:00-04:00</td>\n",
       "      <td>11</td>\n",
       "      <td>Amendment Agreed to</td>\n",
       "      <td>[Accounting and auditing, Administrative law a...</td>\n",
       "      <td>Economics and public finance</td>\n",
       "      <td>sconres</td>\n",
       "    </tr>\n",
       "    <tr>\n",
       "      <th>1</th>\n",
       "      <td>amendment</td>\n",
       "      <td>s</td>\n",
       "      <td>114</td>\n",
       "      <td>2015-12-03 19:06:00-05:00</td>\n",
       "      <td>3762</td>\n",
       "      <td>Amendment Rejected</td>\n",
       "      <td>[Abortion, Appropriations, Drug trafficking an...</td>\n",
       "      <td>Health</td>\n",
       "      <td>hr</td>\n",
       "    </tr>\n",
       "  </tbody>\n",
       "</table>\n",
       "</div>"
      ],
      "text/plain": [
       "    category chamber  congress                       date  number  \\\n",
       "0  amendment       s       114  2015-03-26 23:23:00-04:00      11   \n",
       "1  amendment       s       114  2015-12-03 19:06:00-05:00    3762   \n",
       "\n",
       "                result                                           subjects  \\\n",
       "0  Amendment Agreed to  [Accounting and auditing, Administrative law a...   \n",
       "1   Amendment Rejected  [Abortion, Appropriations, Drug trafficking an...   \n",
       "\n",
       "                    top_subject     type  \n",
       "0  Economics and public finance  sconres  \n",
       "1                        Health       hr  "
      ]
     },
     "execution_count": 17,
     "metadata": {},
     "output_type": "execute_result"
    }
   ],
   "source": [
    "data.head(2)"
   ]
  },
  {
   "cell_type": "code",
   "execution_count": 18,
   "metadata": {
    "collapsed": true
   },
   "outputs": [],
   "source": [
    "foo = list()\n",
    "for i in data['subjects']:\n",
    "    foo = foo+i"
   ]
  },
  {
   "cell_type": "code",
   "execution_count": 19,
   "metadata": {
    "collapsed": false
   },
   "outputs": [
    {
     "name": "stdout",
     "output_type": "stream",
     "text": [
      "Accounting and auditing\n"
     ]
    }
   ],
   "source": [
    "print(foo[0])"
   ]
  },
  {
   "cell_type": "code",
   "execution_count": 20,
   "metadata": {
    "collapsed": true
   },
   "outputs": [],
   "source": [
    "nfoo = np.asarray(foo)"
   ]
  },
  {
   "cell_type": "code",
   "execution_count": 21,
   "metadata": {
    "collapsed": true
   },
   "outputs": [],
   "source": [
    "bar = np.unique(nfoo)"
   ]
  },
  {
   "cell_type": "code",
   "execution_count": 22,
   "metadata": {
    "collapsed": false
   },
   "outputs": [
    {
     "name": "stdout",
     "output_type": "stream",
     "text": [
      "['ASEAN countries' 'Abortion' 'Academic performance and assessments'\n",
      " 'Access Board' 'Accidents' 'Accounting and auditing'\n",
      " 'Administrative Conference of the U.S.'\n",
      " 'Administrative law and regulatory procedures' 'Administrative remedies'\n",
      " 'Adoption and foster care' 'Adult education and literacy'\n",
      " 'Advanced technology and technological innovations' 'Advisory bodies'\n",
      " 'Afghanistan' 'Africa' 'African Development Foundation'\n",
      " 'Age discrimination' 'Aging' 'Agricultural conservation and pollution'\n",
      " 'Agricultural education' 'Agricultural insurance'\n",
      " 'Agricultural marketing and promotion'\n",
      " 'Agricultural practices and innovations'\n",
      " 'Agricultural prices, subsidies, credit' 'Agricultural research'\n",
      " 'Agricultural trade' 'Agriculture and food' 'Air quality' 'Alabama'\n",
      " 'Alaska' 'Alaska Natives and Hawaiians' 'Alcoholic beverages' 'Alliances'\n",
      " 'Allied health services' 'Alternative and renewable resources'\n",
      " 'Alternative dispute resolution, mediation, arbitration'\n",
      " 'Alternative treatments' 'American Battle Monuments Commission'\n",
      " 'American Samoa' 'Animal protection and human-animal relationships'\n",
      " 'Appalachian Regional Commission' 'Appropriations' 'Aquaculture'\n",
      " 'Aquatic ecology' 'Arab-Israeli relations' 'Archaeology and anthropology'\n",
      " 'Architect of the Capitol' 'Arctic Ocean' 'Arctic and polar regions'\n",
      " 'Arizona' 'Arkansas' 'Armed Forces Retirement Home'\n",
      " 'Armed forces and national security' 'Arms control and nonproliferation'\n",
      " 'Army Corps of Engineers' 'Art, artists, authorship' 'Asia'\n",
      " 'Assault and harassment offenses' 'Atlantic Ocean'\n",
      " 'Atmospheric science and weather' 'Australia' 'Aviation and airports'\n",
      " 'Bahrain' 'Bangladesh' 'Bank accounts, deposits, capital'\n",
      " 'Banking and financial institutions regulation' 'Bankruptcy' 'Belgium'\n",
      " 'Birds' 'Blood and blood diseases'\n",
      " 'Border security and unlawful immigration'\n",
      " 'Broadcasting Board of Governors'\n",
      " 'Broadcasting, cable, digital technologies'\n",
      " 'Budget deficits and national debt' 'Budget process'\n",
      " 'Building construction' 'Burma' 'Business ethics' 'Business expenses'\n",
      " 'Business investment and capital' 'Business records'\n",
      " 'Buy American requirements' 'California' 'Cambodia' 'Cameroon' 'Canada'\n",
      " 'Cancer' 'Caribbean area' 'Cell biology and embryology'\n",
      " 'Cemeteries and funerals' 'Census and government statistics'\n",
      " 'Centers for Disease Control and Prevention (CDC)'\n",
      " 'Central African Republic' 'Central Intelligence Agency (CIA)' 'Chad'\n",
      " 'Charitable contributions' 'Chemical and biological weapons'\n",
      " 'Chesapeake Bay' 'Child care and development' 'Child health'\n",
      " 'Child safety and welfare' 'China' 'Citizenship and naturalization'\n",
      " 'Civil actions and liability'\n",
      " 'Civil rights and liberties, minority issues'\n",
      " 'Climate change and greenhouse gases' 'Coal' 'Coast guard' 'Colombia'\n",
      " 'Colorado' 'Commemorative events and holidays' 'Commerce'\n",
      " 'Commission of Fine Arts' 'Commission on Civil Rights'\n",
      " 'Commodities markets' 'Commodity Futures Trading Commission'\n",
      " 'Community life and organization' 'Commuting' 'Competition and antitrust'\n",
      " 'Competitiveness, trade promotion, trade deficits'\n",
      " 'Comprehensive health care' 'Computer security and identity theft'\n",
      " 'Computers and information technology' 'Conflicts and wars' 'Congress'\n",
      " 'Congressional Budget Office (CBO)' 'Congressional Research Service (CRS)'\n",
      " 'Congressional agencies' 'Congressional committees'\n",
      " 'Congressional elections' 'Congressional leadership'\n",
      " 'Congressional officers and employees'\n",
      " 'Congressional operations and organization' 'Congressional oversight'\n",
      " 'Congressional tributes' 'Congressional-executive branch relations'\n",
      " 'Connecticut' 'Constitution and constitutional amendments'\n",
      " 'Consumer Financial Protection Bureau'\n",
      " 'Consumer Product Safety Commission' 'Consumer affairs' 'Consumer credit'\n",
      " 'Contracts and agency' 'Cooperative and condominium housing'\n",
      " 'Corporate finance and management'\n",
      " 'Correctional facilities and imprisonment' 'Credit and credit markets'\n",
      " 'Crime and law enforcement' 'Crime prevention' 'Crime victims'\n",
      " 'Crimes against animals and natural resources' 'Crimes against children'\n",
      " 'Crimes against property' 'Crimes against women'\n",
      " 'Criminal investigation, prosecution, interrogation'\n",
      " 'Criminal justice information and records'\n",
      " 'Criminal procedure and sentencing' 'Cuba'\n",
      " 'Cultural exchanges and relations' 'Currency' 'Customs enforcement'\n",
      " 'Cyprus' 'Dams and canals' 'Debt collection'\n",
      " 'Defense Nuclear Facilities Safety Board' 'Defense spending'\n",
      " 'Delta Regional Authority' 'Denali Commission' 'Department of Agriculture'\n",
      " 'Department of Commerce' 'Department of Defense' 'Department of Education'\n",
      " 'Department of Energy' 'Department of Health and Human Services'\n",
      " 'Department of Homeland Security'\n",
      " 'Department of Housing and Urban Development' 'Department of Justice'\n",
      " 'Department of Labor' 'Department of State' 'Department of Transportation'\n",
      " 'Department of Veterans Affairs' 'Department of the Interior'\n",
      " 'Department of the Treasury' 'Detention of persons'\n",
      " 'Digestive and metabolic diseases' 'Digital media'\n",
      " 'Diplomacy, foreign officials, Americans abroad'\n",
      " 'Director of National Intelligence'\n",
      " 'Disability and health-based discrimination' 'Disability and paralysis'\n",
      " 'Disability assistance' 'Disaster relief and insurance'\n",
      " 'District of Columbia' 'Domestic violence and child abuse'\n",
      " 'Drug Enforcement Administration (DEA)'\n",
      " 'Drug safety, medical device, and laboratory regulation' 'Drug therapy'\n",
      " 'Drug trafficking and controlled substances' 'Drug, alcohol, tobacco use'\n",
      " 'Due process and equal protection' 'Earth sciences' 'Ecology'\n",
      " 'Economic development' 'Economic performance and conditions'\n",
      " 'Economic theory' 'Economics and public finance' 'Education'\n",
      " 'Education of the disadvantaged' 'Education programs funding'\n",
      " 'Educational facilities and institutions' 'Educational guidance'\n",
      " 'Educational technology and distance education' 'Egypt' 'El Salvador'\n",
      " 'Election Assistance Commission'\n",
      " 'Elections, voting, political campaign regulation'\n",
      " 'Electric power generation and transmission'\n",
      " 'Elementary and secondary education' 'Emergency communications systems'\n",
      " 'Emergency management' 'Emergency medical services and trauma care'\n",
      " 'Emergency planning and evacuation' 'Employee benefits and pensions'\n",
      " 'Employee hiring' 'Employee leave' 'Employee performance'\n",
      " 'Employment and training programs'\n",
      " 'Employment discrimination and employee rights' 'Employment taxes'\n",
      " 'Endangered and threatened species' 'Energy'\n",
      " 'Energy assistance for the poor and aged'\n",
      " 'Energy efficiency and conservation' 'Energy prices' 'Energy research'\n",
      " 'Energy revenues and royalties' 'Energy storage, supplies, demand'\n",
      " 'Environmental Protection Agency (EPA)'\n",
      " 'Environmental assessment, monitoring, research' 'Environmental health'\n",
      " 'Environmental protection' 'Environmental regulatory procedures'\n",
      " 'Environmental technology'\n",
      " 'Equal Employment Opportunity Commission (EEOC)' 'Espionage and treason'\n",
      " 'Estonia' 'Europe' 'European Union' 'Everglades' 'Evidence and witnesses'\n",
      " 'Executive Office of the President'\n",
      " 'Executive agency funding and structure'\n",
      " 'Export-Import Bank of the United States' 'Families'\n",
      " 'Family planning and birth control' 'Family relationships'\n",
      " 'Family services' 'Farm Credit Administration' 'Farmland'\n",
      " 'Federal Bureau of Investigation (FBI)'\n",
      " 'Federal Communications Commission (FCC)'\n",
      " 'Federal Deposit Insurance Corporation (FDIC)'\n",
      " 'Federal Election Commission (FEC)'\n",
      " 'Federal Emergency Management Agency (FEMA)'\n",
      " 'Federal Energy Regulatory Commission (FERC)'\n",
      " 'Federal Labor Relations Authority' 'Federal Maritime Commission'\n",
      " 'Federal Reserve System' 'Federal Trade Commission (FTC)'\n",
      " 'Federal appellate courts' 'Federal district courts' 'Federal officials'\n",
      " 'Federal preemption' 'Federal-Indian relations'\n",
      " 'Finance and financial sector' 'Financial Stability Oversight Council'\n",
      " 'Financial crises and stabilization' 'Financial literacy'\n",
      " 'Financial services and investments' 'Firearms and explosives' 'Fires'\n",
      " 'First Amendment rights' 'First responders and emergency personnel'\n",
      " 'Fishes' 'Floods and storm protection' 'Florida'\n",
      " 'Food and Drug Administration (FDA)' 'Food assistance and relief'\n",
      " 'Food industry and services' 'Food supply, safety, and labeling'\n",
      " 'Foreign aid and international relief' 'Foreign and international banking'\n",
      " 'Foreign labor' 'Foreign language and bilingual programs'\n",
      " 'Foreign loans and debt' 'Foreign property'\n",
      " 'Foreign trade and international finance' 'Forests, forestry, trees'\n",
      " 'Fraud offenses and financial crimes' 'Free trade and trade barriers'\n",
      " 'Freedom of information' 'Fruit and vegetables' 'Gambling' 'Gaza Strip'\n",
      " 'General Services Administration' 'General energy matters'\n",
      " 'General health and health care finance matters'\n",
      " 'General public lands matters' 'Genetics' 'Georgia' 'Georgia (Republic)'\n",
      " 'Germany' 'Government Accountability Office (GAO)'\n",
      " 'Government National Mortgage Association (Ginnie Mae)'\n",
      " 'Government Publishing Office (GPO)'\n",
      " 'Government buildings, facilities, and property'\n",
      " 'Government corporations and government-sponsored enterprises'\n",
      " 'Government employee pay, benefits, personnel management'\n",
      " 'Government ethics and transparency, public corruption'\n",
      " 'Government information and archives'\n",
      " 'Government lending and loan guarantees' 'Government liability'\n",
      " 'Government operations and politics'\n",
      " 'Government studies and investigations' 'Government trust funds' 'Grain'\n",
      " 'Great Lakes' 'Guam' 'Guatemala' 'Gulf of Mexico' 'HIV/AIDS' 'Haiti'\n",
      " 'Hate crimes' 'Hawaii' 'Hazardous wastes and toxic substances' 'Health'\n",
      " 'Health care costs and insurance' 'Health care coverage and access'\n",
      " 'Health care quality' 'Health facilities and institutions'\n",
      " 'Health information and medical records' 'Health personnel'\n",
      " 'Health programs administration and funding'\n",
      " 'Health promotion and preventive care'\n",
      " 'Health technology, devices, supplies' 'Higher education'\n",
      " 'Historic sites and heritage areas' 'Historical and cultural resources'\n",
      " 'Home and outpatient care' 'Homeland security'\n",
      " 'Homelessness and emergency shelter' 'Honduras' 'Horticulture and plants'\n",
      " 'Hospital care' 'House Committee on Appropriations'\n",
      " 'House Committee on Energy and Commerce' 'House Committee on Ethics'\n",
      " 'House Committee on Financial Services'\n",
      " 'House Committee on House Administration'\n",
      " 'House Committee on Science, Space, and Technology'\n",
      " 'House Committee on Ways and Means' 'House Committee on the Judiciary'\n",
      " 'House Permanent Select Committee on Intelligence'\n",
      " 'House of Representatives' 'Housing and community development'\n",
      " 'Housing and community development funding' 'Housing discrimination'\n",
      " 'Housing finance and home ownership'\n",
      " 'Housing for the elderly and disabled' 'Housing industry and standards'\n",
      " 'Housing supply and affordability' 'Human rights' 'Human trafficking'\n",
      " 'Humanities programs funding' 'Hunting and fishing'\n",
      " 'Hybrid, electric, and advanced technology vehicles'\n",
      " 'Hydrology and hydrography' 'Idaho' 'Illinois'\n",
      " 'Immigrant health and welfare' 'Immigration'\n",
      " 'Immigration status and procedures' 'Immunology and vaccination'\n",
      " 'Income tax credits' 'Income tax deductions' 'Income tax deferral'\n",
      " 'Income tax exclusion' 'India' 'Indian claims'\n",
      " 'Indian lands and resources rights'\n",
      " 'Indian social and development programs' 'Indonesia'\n",
      " 'Industrial facilities' 'Industrial policy and productivity'\n",
      " 'Infectious and parasitic diseases' 'Inflation and prices'\n",
      " 'Infrastructure development' 'Insects' 'Insurance industry and regulation'\n",
      " 'Intellectual property'\n",
      " 'Intelligence activities, surveillance, classified information'\n",
      " 'Inter-American Foundation' 'Interagency Council on Homelessness'\n",
      " 'Interest, dividends, interest rates' 'Intergovernmental relations'\n",
      " 'Internal Revenue Service (IRS)' 'International affairs'\n",
      " 'International exchange and broadcasting' 'International law and treaties'\n",
      " 'International monetary system and foreign exchange'\n",
      " 'International organizations and cooperation'\n",
      " 'International scientific cooperation' 'Internet and video services'\n",
      " 'Iowa' 'Iran' 'Iraq' 'Israel' 'Italy' 'Japan' 'Jordan' 'Judges'\n",
      " 'Judicial procedure and administration' 'Judicial review and appeals'\n",
      " 'Jurisdiction and venue' 'Juvenile crime and gang violence' 'Kansas'\n",
      " 'Kentucky' 'Kenya' 'Kuwait' 'Labor and employment' 'Labor standards'\n",
      " 'Labor-management relations' 'Lakes and rivers' 'Land transfers'\n",
      " 'Land use and conservation' 'Language arts' 'Latin America' 'Latvia' 'Law'\n",
      " 'Law enforcement administration and funding' 'Law enforcement officers'\n",
      " 'Lawyers and legal services' 'Lease and rental services' 'Lebanon'\n",
      " 'Legal Services Corporation' 'Legal fees and court costs'\n",
      " 'Legislative rules and procedure' 'Library of Congress' 'Libya'\n",
      " 'Licensing and registrations' 'Life, casualty, property insurance'\n",
      " 'Lighting and heating' 'Literature' 'Lithuania' 'Livestock'\n",
      " 'Long-term, rehabilitative, and terminal care' 'Louisiana'\n",
      " 'Low- and moderate-income housing' 'Malaysia' 'Mammals' 'Manufacturing'\n",
      " 'Marine Mammal Commission' 'Marine and coastal resources, fisheries'\n",
      " 'Marine and inland water transportation' 'Marine pollution'\n",
      " 'Marketing and advertising' 'Maryland' 'Massachusetts' 'Materials' 'Meat'\n",
      " 'Medicaid' 'Medical education' 'Medical ethics' 'Medical research'\n",
      " 'Medical tests and diagnostic methods' 'Medicare' 'Members of Congress'\n",
      " 'Mental health' 'Merit Systems Protection Board' 'Metals' 'Mexico'\n",
      " 'Micronesia' 'Middle East' 'Migrant, seasonal, agricultural labor'\n",
      " 'Military assistance, sales, and agreements' 'Military civil functions'\n",
      " 'Military command and structure' 'Military education and training'\n",
      " 'Military facilities and property' 'Military history' 'Military law'\n",
      " 'Military medicine' 'Military operations and strategy'\n",
      " 'Military personnel and dependents'\n",
      " 'Military procurement, research, weapons development' 'Military readiness'\n",
      " 'Mining' 'Minnesota' 'Minority and disadvantaged businesses'\n",
      " 'Minority education' 'Minority employment' 'Minority health' 'Mississippi'\n",
      " 'Mississippi River' 'Missouri' 'Monetary policy' 'Montana'\n",
      " 'Monuments and memorials' 'Morocco' 'Motor carriers' 'Motor fuels'\n",
      " 'Motor vehicles' 'Multilateral development programs'\n",
      " 'Musculoskeletal and skin diseases'\n",
      " 'Museums, exhibitions, cultural centers' 'Music'\n",
      " 'National Aeronautics and Space Administration'\n",
      " 'National Archives and Records Administration'\n",
      " 'National Capital Planning Commission'\n",
      " 'National Credit Union Administration'\n",
      " 'National Foundation on the Arts and the Humanities'\n",
      " 'National Guard and reserves' 'National Institutes of Health (NIH)'\n",
      " 'National Labor Relations Board (NLRB)'\n",
      " 'National Railroad Passenger Corporation (Amtrak)'\n",
      " 'National Science Foundation' 'National Security Agency'\n",
      " 'National Transportation Safety Board (NTSB)'\n",
      " 'National and community service' 'National symbols' 'Native Americans'\n",
      " 'Natural disasters' 'Navigation, waterways, harbors' 'Nebraska'\n",
      " 'Neighborhood Reinvestment Corporation' 'Nepal' 'Neurological disorders'\n",
      " 'Nevada' 'New Jersey' 'New Mexico' 'New York City' 'New York State'\n",
      " 'News media and reporting' 'Niger' 'Nigeria' 'North Carolina'\n",
      " 'North Dakota' 'North Korea' 'Northern Mariana Islands'\n",
      " 'Nuclear Regulatory Commission (NRC)'\n",
      " 'Nuclear Waste Technical Review Board' 'Nuclear power' 'Nuclear weapons'\n",
      " 'Nutrition and diet' 'Oceania' 'Office of Government Ethics'\n",
      " 'Office of Management and Budget (OMB)'\n",
      " 'Office of Personnel Management (OPM)'\n",
      " 'Office of Science and Technology Policy' 'Office of Special Counsel'\n",
      " 'Office of the U.S. Trade Representative' 'Ohio' 'Oil and gas' 'Oklahoma'\n",
      " 'Oregon' 'Organ and tissue donation and transplantation' 'Organized crime'\n",
      " 'Outdoor recreation' 'Overseas Private Investment Corporation (OPIC)'\n",
      " 'Pacific Ocean' 'Pakistan' 'Palau' 'Palestinians' 'Panama'\n",
      " 'Parks, recreation areas, trails' 'Peace Corps'\n",
      " 'Pedestrians and bicycling' 'Pennsylvania' 'Performance measurement'\n",
      " 'Performing arts' 'Persian Gulf States' 'Personnel records'\n",
      " 'Pest management' 'Philippines' 'Photography and imaging'\n",
      " 'Physical fitness and lifestyle' 'Pipelines' 'Policy sciences'\n",
      " 'Political movements and philosophies' 'Political parties and affiliation'\n",
      " 'Pollution liability' 'Pornography' 'Portugal'\n",
      " 'Postal Regulatory Commission' 'Postal service'\n",
      " 'Poverty and welfare assistance' 'Preschool education'\n",
      " 'Prescription drugs' 'Presidents and presidential powers, Vice Presidents'\n",
      " 'Privacy and Civil Liberties Oversight Board'\n",
      " 'Product development and innovation' 'Product safety and quality'\n",
      " 'Professional sports' 'Property rights' 'Property tax'\n",
      " 'Protection of officials' 'Protest and dissent'\n",
      " 'Public contracts and procurement' 'Public housing'\n",
      " 'Public lands and natural resources' 'Public participation and lobbying'\n",
      " 'Public transit' 'Public utilities and utility rates'\n",
      " 'Public-private cooperation' 'Puerto Rico' 'Qatar'\n",
      " 'Racial and ethnic relations' 'Radiation'\n",
      " 'Radioactive wastes and releases' 'Railroads' 'Real estate business'\n",
      " 'Reconstruction and stabilization' 'Refugees, asylum, displaced persons'\n",
      " 'Regional and metropolitan planning' 'Religion' 'Reptiles'\n",
      " 'Research administration and funding' 'Research and development'\n",
      " 'Residential rehabilitation and home repair' 'Retail and wholesale trades'\n",
      " 'Rhode Island' 'Right of privacy' 'Roads and highways'\n",
      " 'Rule of law and government transparency'\n",
      " 'Rural conditions and development' 'Russia' 'Saint Lawrence Seaway'\n",
      " 'Sales and excise taxes' 'Sanctions' 'School administration'\n",
      " 'Science and engineering education' 'Science, technology, communications'\n",
      " 'Scientific communication' 'Seafood' 'Securities'\n",
      " 'Securities and Exchange Commission (SEC)' 'Selective Service System'\n",
      " 'Self-employed' 'Senate' 'Senate Committee on Finance'\n",
      " 'Senate Committee on the Budget' 'Separation, divorce, custody, support'\n",
      " 'Service animals' 'Service industries' 'Sex and reproductive health'\n",
      " 'Sex offenses' 'Sex, gender, sexual orientation discrimination'\n",
      " 'Singapore' 'Small Business Administration' 'Small business'\n",
      " 'Smithsonian Institution' 'Smuggling and trafficking'\n",
      " 'Social Security Administration' 'Social security and elderly assistance'\n",
      " 'Social work, volunteer service, charitable organizations'\n",
      " 'Soil pollution' 'Solid waste and recycling' 'Somalia' 'South Carolina'\n",
      " 'South Dakota' 'South Korea' 'South Sudan'\n",
      " 'Sovereignty, recognition, national governance and status'\n",
      " 'Space flight and exploration' 'Spacecraft and satellites'\n",
      " 'Special education' 'Specialized courts'\n",
      " 'Sports and recreation facilities' 'Sri Lanka' 'State and local courts'\n",
      " 'State and local finance' 'State and local government operations'\n",
      " 'State and local taxation' 'Strategic materials and reserves'\n",
      " 'Student aid and college costs' 'Student records' 'Sudan' 'Supreme Court'\n",
      " 'Surgery and anesthesia' 'Syria' 'Taiwan' 'Tanzania' 'Tariffs'\n",
      " 'Tax administration and collection, taxpayers'\n",
      " 'Tax reform and tax simplification' 'Tax treatment of families'\n",
      " 'Tax-exempt organizations' 'Taxation' 'Taxation of foreign income'\n",
      " 'Teaching, teachers, curricula' 'Technology assessment'\n",
      " 'Technology transfer and commercialization' 'Teenage pregnancy'\n",
      " 'Telecommunication rates and fees' 'Telephone and wireless communication'\n",
      " 'Television and film' 'Temporary and part-time employment' 'Tennessee'\n",
      " 'Terrorism' 'Texas' 'Thailand' 'Tibet' 'Trade agreements and negotiations'\n",
      " 'Trade and Development Agency' 'Trade restrictions'\n",
      " 'Trade secrets and economic espionage' 'Transfer and inheritance taxes'\n",
      " 'Transportation and public works' 'Transportation costs'\n",
      " 'Transportation employees' 'Transportation programs funding'\n",
      " 'Transportation safety and security' 'Travel and tourism' 'Tunisia'\n",
      " 'Turkey' 'U.S. Agency for International Development (USAID)'\n",
      " 'U.S. Capitol' 'U.S. Commission on International Religious Freedom'\n",
      " 'U.S. Holocaust Memorial Council' 'U.S. Institute of Peace'\n",
      " 'U.S. International Trade Commission' 'U.S. Postal Service'\n",
      " 'U.S. Sentencing Commission' 'U.S. and foreign investments' 'U.S. history'\n",
      " 'U.S. territories and protectorates' 'Ukraine' 'Unemployment'\n",
      " 'United Kingdom' 'United Nations'\n",
      " 'Urban and suburban affairs and development' 'User charges and fees'\n",
      " 'Utah' \"Veterans' education, employment, rehabilitation\"\n",
      " \"Veterans' loans, housing, homeless programs\" \"Veterans' medical care\"\n",
      " \"Veterans' organizations and recognition\"\n",
      " \"Veterans' pensions and compensation\"\n",
      " 'Veterinary medicine and animal diseases' 'Vietnam' 'Violent crime'\n",
      " 'Virgin Islands' 'Virginia' 'Visas and passports'\n",
      " 'Vocational and technical education' 'Voting rights' 'Wages and earnings'\n",
      " 'War and emergency powers' 'War crimes, genocide, crimes against humanity'\n",
      " 'Washington State' 'Water quality' 'Water resources development'\n",
      " 'Water resources funding' 'Water storage' 'Water use and supply'\n",
      " 'Watersheds' 'West Bank' 'West Virginia' 'Wetlands'\n",
      " 'Wilderness and natural areas, wildlife refuges, wild rivers, habitats'\n",
      " 'Wildlife conservation and habitat protection' 'Wisconsin'\n",
      " 'Women in business' \"Women's education\" \"Women's employment\"\n",
      " \"Women's health\" \"Women's rights\" 'Worker safety and health'\n",
      " 'World health' 'Wyoming' 'Yemen' 'Youth employment and child labor'\n",
      " 'Zimbabwe']\n"
     ]
    }
   ],
   "source": [
    "print(bar)"
   ]
  },
  {
   "cell_type": "code",
   "execution_count": 23,
   "metadata": {
    "collapsed": false
   },
   "outputs": [
    {
     "name": "stdout",
     "output_type": "stream",
     "text": [
      "ASEAN countries\n"
     ]
    }
   ],
   "source": [
    "print(bar[0])"
   ]
  },
  {
   "cell_type": "code",
   "execution_count": 25,
   "metadata": {
    "collapsed": false
   },
   "outputs": [
    {
     "name": "stdout",
     "output_type": "stream",
     "text": [
      "Women's rights\n"
     ]
    }
   ],
   "source": [
    "print(bar[-7])"
   ]
  },
  {
   "cell_type": "code",
   "execution_count": 29,
   "metadata": {
    "collapsed": true
   },
   "outputs": [],
   "source": [
    "subs = pd.DataFrame()"
   ]
  },
  {
   "cell_type": "code",
   "execution_count": 35,
   "metadata": {
    "collapsed": false
   },
   "outputs": [
    {
     "data": {
      "text/html": [
       "<div>\n",
       "<table border=\"1\" class=\"dataframe\">\n",
       "  <thead>\n",
       "    <tr style=\"text-align: right;\">\n",
       "      <th></th>\n",
       "      <th>subjects</th>\n",
       "    </tr>\n",
       "  </thead>\n",
       "  <tbody>\n",
       "    <tr>\n",
       "      <th>0</th>\n",
       "      <td>ASEAN countries</td>\n",
       "    </tr>\n",
       "    <tr>\n",
       "      <th>1</th>\n",
       "      <td>Abortion</td>\n",
       "    </tr>\n",
       "    <tr>\n",
       "      <th>2</th>\n",
       "      <td>Academic performance and assessments</td>\n",
       "    </tr>\n",
       "    <tr>\n",
       "      <th>3</th>\n",
       "      <td>Access Board</td>\n",
       "    </tr>\n",
       "    <tr>\n",
       "      <th>4</th>\n",
       "      <td>Accidents</td>\n",
       "    </tr>\n",
       "    <tr>\n",
       "      <th>5</th>\n",
       "      <td>Accounting and auditing</td>\n",
       "    </tr>\n",
       "    <tr>\n",
       "      <th>6</th>\n",
       "      <td>Administrative Conference of the U.S.</td>\n",
       "    </tr>\n",
       "    <tr>\n",
       "      <th>7</th>\n",
       "      <td>Administrative law and regulatory procedures</td>\n",
       "    </tr>\n",
       "    <tr>\n",
       "      <th>8</th>\n",
       "      <td>Administrative remedies</td>\n",
       "    </tr>\n",
       "    <tr>\n",
       "      <th>9</th>\n",
       "      <td>Adoption and foster care</td>\n",
       "    </tr>\n",
       "    <tr>\n",
       "      <th>10</th>\n",
       "      <td>Adult education and literacy</td>\n",
       "    </tr>\n",
       "    <tr>\n",
       "      <th>11</th>\n",
       "      <td>Advanced technology and technological innovations</td>\n",
       "    </tr>\n",
       "    <tr>\n",
       "      <th>12</th>\n",
       "      <td>Advisory bodies</td>\n",
       "    </tr>\n",
       "    <tr>\n",
       "      <th>13</th>\n",
       "      <td>Afghanistan</td>\n",
       "    </tr>\n",
       "    <tr>\n",
       "      <th>14</th>\n",
       "      <td>Africa</td>\n",
       "    </tr>\n",
       "    <tr>\n",
       "      <th>15</th>\n",
       "      <td>African Development Foundation</td>\n",
       "    </tr>\n",
       "    <tr>\n",
       "      <th>16</th>\n",
       "      <td>Age discrimination</td>\n",
       "    </tr>\n",
       "    <tr>\n",
       "      <th>17</th>\n",
       "      <td>Aging</td>\n",
       "    </tr>\n",
       "    <tr>\n",
       "      <th>18</th>\n",
       "      <td>Agricultural conservation and pollution</td>\n",
       "    </tr>\n",
       "    <tr>\n",
       "      <th>19</th>\n",
       "      <td>Agricultural education</td>\n",
       "    </tr>\n",
       "    <tr>\n",
       "      <th>20</th>\n",
       "      <td>Agricultural insurance</td>\n",
       "    </tr>\n",
       "    <tr>\n",
       "      <th>21</th>\n",
       "      <td>Agricultural marketing and promotion</td>\n",
       "    </tr>\n",
       "    <tr>\n",
       "      <th>22</th>\n",
       "      <td>Agricultural practices and innovations</td>\n",
       "    </tr>\n",
       "    <tr>\n",
       "      <th>23</th>\n",
       "      <td>Agricultural prices, subsidies, credit</td>\n",
       "    </tr>\n",
       "    <tr>\n",
       "      <th>24</th>\n",
       "      <td>Agricultural research</td>\n",
       "    </tr>\n",
       "    <tr>\n",
       "      <th>25</th>\n",
       "      <td>Agricultural trade</td>\n",
       "    </tr>\n",
       "    <tr>\n",
       "      <th>26</th>\n",
       "      <td>Agriculture and food</td>\n",
       "    </tr>\n",
       "    <tr>\n",
       "      <th>27</th>\n",
       "      <td>Air quality</td>\n",
       "    </tr>\n",
       "    <tr>\n",
       "      <th>28</th>\n",
       "      <td>Alabama</td>\n",
       "    </tr>\n",
       "    <tr>\n",
       "      <th>29</th>\n",
       "      <td>Alaska</td>\n",
       "    </tr>\n",
       "    <tr>\n",
       "      <th>...</th>\n",
       "      <td>...</td>\n",
       "    </tr>\n",
       "    <tr>\n",
       "      <th>752</th>\n",
       "      <td>Virginia</td>\n",
       "    </tr>\n",
       "    <tr>\n",
       "      <th>753</th>\n",
       "      <td>Visas and passports</td>\n",
       "    </tr>\n",
       "    <tr>\n",
       "      <th>754</th>\n",
       "      <td>Vocational and technical education</td>\n",
       "    </tr>\n",
       "    <tr>\n",
       "      <th>755</th>\n",
       "      <td>Voting rights</td>\n",
       "    </tr>\n",
       "    <tr>\n",
       "      <th>756</th>\n",
       "      <td>Wages and earnings</td>\n",
       "    </tr>\n",
       "    <tr>\n",
       "      <th>757</th>\n",
       "      <td>War and emergency powers</td>\n",
       "    </tr>\n",
       "    <tr>\n",
       "      <th>758</th>\n",
       "      <td>War crimes, genocide, crimes against humanity</td>\n",
       "    </tr>\n",
       "    <tr>\n",
       "      <th>759</th>\n",
       "      <td>Washington State</td>\n",
       "    </tr>\n",
       "    <tr>\n",
       "      <th>760</th>\n",
       "      <td>Water quality</td>\n",
       "    </tr>\n",
       "    <tr>\n",
       "      <th>761</th>\n",
       "      <td>Water resources development</td>\n",
       "    </tr>\n",
       "    <tr>\n",
       "      <th>762</th>\n",
       "      <td>Water resources funding</td>\n",
       "    </tr>\n",
       "    <tr>\n",
       "      <th>763</th>\n",
       "      <td>Water storage</td>\n",
       "    </tr>\n",
       "    <tr>\n",
       "      <th>764</th>\n",
       "      <td>Water use and supply</td>\n",
       "    </tr>\n",
       "    <tr>\n",
       "      <th>765</th>\n",
       "      <td>Watersheds</td>\n",
       "    </tr>\n",
       "    <tr>\n",
       "      <th>766</th>\n",
       "      <td>West Bank</td>\n",
       "    </tr>\n",
       "    <tr>\n",
       "      <th>767</th>\n",
       "      <td>West Virginia</td>\n",
       "    </tr>\n",
       "    <tr>\n",
       "      <th>768</th>\n",
       "      <td>Wetlands</td>\n",
       "    </tr>\n",
       "    <tr>\n",
       "      <th>769</th>\n",
       "      <td>Wilderness and natural areas, wildlife refuges...</td>\n",
       "    </tr>\n",
       "    <tr>\n",
       "      <th>770</th>\n",
       "      <td>Wildlife conservation and habitat protection</td>\n",
       "    </tr>\n",
       "    <tr>\n",
       "      <th>771</th>\n",
       "      <td>Wisconsin</td>\n",
       "    </tr>\n",
       "    <tr>\n",
       "      <th>772</th>\n",
       "      <td>Women in business</td>\n",
       "    </tr>\n",
       "    <tr>\n",
       "      <th>773</th>\n",
       "      <td>Women's education</td>\n",
       "    </tr>\n",
       "    <tr>\n",
       "      <th>774</th>\n",
       "      <td>Women's employment</td>\n",
       "    </tr>\n",
       "    <tr>\n",
       "      <th>775</th>\n",
       "      <td>Women's health</td>\n",
       "    </tr>\n",
       "    <tr>\n",
       "      <th>776</th>\n",
       "      <td>Women's rights</td>\n",
       "    </tr>\n",
       "    <tr>\n",
       "      <th>777</th>\n",
       "      <td>Worker safety and health</td>\n",
       "    </tr>\n",
       "    <tr>\n",
       "      <th>778</th>\n",
       "      <td>World health</td>\n",
       "    </tr>\n",
       "    <tr>\n",
       "      <th>779</th>\n",
       "      <td>Wyoming</td>\n",
       "    </tr>\n",
       "    <tr>\n",
       "      <th>780</th>\n",
       "      <td>Yemen</td>\n",
       "    </tr>\n",
       "    <tr>\n",
       "      <th>781</th>\n",
       "      <td>Youth employment and child labor</td>\n",
       "    </tr>\n",
       "  </tbody>\n",
       "</table>\n",
       "<p>782 rows × 1 columns</p>\n",
       "</div>"
      ],
      "text/plain": [
       "                                              subjects\n",
       "0                                      ASEAN countries\n",
       "1                                             Abortion\n",
       "2                 Academic performance and assessments\n",
       "3                                         Access Board\n",
       "4                                            Accidents\n",
       "5                              Accounting and auditing\n",
       "6                Administrative Conference of the U.S.\n",
       "7         Administrative law and regulatory procedures\n",
       "8                              Administrative remedies\n",
       "9                             Adoption and foster care\n",
       "10                        Adult education and literacy\n",
       "11   Advanced technology and technological innovations\n",
       "12                                     Advisory bodies\n",
       "13                                         Afghanistan\n",
       "14                                              Africa\n",
       "15                      African Development Foundation\n",
       "16                                  Age discrimination\n",
       "17                                               Aging\n",
       "18             Agricultural conservation and pollution\n",
       "19                              Agricultural education\n",
       "20                              Agricultural insurance\n",
       "21                Agricultural marketing and promotion\n",
       "22              Agricultural practices and innovations\n",
       "23              Agricultural prices, subsidies, credit\n",
       "24                               Agricultural research\n",
       "25                                  Agricultural trade\n",
       "26                                Agriculture and food\n",
       "27                                         Air quality\n",
       "28                                             Alabama\n",
       "29                                              Alaska\n",
       "..                                                 ...\n",
       "752                                           Virginia\n",
       "753                                Visas and passports\n",
       "754                 Vocational and technical education\n",
       "755                                      Voting rights\n",
       "756                                 Wages and earnings\n",
       "757                           War and emergency powers\n",
       "758      War crimes, genocide, crimes against humanity\n",
       "759                                   Washington State\n",
       "760                                      Water quality\n",
       "761                        Water resources development\n",
       "762                            Water resources funding\n",
       "763                                      Water storage\n",
       "764                               Water use and supply\n",
       "765                                         Watersheds\n",
       "766                                          West Bank\n",
       "767                                      West Virginia\n",
       "768                                           Wetlands\n",
       "769  Wilderness and natural areas, wildlife refuges...\n",
       "770       Wildlife conservation and habitat protection\n",
       "771                                          Wisconsin\n",
       "772                                  Women in business\n",
       "773                                  Women's education\n",
       "774                                 Women's employment\n",
       "775                                     Women's health\n",
       "776                                     Women's rights\n",
       "777                           Worker safety and health\n",
       "778                                       World health\n",
       "779                                            Wyoming\n",
       "780                                              Yemen\n",
       "781                   Youth employment and child labor\n",
       "\n",
       "[782 rows x 1 columns]"
      ]
     },
     "execution_count": 35,
     "metadata": {},
     "output_type": "execute_result"
    }
   ],
   "source": [
    "subs['subjects'] = bar\n",
    "subs.head(-1)"
   ]
  },
  {
   "cell_type": "code",
   "execution_count": 36,
   "metadata": {
    "collapsed": true
   },
   "outputs": [],
   "source": [
    "#set up engine\n",
    "dbname = 'legislatr'\n",
    "engine = sqlCommands.get_engine(dbname)\n",
    "\n"
   ]
  },
  {
   "cell_type": "code",
   "execution_count": 38,
   "metadata": {
    "collapsed": false
   },
   "outputs": [],
   "source": [
    "sqlCommands.append_to_database(dbname,'topics',subs,engine)"
   ]
  },
  {
   "cell_type": "code",
   "execution_count": null,
   "metadata": {
    "collapsed": true
   },
   "outputs": [],
   "source": [
    "query = \"SELECT * FROM topics;\"\n",
    "\n",
    "bills_df = pd.read_sql_query(query,engine)"
   ]
  },
  {
   "cell_type": "code",
   "execution_count": null,
   "metadata": {
    "collapsed": true
   },
   "outputs": [],
   "source": []
  },
  {
   "cell_type": "code",
   "execution_count": null,
   "metadata": {
    "collapsed": true
   },
   "outputs": [],
   "source": []
  },
  {
   "cell_type": "code",
   "execution_count": 120,
   "metadata": {
    "collapsed": true
   },
   "outputs": [],
   "source": [
    "import os\n",
    "import numpy as np\n",
    "import pandas as pd\n",
    "import ujson as json\n",
    "from tqdm import tqdm\n",
    "from sqlCommands import append_to_database\n",
    "\n",
    "from dateutil.parser import parse as DateParser"
   ]
  },
  {
   "cell_type": "code",
   "execution_count": 121,
   "metadata": {
    "collapsed": false
   },
   "outputs": [],
   "source": [
    "bill_file = '/home/lordluen/Code/InsightDS/Legis_data/votes/108/bills/s/s1870/data.json'\n",
    "data = json.load(open(bill_file))"
   ]
  },
  {
   "cell_type": "code",
   "execution_count": null,
   "metadata": {
    "collapsed": false
   },
   "outputs": [],
   "source": []
  },
  {
   "cell_type": "code",
   "execution_count": null,
   "metadata": {
    "collapsed": false
   },
   "outputs": [],
   "source": []
  },
  {
   "cell_type": "code",
   "execution_count": 122,
   "metadata": {
    "collapsed": false
   },
   "outputs": [],
   "source": [
    "subjects=list(data['subjects'])\n",
    "top_subject=data['subjects_top_term']\n",
    "bill_type = data['bill_type']\n",
    "status = data['status']\n",
    "tsponsor = data['sponsor']\n",
    "intro_date = DateParser(data['introduced_at'])\n",
    "try:\n",
    "    final_date = DateParser((data['summary'])['date'])\n",
    "except:\n",
    "    final_date = DateParser('9999-09-09')\n",
    "if tsponsor['type'] == 'person': #lets only use bills from people, not committees. Since funding would be hard to trace otherwise.\n",
    "    sponsor = [tsponsor['title'],tsponsor['name'],tsponsor['state']]\n",
    "tcosponsors = data['cosponsors']\n",
    "cosponsors = list()\n",
    "if len(tcosponsors) > 0:\n",
    "    for co in tcosponsors:\n",
    "        cosponsors.append([co['title'],co['name'],co['state']])\n",
    "foo = pd.DataFrame()\n",
    "foo['subjects'] = [subjects]\n",
    "foo['top_subject'] = top_subject\n",
    "foo['bill_type'] = bill_type\n",
    "foo['status'] = status\n",
    "foo['sponsor'] = [sponsor]\n",
    "foo['cosponsors'] = [cosponsors]\n",
    "foo['intro_date'] = intro_date\n",
    "foo['final_date'] = final_date"
   ]
  },
  {
   "cell_type": "code",
   "execution_count": 123,
   "metadata": {
    "collapsed": false
   },
   "outputs": [
    {
     "data": {
      "text/html": [
       "<div>\n",
       "<table border=\"1\" class=\"dataframe\">\n",
       "  <thead>\n",
       "    <tr style=\"text-align: right;\">\n",
       "      <th></th>\n",
       "      <th>subjects</th>\n",
       "      <th>top_subject</th>\n",
       "      <th>bill_type</th>\n",
       "      <th>status</th>\n",
       "      <th>sponsor</th>\n",
       "      <th>cosponsors</th>\n",
       "      <th>intro_date</th>\n",
       "      <th>final_date</th>\n",
       "    </tr>\n",
       "  </thead>\n",
       "  <tbody>\n",
       "    <tr>\n",
       "      <th>0</th>\n",
       "      <td>[Labor and employment, Unemployment insurance]</td>\n",
       "      <td>Labor and employment</td>\n",
       "      <td>s</td>\n",
       "      <td>REFERRED</td>\n",
       "      <td>[Sen, Smith, Gordon H., OR]</td>\n",
       "      <td>[[Sen, Wyden, Ron, OR]]</td>\n",
       "      <td>2003-11-17</td>\n",
       "      <td>2003-11-17</td>\n",
       "    </tr>\n",
       "  </tbody>\n",
       "</table>\n",
       "</div>"
      ],
      "text/plain": [
       "                                         subjects           top_subject  \\\n",
       "0  [Labor and employment, Unemployment insurance]  Labor and employment   \n",
       "\n",
       "  bill_type    status                      sponsor               cosponsors  \\\n",
       "0         s  REFERRED  [Sen, Smith, Gordon H., OR]  [[Sen, Wyden, Ron, OR]]   \n",
       "\n",
       "  intro_date final_date  \n",
       "0 2003-11-17 2003-11-17  "
      ]
     },
     "execution_count": 123,
     "metadata": {},
     "output_type": "execute_result"
    }
   ],
   "source": [
    "foo"
   ]
  },
  {
   "cell_type": "code",
   "execution_count": 95,
   "metadata": {
    "collapsed": true
   },
   "outputs": [],
   "source": [
    "sponsor = info['sponsor']\n",
    "subjects = info['subjects']\n",
    "cosponsors = info['cosponsors']"
   ]
  },
  {
   "cell_type": "code",
   "execution_count": 96,
   "metadata": {
    "collapsed": false
   },
   "outputs": [
    {
     "name": "stdout",
     "output_type": "stream",
     "text": [
      "<class 'list'>\n",
      "<class 'list'>\n",
      "<class 'list'>\n"
     ]
    }
   ],
   "source": [
    "print(type(sponsor))\n",
    "print(type(subjects))\n",
    "print(type(cosponsors))"
   ]
  },
  {
   "cell_type": "code",
   "execution_count": 98,
   "metadata": {
    "collapsed": false
   },
   "outputs": [
    {
     "name": "stdout",
     "output_type": "stream",
     "text": [
      "['Rep', 'Weygand, Robert A.', 'RI']\n",
      "['Chemicals', 'Commerce', 'Dyes and dyeing', 'Environmental protection', 'Foreign trade and international finance', 'Tariff']\n",
      "[]\n"
     ]
    }
   ],
   "source": [
    "print(sponsor)\n",
    "print(subjects)\n",
    "print(cosponsors)"
   ]
  },
  {
   "cell_type": "code",
   "execution_count": 104,
   "metadata": {
    "collapsed": false
   },
   "outputs": [
    {
     "data": {
      "text/html": [
       "<div>\n",
       "<table border=\"1\" class=\"dataframe\">\n",
       "  <thead>\n",
       "    <tr style=\"text-align: right;\">\n",
       "      <th></th>\n",
       "      <th>sponsor</th>\n",
       "      <th>subjects</th>\n",
       "      <th>cosponsors</th>\n",
       "    </tr>\n",
       "  </thead>\n",
       "  <tbody>\n",
       "    <tr>\n",
       "      <th>0</th>\n",
       "      <td>[Rep, Weygand, Robert A., RI]</td>\n",
       "      <td>[Chemicals, Commerce, Dyes and dyeing, Environ...</td>\n",
       "      <td>[]</td>\n",
       "    </tr>\n",
       "  </tbody>\n",
       "</table>\n",
       "</div>"
      ],
      "text/plain": [
       "                         sponsor  \\\n",
       "0  [Rep, Weygand, Robert A., RI]   \n",
       "\n",
       "                                            subjects cosponsors  \n",
       "0  [Chemicals, Commerce, Dyes and dyeing, Environ...         []  "
      ]
     },
     "execution_count": 104,
     "metadata": {},
     "output_type": "execute_result"
    }
   ],
   "source": [
    "bar = pd.DataFrame()\n",
    "bar['sponsor'] = [sponsor]\n",
    "bar['subjects'] = [subjects]\n",
    "bar['cosponsors'] = [cosponsors]\n",
    "bar"
   ]
  },
  {
   "cell_type": "code",
   "execution_count": 94,
   "metadata": {
    "collapsed": false
   },
   "outputs": [
    {
     "ename": "ValueError",
     "evalue": "arrays must all be same length",
     "output_type": "error",
     "traceback": [
      "\u001b[1;31m---------------------------------------------------------------------------\u001b[0m",
      "\u001b[1;31mValueError\u001b[0m                                Traceback (most recent call last)",
      "\u001b[1;32m<ipython-input-94-c56d8d5ec5de>\u001b[0m in \u001b[0;36m<module>\u001b[1;34m()\u001b[0m\n\u001b[1;32m----> 1\u001b[1;33m \u001b[0mfoo\u001b[0m \u001b[1;33m=\u001b[0m \u001b[0mpd\u001b[0m\u001b[1;33m.\u001b[0m\u001b[0mDataFrame\u001b[0m\u001b[1;33m.\u001b[0m\u001b[0mfrom_dict\u001b[0m\u001b[1;33m(\u001b[0m\u001b[0minfo\u001b[0m\u001b[1;33m)\u001b[0m\u001b[1;33m\u001b[0m\u001b[0m\n\u001b[0m\u001b[0;32m      2\u001b[0m \u001b[0mfoo\u001b[0m\u001b[1;33m\u001b[0m\u001b[0m\n",
      "\u001b[1;32m/home/lordluen/anaconda2/envs/py3_env/lib/python3.5/site-packages/pandas/core/frame.py\u001b[0m in \u001b[0;36mfrom_dict\u001b[1;34m(cls, data, orient, dtype)\u001b[0m\n\u001b[0;32m    806\u001b[0m             \u001b[1;32mraise\u001b[0m \u001b[0mValueError\u001b[0m\u001b[1;33m(\u001b[0m\u001b[1;34m'only recognize index or columns for orient'\u001b[0m\u001b[1;33m)\u001b[0m\u001b[1;33m\u001b[0m\u001b[0m\n\u001b[0;32m    807\u001b[0m \u001b[1;33m\u001b[0m\u001b[0m\n\u001b[1;32m--> 808\u001b[1;33m         \u001b[1;32mreturn\u001b[0m \u001b[0mcls\u001b[0m\u001b[1;33m(\u001b[0m\u001b[0mdata\u001b[0m\u001b[1;33m,\u001b[0m \u001b[0mindex\u001b[0m\u001b[1;33m=\u001b[0m\u001b[0mindex\u001b[0m\u001b[1;33m,\u001b[0m \u001b[0mcolumns\u001b[0m\u001b[1;33m=\u001b[0m\u001b[0mcolumns\u001b[0m\u001b[1;33m,\u001b[0m \u001b[0mdtype\u001b[0m\u001b[1;33m=\u001b[0m\u001b[0mdtype\u001b[0m\u001b[1;33m)\u001b[0m\u001b[1;33m\u001b[0m\u001b[0m\n\u001b[0m\u001b[0;32m    809\u001b[0m \u001b[1;33m\u001b[0m\u001b[0m\n\u001b[0;32m    810\u001b[0m     \u001b[1;33m@\u001b[0m\u001b[0mdeprecate_kwarg\u001b[0m\u001b[1;33m(\u001b[0m\u001b[0mold_arg_name\u001b[0m\u001b[1;33m=\u001b[0m\u001b[1;34m'outtype'\u001b[0m\u001b[1;33m,\u001b[0m \u001b[0mnew_arg_name\u001b[0m\u001b[1;33m=\u001b[0m\u001b[1;34m'orient'\u001b[0m\u001b[1;33m)\u001b[0m\u001b[1;33m\u001b[0m\u001b[0m\n",
      "\u001b[1;32m/home/lordluen/anaconda2/envs/py3_env/lib/python3.5/site-packages/pandas/core/frame.py\u001b[0m in \u001b[0;36m__init__\u001b[1;34m(self, data, index, columns, dtype, copy)\u001b[0m\n\u001b[0;32m    221\u001b[0m                                  dtype=dtype, copy=copy)\n\u001b[0;32m    222\u001b[0m         \u001b[1;32melif\u001b[0m \u001b[0misinstance\u001b[0m\u001b[1;33m(\u001b[0m\u001b[0mdata\u001b[0m\u001b[1;33m,\u001b[0m \u001b[0mdict\u001b[0m\u001b[1;33m)\u001b[0m\u001b[1;33m:\u001b[0m\u001b[1;33m\u001b[0m\u001b[0m\n\u001b[1;32m--> 223\u001b[1;33m             \u001b[0mmgr\u001b[0m \u001b[1;33m=\u001b[0m \u001b[0mself\u001b[0m\u001b[1;33m.\u001b[0m\u001b[0m_init_dict\u001b[0m\u001b[1;33m(\u001b[0m\u001b[0mdata\u001b[0m\u001b[1;33m,\u001b[0m \u001b[0mindex\u001b[0m\u001b[1;33m,\u001b[0m \u001b[0mcolumns\u001b[0m\u001b[1;33m,\u001b[0m \u001b[0mdtype\u001b[0m\u001b[1;33m=\u001b[0m\u001b[0mdtype\u001b[0m\u001b[1;33m)\u001b[0m\u001b[1;33m\u001b[0m\u001b[0m\n\u001b[0m\u001b[0;32m    224\u001b[0m         \u001b[1;32melif\u001b[0m \u001b[0misinstance\u001b[0m\u001b[1;33m(\u001b[0m\u001b[0mdata\u001b[0m\u001b[1;33m,\u001b[0m \u001b[0mma\u001b[0m\u001b[1;33m.\u001b[0m\u001b[0mMaskedArray\u001b[0m\u001b[1;33m)\u001b[0m\u001b[1;33m:\u001b[0m\u001b[1;33m\u001b[0m\u001b[0m\n\u001b[0;32m    225\u001b[0m             \u001b[1;32mimport\u001b[0m \u001b[0mnumpy\u001b[0m\u001b[1;33m.\u001b[0m\u001b[0mma\u001b[0m\u001b[1;33m.\u001b[0m\u001b[0mmrecords\u001b[0m \u001b[1;32mas\u001b[0m \u001b[0mmrecords\u001b[0m\u001b[1;33m\u001b[0m\u001b[0m\n",
      "\u001b[1;32m/home/lordluen/anaconda2/envs/py3_env/lib/python3.5/site-packages/pandas/core/frame.py\u001b[0m in \u001b[0;36m_init_dict\u001b[1;34m(self, data, index, columns, dtype)\u001b[0m\n\u001b[0;32m    357\u001b[0m             \u001b[0marrays\u001b[0m \u001b[1;33m=\u001b[0m \u001b[1;33m[\u001b[0m\u001b[0mdata\u001b[0m\u001b[1;33m[\u001b[0m\u001b[0mk\u001b[0m\u001b[1;33m]\u001b[0m \u001b[1;32mfor\u001b[0m \u001b[0mk\u001b[0m \u001b[1;32min\u001b[0m \u001b[0mkeys\u001b[0m\u001b[1;33m]\u001b[0m\u001b[1;33m\u001b[0m\u001b[0m\n\u001b[0;32m    358\u001b[0m \u001b[1;33m\u001b[0m\u001b[0m\n\u001b[1;32m--> 359\u001b[1;33m         \u001b[1;32mreturn\u001b[0m \u001b[0m_arrays_to_mgr\u001b[0m\u001b[1;33m(\u001b[0m\u001b[0marrays\u001b[0m\u001b[1;33m,\u001b[0m \u001b[0mdata_names\u001b[0m\u001b[1;33m,\u001b[0m \u001b[0mindex\u001b[0m\u001b[1;33m,\u001b[0m \u001b[0mcolumns\u001b[0m\u001b[1;33m,\u001b[0m \u001b[0mdtype\u001b[0m\u001b[1;33m=\u001b[0m\u001b[0mdtype\u001b[0m\u001b[1;33m)\u001b[0m\u001b[1;33m\u001b[0m\u001b[0m\n\u001b[0m\u001b[0;32m    360\u001b[0m \u001b[1;33m\u001b[0m\u001b[0m\n\u001b[0;32m    361\u001b[0m     \u001b[1;32mdef\u001b[0m \u001b[0m_init_ndarray\u001b[0m\u001b[1;33m(\u001b[0m\u001b[0mself\u001b[0m\u001b[1;33m,\u001b[0m \u001b[0mvalues\u001b[0m\u001b[1;33m,\u001b[0m \u001b[0mindex\u001b[0m\u001b[1;33m,\u001b[0m \u001b[0mcolumns\u001b[0m\u001b[1;33m,\u001b[0m \u001b[0mdtype\u001b[0m\u001b[1;33m=\u001b[0m\u001b[1;32mNone\u001b[0m\u001b[1;33m,\u001b[0m \u001b[0mcopy\u001b[0m\u001b[1;33m=\u001b[0m\u001b[1;32mFalse\u001b[0m\u001b[1;33m)\u001b[0m\u001b[1;33m:\u001b[0m\u001b[1;33m\u001b[0m\u001b[0m\n",
      "\u001b[1;32m/home/lordluen/anaconda2/envs/py3_env/lib/python3.5/site-packages/pandas/core/frame.py\u001b[0m in \u001b[0;36m_arrays_to_mgr\u001b[1;34m(arrays, arr_names, index, columns, dtype)\u001b[0m\n\u001b[0;32m   5238\u001b[0m     \u001b[1;31m# figure out the index, if necessary\u001b[0m\u001b[1;33m\u001b[0m\u001b[1;33m\u001b[0m\u001b[0m\n\u001b[0;32m   5239\u001b[0m     \u001b[1;32mif\u001b[0m \u001b[0mindex\u001b[0m \u001b[1;32mis\u001b[0m \u001b[1;32mNone\u001b[0m\u001b[1;33m:\u001b[0m\u001b[1;33m\u001b[0m\u001b[0m\n\u001b[1;32m-> 5240\u001b[1;33m         \u001b[0mindex\u001b[0m \u001b[1;33m=\u001b[0m \u001b[0mextract_index\u001b[0m\u001b[1;33m(\u001b[0m\u001b[0marrays\u001b[0m\u001b[1;33m)\u001b[0m\u001b[1;33m\u001b[0m\u001b[0m\n\u001b[0m\u001b[0;32m   5241\u001b[0m     \u001b[1;32melse\u001b[0m\u001b[1;33m:\u001b[0m\u001b[1;33m\u001b[0m\u001b[0m\n\u001b[0;32m   5242\u001b[0m         \u001b[0mindex\u001b[0m \u001b[1;33m=\u001b[0m \u001b[0m_ensure_index\u001b[0m\u001b[1;33m(\u001b[0m\u001b[0mindex\u001b[0m\u001b[1;33m)\u001b[0m\u001b[1;33m\u001b[0m\u001b[0m\n",
      "\u001b[1;32m/home/lordluen/anaconda2/envs/py3_env/lib/python3.5/site-packages/pandas/core/frame.py\u001b[0m in \u001b[0;36mextract_index\u001b[1;34m(data)\u001b[0m\n\u001b[0;32m   5286\u001b[0m             \u001b[0mlengths\u001b[0m \u001b[1;33m=\u001b[0m \u001b[0mlist\u001b[0m\u001b[1;33m(\u001b[0m\u001b[0mset\u001b[0m\u001b[1;33m(\u001b[0m\u001b[0mraw_lengths\u001b[0m\u001b[1;33m)\u001b[0m\u001b[1;33m)\u001b[0m\u001b[1;33m\u001b[0m\u001b[0m\n\u001b[0;32m   5287\u001b[0m             \u001b[1;32mif\u001b[0m \u001b[0mlen\u001b[0m\u001b[1;33m(\u001b[0m\u001b[0mlengths\u001b[0m\u001b[1;33m)\u001b[0m \u001b[1;33m>\u001b[0m \u001b[1;36m1\u001b[0m\u001b[1;33m:\u001b[0m\u001b[1;33m\u001b[0m\u001b[0m\n\u001b[1;32m-> 5288\u001b[1;33m                 \u001b[1;32mraise\u001b[0m \u001b[0mValueError\u001b[0m\u001b[1;33m(\u001b[0m\u001b[1;34m'arrays must all be same length'\u001b[0m\u001b[1;33m)\u001b[0m\u001b[1;33m\u001b[0m\u001b[0m\n\u001b[0m\u001b[0;32m   5289\u001b[0m \u001b[1;33m\u001b[0m\u001b[0m\n\u001b[0;32m   5290\u001b[0m             \u001b[1;32mif\u001b[0m \u001b[0mhave_dicts\u001b[0m\u001b[1;33m:\u001b[0m\u001b[1;33m\u001b[0m\u001b[0m\n",
      "\u001b[1;31mValueError\u001b[0m: arrays must all be same length"
     ]
    }
   ],
   "source": [
    "foo = pd.DataFrame.from_dict(info)\n",
    "foo"
   ]
  },
  {
   "cell_type": "code",
   "execution_count": 89,
   "metadata": {
    "collapsed": false
   },
   "outputs": [
    {
     "name": "stdout",
     "output_type": "stream",
     "text": [
      "['Rep', 'Weygand, Robert A.', 'RI']\n"
     ]
    }
   ],
   "source": [
    "print(info['sponsor'])"
   ]
  },
  {
   "cell_type": "code",
   "execution_count": 82,
   "metadata": {
    "collapsed": false
   },
   "outputs": [
    {
     "ename": "IndexError",
     "evalue": "list index out of range",
     "output_type": "error",
     "traceback": [
      "\u001b[1;31m---------------------------------------------------------------------------\u001b[0m",
      "\u001b[1;31mIndexError\u001b[0m                                Traceback (most recent call last)",
      "\u001b[1;32m<ipython-input-82-460ca7fe8b08>\u001b[0m in \u001b[0;36m<module>\u001b[1;34m()\u001b[0m\n\u001b[1;32m----> 1\u001b[1;33m \u001b[0mfoo\u001b[0m \u001b[1;33m=\u001b[0m \u001b[0mcosponsors\u001b[0m\u001b[1;33m[\u001b[0m\u001b[1;36m0\u001b[0m\u001b[1;33m]\u001b[0m\u001b[1;33m\u001b[0m\u001b[0m\n\u001b[0m",
      "\u001b[1;31mIndexError\u001b[0m: list index out of range"
     ]
    }
   ],
   "source": [
    "foo = cosponsors[0]"
   ]
  },
  {
   "cell_type": "code",
   "execution_count": 73,
   "metadata": {
    "collapsed": false
   },
   "outputs": [
    {
     "name": "stdout",
     "output_type": "stream",
     "text": [
      "{'district': None, 'withdrawn_at': None, 'state': 'OR', 'sponsored_at': '2003-11-17', 'title': 'Sen', 'thomas_id': '01247', 'name': 'Wyden, Ron'}\n"
     ]
    }
   ],
   "source": [
    "print(foo)"
   ]
  },
  {
   "cell_type": "code",
   "execution_count": 74,
   "metadata": {
    "collapsed": false,
    "scrolled": true
   },
   "outputs": [
    {
     "name": "stdout",
     "output_type": "stream",
     "text": [
      "<class 'dict'>\n"
     ]
    }
   ],
   "source": [
    "print(type(foo))"
   ]
  },
  {
   "cell_type": "code",
   "execution_count": 75,
   "metadata": {
    "collapsed": false,
    "scrolled": true
   },
   "outputs": [
    {
     "name": "stdout",
     "output_type": "stream",
     "text": [
      "[[['Sen', 'Wyden, Ron', 'OR']]]\n"
     ]
    }
   ],
   "source": [
    "print(info['cosponsors'])"
   ]
  },
  {
   "cell_type": "code",
   "execution_count": 83,
   "metadata": {
    "collapsed": false
   },
   "outputs": [
    {
     "name": "stdout",
     "output_type": "stream",
     "text": [
      "{'sponsor': ['Rep', 'Weygand, Robert A.', 'RI'], 'cosponsors': [], 'status': 'REFERRED', 'top_subject': 'Foreign trade and international finance', 'type': 'hr', 'subjects': ['Chemicals', 'Commerce', 'Dyes and dyeing', 'Environmental protection', 'Foreign trade and international finance', 'Tariff']}\n"
     ]
    }
   ],
   "source": [
    "print(info)"
   ]
  },
  {
   "cell_type": "code",
   "execution_count": 84,
   "metadata": {
    "collapsed": false
   },
   "outputs": [
    {
     "name": "stdout",
     "output_type": "stream",
     "text": [
      "['Rep', 'Weygand, Robert A.', 'RI']\n",
      "<class 'list'>\n",
      "Rep\n",
      "Weygand, Robert A.\n",
      "RI\n"
     ]
    },
    {
     "data": {
      "text/html": [
       "<div>\n",
       "<table border=\"1\" class=\"dataframe\">\n",
       "  <thead>\n",
       "    <tr style=\"text-align: right;\">\n",
       "      <th></th>\n",
       "      <th>sponsor</th>\n",
       "    </tr>\n",
       "  </thead>\n",
       "  <tbody>\n",
       "    <tr>\n",
       "      <th>0</th>\n",
       "      <td>[Rep, Weygand, Robert A., RI]</td>\n",
       "    </tr>\n",
       "  </tbody>\n",
       "</table>\n",
       "</div>"
      ],
      "text/plain": [
       "                         sponsor\n",
       "0  [Rep, Weygand, Robert A., RI]"
      ]
     },
     "execution_count": 84,
     "metadata": {},
     "output_type": "execute_result"
    }
   ],
   "source": [
    "#bleh = ['a','b','c']\n",
    "bleh = info['sponsor']\n",
    "print(bleh)\n",
    "print(type(bleh))\n",
    "print(bleh[0])\n",
    "print(bleh[1])\n",
    "print(bleh[2])\n",
    "bar = pd.DataFrame(columns=['sponsor'])\n",
    "bar['sponsor'] = [bleh]\n",
    "#bar['sponsor'].loc[0] = list()\n",
    "#bar['sponsor'].iloc[0] = bar['sponsor'].iloc[0].append(bleh)\n",
    "bar.head(2)"
   ]
  },
  {
   "cell_type": "code",
   "execution_count": 91,
   "metadata": {
    "collapsed": false
   },
   "outputs": [
    {
     "ename": "ValueError",
     "evalue": "arrays must all be same length",
     "output_type": "error",
     "traceback": [
      "\u001b[1;31m---------------------------------------------------------------------------\u001b[0m",
      "\u001b[1;31mValueError\u001b[0m                                Traceback (most recent call last)",
      "\u001b[1;32m<ipython-input-91-c95dabf5915e>\u001b[0m in \u001b[0;36m<module>\u001b[1;34m()\u001b[0m\n\u001b[1;32m----> 1\u001b[1;33m \u001b[0mfoo\u001b[0m \u001b[1;33m=\u001b[0m \u001b[0mpd\u001b[0m\u001b[1;33m.\u001b[0m\u001b[0mDataFrame\u001b[0m\u001b[1;33m.\u001b[0m\u001b[0mfrom_dict\u001b[0m\u001b[1;33m(\u001b[0m\u001b[0minfo\u001b[0m\u001b[1;33m)\u001b[0m\u001b[1;33m\u001b[0m\u001b[0m\n\u001b[0m\u001b[0;32m      2\u001b[0m \u001b[1;31m#foo['sponsor'] = info['sponsor']\u001b[0m\u001b[1;33m\u001b[0m\u001b[1;33m\u001b[0m\u001b[0m\n\u001b[0;32m      3\u001b[0m \u001b[1;31m#foo['cosponsors'] = info['cosponsors']\u001b[0m\u001b[1;33m\u001b[0m\u001b[1;33m\u001b[0m\u001b[0m\n\u001b[0;32m      4\u001b[0m \u001b[1;31m#foo['status'] = info['status']\u001b[0m\u001b[1;33m\u001b[0m\u001b[1;33m\u001b[0m\u001b[0m\n\u001b[0;32m      5\u001b[0m \u001b[1;31m#foo['top_subject'] = info['top_subject']\u001b[0m\u001b[1;33m\u001b[0m\u001b[1;33m\u001b[0m\u001b[0m\n",
      "\u001b[1;32m/home/lordluen/anaconda2/envs/py3_env/lib/python3.5/site-packages/pandas/core/frame.py\u001b[0m in \u001b[0;36mfrom_dict\u001b[1;34m(cls, data, orient, dtype)\u001b[0m\n\u001b[0;32m    806\u001b[0m             \u001b[1;32mraise\u001b[0m \u001b[0mValueError\u001b[0m\u001b[1;33m(\u001b[0m\u001b[1;34m'only recognize index or columns for orient'\u001b[0m\u001b[1;33m)\u001b[0m\u001b[1;33m\u001b[0m\u001b[0m\n\u001b[0;32m    807\u001b[0m \u001b[1;33m\u001b[0m\u001b[0m\n\u001b[1;32m--> 808\u001b[1;33m         \u001b[1;32mreturn\u001b[0m \u001b[0mcls\u001b[0m\u001b[1;33m(\u001b[0m\u001b[0mdata\u001b[0m\u001b[1;33m,\u001b[0m \u001b[0mindex\u001b[0m\u001b[1;33m=\u001b[0m\u001b[0mindex\u001b[0m\u001b[1;33m,\u001b[0m \u001b[0mcolumns\u001b[0m\u001b[1;33m=\u001b[0m\u001b[0mcolumns\u001b[0m\u001b[1;33m,\u001b[0m \u001b[0mdtype\u001b[0m\u001b[1;33m=\u001b[0m\u001b[0mdtype\u001b[0m\u001b[1;33m)\u001b[0m\u001b[1;33m\u001b[0m\u001b[0m\n\u001b[0m\u001b[0;32m    809\u001b[0m \u001b[1;33m\u001b[0m\u001b[0m\n\u001b[0;32m    810\u001b[0m     \u001b[1;33m@\u001b[0m\u001b[0mdeprecate_kwarg\u001b[0m\u001b[1;33m(\u001b[0m\u001b[0mold_arg_name\u001b[0m\u001b[1;33m=\u001b[0m\u001b[1;34m'outtype'\u001b[0m\u001b[1;33m,\u001b[0m \u001b[0mnew_arg_name\u001b[0m\u001b[1;33m=\u001b[0m\u001b[1;34m'orient'\u001b[0m\u001b[1;33m)\u001b[0m\u001b[1;33m\u001b[0m\u001b[0m\n",
      "\u001b[1;32m/home/lordluen/anaconda2/envs/py3_env/lib/python3.5/site-packages/pandas/core/frame.py\u001b[0m in \u001b[0;36m__init__\u001b[1;34m(self, data, index, columns, dtype, copy)\u001b[0m\n\u001b[0;32m    221\u001b[0m                                  dtype=dtype, copy=copy)\n\u001b[0;32m    222\u001b[0m         \u001b[1;32melif\u001b[0m \u001b[0misinstance\u001b[0m\u001b[1;33m(\u001b[0m\u001b[0mdata\u001b[0m\u001b[1;33m,\u001b[0m \u001b[0mdict\u001b[0m\u001b[1;33m)\u001b[0m\u001b[1;33m:\u001b[0m\u001b[1;33m\u001b[0m\u001b[0m\n\u001b[1;32m--> 223\u001b[1;33m             \u001b[0mmgr\u001b[0m \u001b[1;33m=\u001b[0m \u001b[0mself\u001b[0m\u001b[1;33m.\u001b[0m\u001b[0m_init_dict\u001b[0m\u001b[1;33m(\u001b[0m\u001b[0mdata\u001b[0m\u001b[1;33m,\u001b[0m \u001b[0mindex\u001b[0m\u001b[1;33m,\u001b[0m \u001b[0mcolumns\u001b[0m\u001b[1;33m,\u001b[0m \u001b[0mdtype\u001b[0m\u001b[1;33m=\u001b[0m\u001b[0mdtype\u001b[0m\u001b[1;33m)\u001b[0m\u001b[1;33m\u001b[0m\u001b[0m\n\u001b[0m\u001b[0;32m    224\u001b[0m         \u001b[1;32melif\u001b[0m \u001b[0misinstance\u001b[0m\u001b[1;33m(\u001b[0m\u001b[0mdata\u001b[0m\u001b[1;33m,\u001b[0m \u001b[0mma\u001b[0m\u001b[1;33m.\u001b[0m\u001b[0mMaskedArray\u001b[0m\u001b[1;33m)\u001b[0m\u001b[1;33m:\u001b[0m\u001b[1;33m\u001b[0m\u001b[0m\n\u001b[0;32m    225\u001b[0m             \u001b[1;32mimport\u001b[0m \u001b[0mnumpy\u001b[0m\u001b[1;33m.\u001b[0m\u001b[0mma\u001b[0m\u001b[1;33m.\u001b[0m\u001b[0mmrecords\u001b[0m \u001b[1;32mas\u001b[0m \u001b[0mmrecords\u001b[0m\u001b[1;33m\u001b[0m\u001b[0m\n",
      "\u001b[1;32m/home/lordluen/anaconda2/envs/py3_env/lib/python3.5/site-packages/pandas/core/frame.py\u001b[0m in \u001b[0;36m_init_dict\u001b[1;34m(self, data, index, columns, dtype)\u001b[0m\n\u001b[0;32m    357\u001b[0m             \u001b[0marrays\u001b[0m \u001b[1;33m=\u001b[0m \u001b[1;33m[\u001b[0m\u001b[0mdata\u001b[0m\u001b[1;33m[\u001b[0m\u001b[0mk\u001b[0m\u001b[1;33m]\u001b[0m \u001b[1;32mfor\u001b[0m \u001b[0mk\u001b[0m \u001b[1;32min\u001b[0m \u001b[0mkeys\u001b[0m\u001b[1;33m]\u001b[0m\u001b[1;33m\u001b[0m\u001b[0m\n\u001b[0;32m    358\u001b[0m \u001b[1;33m\u001b[0m\u001b[0m\n\u001b[1;32m--> 359\u001b[1;33m         \u001b[1;32mreturn\u001b[0m \u001b[0m_arrays_to_mgr\u001b[0m\u001b[1;33m(\u001b[0m\u001b[0marrays\u001b[0m\u001b[1;33m,\u001b[0m \u001b[0mdata_names\u001b[0m\u001b[1;33m,\u001b[0m \u001b[0mindex\u001b[0m\u001b[1;33m,\u001b[0m \u001b[0mcolumns\u001b[0m\u001b[1;33m,\u001b[0m \u001b[0mdtype\u001b[0m\u001b[1;33m=\u001b[0m\u001b[0mdtype\u001b[0m\u001b[1;33m)\u001b[0m\u001b[1;33m\u001b[0m\u001b[0m\n\u001b[0m\u001b[0;32m    360\u001b[0m \u001b[1;33m\u001b[0m\u001b[0m\n\u001b[0;32m    361\u001b[0m     \u001b[1;32mdef\u001b[0m \u001b[0m_init_ndarray\u001b[0m\u001b[1;33m(\u001b[0m\u001b[0mself\u001b[0m\u001b[1;33m,\u001b[0m \u001b[0mvalues\u001b[0m\u001b[1;33m,\u001b[0m \u001b[0mindex\u001b[0m\u001b[1;33m,\u001b[0m \u001b[0mcolumns\u001b[0m\u001b[1;33m,\u001b[0m \u001b[0mdtype\u001b[0m\u001b[1;33m=\u001b[0m\u001b[1;32mNone\u001b[0m\u001b[1;33m,\u001b[0m \u001b[0mcopy\u001b[0m\u001b[1;33m=\u001b[0m\u001b[1;32mFalse\u001b[0m\u001b[1;33m)\u001b[0m\u001b[1;33m:\u001b[0m\u001b[1;33m\u001b[0m\u001b[0m\n",
      "\u001b[1;32m/home/lordluen/anaconda2/envs/py3_env/lib/python3.5/site-packages/pandas/core/frame.py\u001b[0m in \u001b[0;36m_arrays_to_mgr\u001b[1;34m(arrays, arr_names, index, columns, dtype)\u001b[0m\n\u001b[0;32m   5238\u001b[0m     \u001b[1;31m# figure out the index, if necessary\u001b[0m\u001b[1;33m\u001b[0m\u001b[1;33m\u001b[0m\u001b[0m\n\u001b[0;32m   5239\u001b[0m     \u001b[1;32mif\u001b[0m \u001b[0mindex\u001b[0m \u001b[1;32mis\u001b[0m \u001b[1;32mNone\u001b[0m\u001b[1;33m:\u001b[0m\u001b[1;33m\u001b[0m\u001b[0m\n\u001b[1;32m-> 5240\u001b[1;33m         \u001b[0mindex\u001b[0m \u001b[1;33m=\u001b[0m \u001b[0mextract_index\u001b[0m\u001b[1;33m(\u001b[0m\u001b[0marrays\u001b[0m\u001b[1;33m)\u001b[0m\u001b[1;33m\u001b[0m\u001b[0m\n\u001b[0m\u001b[0;32m   5241\u001b[0m     \u001b[1;32melse\u001b[0m\u001b[1;33m:\u001b[0m\u001b[1;33m\u001b[0m\u001b[0m\n\u001b[0;32m   5242\u001b[0m         \u001b[0mindex\u001b[0m \u001b[1;33m=\u001b[0m \u001b[0m_ensure_index\u001b[0m\u001b[1;33m(\u001b[0m\u001b[0mindex\u001b[0m\u001b[1;33m)\u001b[0m\u001b[1;33m\u001b[0m\u001b[0m\n",
      "\u001b[1;32m/home/lordluen/anaconda2/envs/py3_env/lib/python3.5/site-packages/pandas/core/frame.py\u001b[0m in \u001b[0;36mextract_index\u001b[1;34m(data)\u001b[0m\n\u001b[0;32m   5286\u001b[0m             \u001b[0mlengths\u001b[0m \u001b[1;33m=\u001b[0m \u001b[0mlist\u001b[0m\u001b[1;33m(\u001b[0m\u001b[0mset\u001b[0m\u001b[1;33m(\u001b[0m\u001b[0mraw_lengths\u001b[0m\u001b[1;33m)\u001b[0m\u001b[1;33m)\u001b[0m\u001b[1;33m\u001b[0m\u001b[0m\n\u001b[0;32m   5287\u001b[0m             \u001b[1;32mif\u001b[0m \u001b[0mlen\u001b[0m\u001b[1;33m(\u001b[0m\u001b[0mlengths\u001b[0m\u001b[1;33m)\u001b[0m \u001b[1;33m>\u001b[0m \u001b[1;36m1\u001b[0m\u001b[1;33m:\u001b[0m\u001b[1;33m\u001b[0m\u001b[0m\n\u001b[1;32m-> 5288\u001b[1;33m                 \u001b[1;32mraise\u001b[0m \u001b[0mValueError\u001b[0m\u001b[1;33m(\u001b[0m\u001b[1;34m'arrays must all be same length'\u001b[0m\u001b[1;33m)\u001b[0m\u001b[1;33m\u001b[0m\u001b[0m\n\u001b[0m\u001b[0;32m   5289\u001b[0m \u001b[1;33m\u001b[0m\u001b[0m\n\u001b[0;32m   5290\u001b[0m             \u001b[1;32mif\u001b[0m \u001b[0mhave_dicts\u001b[0m\u001b[1;33m:\u001b[0m\u001b[1;33m\u001b[0m\u001b[0m\n",
      "\u001b[1;31mValueError\u001b[0m: arrays must all be same length"
     ]
    }
   ],
   "source": [
    "foo = pd.DataFrame.from_dict(info)\n",
    "#foo['sponsor'] = info['sponsor']\n",
    "#foo['cosponsors'] = info['cosponsors']\n",
    "#foo['status'] = info['status']\n",
    "#foo['top_subject'] = info['top_subject']\n",
    "#foo['subjects'] = info['subjects']\n",
    "foo.head(-1)"
   ]
  },
  {
   "cell_type": "code",
   "execution_count": 10,
   "metadata": {
    "collapsed": false,
    "scrolled": true
   },
   "outputs": [
    {
     "ename": "ValueError",
     "evalue": "arrays must all be same length",
     "output_type": "error",
     "traceback": [
      "\u001b[1;31m---------------------------------------------------------------------------\u001b[0m",
      "\u001b[1;31mValueError\u001b[0m                                Traceback (most recent call last)",
      "\u001b[1;32m<ipython-input-10-200ec834eb8a>\u001b[0m in \u001b[0;36m<module>\u001b[1;34m()\u001b[0m\n\u001b[1;32m----> 1\u001b[1;33m \u001b[0mtemp\u001b[0m \u001b[1;33m=\u001b[0m \u001b[0mpd\u001b[0m\u001b[1;33m.\u001b[0m\u001b[0mDataFrame\u001b[0m\u001b[1;33m.\u001b[0m\u001b[0mfrom_dict\u001b[0m\u001b[1;33m(\u001b[0m\u001b[0minfo\u001b[0m\u001b[1;33m)\u001b[0m\u001b[1;33m\u001b[0m\u001b[0m\n\u001b[0m",
      "\u001b[1;32m/home/lordluen/anaconda2/envs/py3_env/lib/python3.5/site-packages/pandas/core/frame.py\u001b[0m in \u001b[0;36mfrom_dict\u001b[1;34m(cls, data, orient, dtype)\u001b[0m\n\u001b[0;32m    806\u001b[0m             \u001b[1;32mraise\u001b[0m \u001b[0mValueError\u001b[0m\u001b[1;33m(\u001b[0m\u001b[1;34m'only recognize index or columns for orient'\u001b[0m\u001b[1;33m)\u001b[0m\u001b[1;33m\u001b[0m\u001b[0m\n\u001b[0;32m    807\u001b[0m \u001b[1;33m\u001b[0m\u001b[0m\n\u001b[1;32m--> 808\u001b[1;33m         \u001b[1;32mreturn\u001b[0m \u001b[0mcls\u001b[0m\u001b[1;33m(\u001b[0m\u001b[0mdata\u001b[0m\u001b[1;33m,\u001b[0m \u001b[0mindex\u001b[0m\u001b[1;33m=\u001b[0m\u001b[0mindex\u001b[0m\u001b[1;33m,\u001b[0m \u001b[0mcolumns\u001b[0m\u001b[1;33m=\u001b[0m\u001b[0mcolumns\u001b[0m\u001b[1;33m,\u001b[0m \u001b[0mdtype\u001b[0m\u001b[1;33m=\u001b[0m\u001b[0mdtype\u001b[0m\u001b[1;33m)\u001b[0m\u001b[1;33m\u001b[0m\u001b[0m\n\u001b[0m\u001b[0;32m    809\u001b[0m \u001b[1;33m\u001b[0m\u001b[0m\n\u001b[0;32m    810\u001b[0m     \u001b[1;33m@\u001b[0m\u001b[0mdeprecate_kwarg\u001b[0m\u001b[1;33m(\u001b[0m\u001b[0mold_arg_name\u001b[0m\u001b[1;33m=\u001b[0m\u001b[1;34m'outtype'\u001b[0m\u001b[1;33m,\u001b[0m \u001b[0mnew_arg_name\u001b[0m\u001b[1;33m=\u001b[0m\u001b[1;34m'orient'\u001b[0m\u001b[1;33m)\u001b[0m\u001b[1;33m\u001b[0m\u001b[0m\n",
      "\u001b[1;32m/home/lordluen/anaconda2/envs/py3_env/lib/python3.5/site-packages/pandas/core/frame.py\u001b[0m in \u001b[0;36m__init__\u001b[1;34m(self, data, index, columns, dtype, copy)\u001b[0m\n\u001b[0;32m    221\u001b[0m                                  dtype=dtype, copy=copy)\n\u001b[0;32m    222\u001b[0m         \u001b[1;32melif\u001b[0m \u001b[0misinstance\u001b[0m\u001b[1;33m(\u001b[0m\u001b[0mdata\u001b[0m\u001b[1;33m,\u001b[0m \u001b[0mdict\u001b[0m\u001b[1;33m)\u001b[0m\u001b[1;33m:\u001b[0m\u001b[1;33m\u001b[0m\u001b[0m\n\u001b[1;32m--> 223\u001b[1;33m             \u001b[0mmgr\u001b[0m \u001b[1;33m=\u001b[0m \u001b[0mself\u001b[0m\u001b[1;33m.\u001b[0m\u001b[0m_init_dict\u001b[0m\u001b[1;33m(\u001b[0m\u001b[0mdata\u001b[0m\u001b[1;33m,\u001b[0m \u001b[0mindex\u001b[0m\u001b[1;33m,\u001b[0m \u001b[0mcolumns\u001b[0m\u001b[1;33m,\u001b[0m \u001b[0mdtype\u001b[0m\u001b[1;33m=\u001b[0m\u001b[0mdtype\u001b[0m\u001b[1;33m)\u001b[0m\u001b[1;33m\u001b[0m\u001b[0m\n\u001b[0m\u001b[0;32m    224\u001b[0m         \u001b[1;32melif\u001b[0m \u001b[0misinstance\u001b[0m\u001b[1;33m(\u001b[0m\u001b[0mdata\u001b[0m\u001b[1;33m,\u001b[0m \u001b[0mma\u001b[0m\u001b[1;33m.\u001b[0m\u001b[0mMaskedArray\u001b[0m\u001b[1;33m)\u001b[0m\u001b[1;33m:\u001b[0m\u001b[1;33m\u001b[0m\u001b[0m\n\u001b[0;32m    225\u001b[0m             \u001b[1;32mimport\u001b[0m \u001b[0mnumpy\u001b[0m\u001b[1;33m.\u001b[0m\u001b[0mma\u001b[0m\u001b[1;33m.\u001b[0m\u001b[0mmrecords\u001b[0m \u001b[1;32mas\u001b[0m \u001b[0mmrecords\u001b[0m\u001b[1;33m\u001b[0m\u001b[0m\n",
      "\u001b[1;32m/home/lordluen/anaconda2/envs/py3_env/lib/python3.5/site-packages/pandas/core/frame.py\u001b[0m in \u001b[0;36m_init_dict\u001b[1;34m(self, data, index, columns, dtype)\u001b[0m\n\u001b[0;32m    357\u001b[0m             \u001b[0marrays\u001b[0m \u001b[1;33m=\u001b[0m \u001b[1;33m[\u001b[0m\u001b[0mdata\u001b[0m\u001b[1;33m[\u001b[0m\u001b[0mk\u001b[0m\u001b[1;33m]\u001b[0m \u001b[1;32mfor\u001b[0m \u001b[0mk\u001b[0m \u001b[1;32min\u001b[0m \u001b[0mkeys\u001b[0m\u001b[1;33m]\u001b[0m\u001b[1;33m\u001b[0m\u001b[0m\n\u001b[0;32m    358\u001b[0m \u001b[1;33m\u001b[0m\u001b[0m\n\u001b[1;32m--> 359\u001b[1;33m         \u001b[1;32mreturn\u001b[0m \u001b[0m_arrays_to_mgr\u001b[0m\u001b[1;33m(\u001b[0m\u001b[0marrays\u001b[0m\u001b[1;33m,\u001b[0m \u001b[0mdata_names\u001b[0m\u001b[1;33m,\u001b[0m \u001b[0mindex\u001b[0m\u001b[1;33m,\u001b[0m \u001b[0mcolumns\u001b[0m\u001b[1;33m,\u001b[0m \u001b[0mdtype\u001b[0m\u001b[1;33m=\u001b[0m\u001b[0mdtype\u001b[0m\u001b[1;33m)\u001b[0m\u001b[1;33m\u001b[0m\u001b[0m\n\u001b[0m\u001b[0;32m    360\u001b[0m \u001b[1;33m\u001b[0m\u001b[0m\n\u001b[0;32m    361\u001b[0m     \u001b[1;32mdef\u001b[0m \u001b[0m_init_ndarray\u001b[0m\u001b[1;33m(\u001b[0m\u001b[0mself\u001b[0m\u001b[1;33m,\u001b[0m \u001b[0mvalues\u001b[0m\u001b[1;33m,\u001b[0m \u001b[0mindex\u001b[0m\u001b[1;33m,\u001b[0m \u001b[0mcolumns\u001b[0m\u001b[1;33m,\u001b[0m \u001b[0mdtype\u001b[0m\u001b[1;33m=\u001b[0m\u001b[1;32mNone\u001b[0m\u001b[1;33m,\u001b[0m \u001b[0mcopy\u001b[0m\u001b[1;33m=\u001b[0m\u001b[1;32mFalse\u001b[0m\u001b[1;33m)\u001b[0m\u001b[1;33m:\u001b[0m\u001b[1;33m\u001b[0m\u001b[0m\n",
      "\u001b[1;32m/home/lordluen/anaconda2/envs/py3_env/lib/python3.5/site-packages/pandas/core/frame.py\u001b[0m in \u001b[0;36m_arrays_to_mgr\u001b[1;34m(arrays, arr_names, index, columns, dtype)\u001b[0m\n\u001b[0;32m   5238\u001b[0m     \u001b[1;31m# figure out the index, if necessary\u001b[0m\u001b[1;33m\u001b[0m\u001b[1;33m\u001b[0m\u001b[0m\n\u001b[0;32m   5239\u001b[0m     \u001b[1;32mif\u001b[0m \u001b[0mindex\u001b[0m \u001b[1;32mis\u001b[0m \u001b[1;32mNone\u001b[0m\u001b[1;33m:\u001b[0m\u001b[1;33m\u001b[0m\u001b[0m\n\u001b[1;32m-> 5240\u001b[1;33m         \u001b[0mindex\u001b[0m \u001b[1;33m=\u001b[0m \u001b[0mextract_index\u001b[0m\u001b[1;33m(\u001b[0m\u001b[0marrays\u001b[0m\u001b[1;33m)\u001b[0m\u001b[1;33m\u001b[0m\u001b[0m\n\u001b[0m\u001b[0;32m   5241\u001b[0m     \u001b[1;32melse\u001b[0m\u001b[1;33m:\u001b[0m\u001b[1;33m\u001b[0m\u001b[0m\n\u001b[0;32m   5242\u001b[0m         \u001b[0mindex\u001b[0m \u001b[1;33m=\u001b[0m \u001b[0m_ensure_index\u001b[0m\u001b[1;33m(\u001b[0m\u001b[0mindex\u001b[0m\u001b[1;33m)\u001b[0m\u001b[1;33m\u001b[0m\u001b[0m\n",
      "\u001b[1;32m/home/lordluen/anaconda2/envs/py3_env/lib/python3.5/site-packages/pandas/core/frame.py\u001b[0m in \u001b[0;36mextract_index\u001b[1;34m(data)\u001b[0m\n\u001b[0;32m   5286\u001b[0m             \u001b[0mlengths\u001b[0m \u001b[1;33m=\u001b[0m \u001b[0mlist\u001b[0m\u001b[1;33m(\u001b[0m\u001b[0mset\u001b[0m\u001b[1;33m(\u001b[0m\u001b[0mraw_lengths\u001b[0m\u001b[1;33m)\u001b[0m\u001b[1;33m)\u001b[0m\u001b[1;33m\u001b[0m\u001b[0m\n\u001b[0;32m   5287\u001b[0m             \u001b[1;32mif\u001b[0m \u001b[0mlen\u001b[0m\u001b[1;33m(\u001b[0m\u001b[0mlengths\u001b[0m\u001b[1;33m)\u001b[0m \u001b[1;33m>\u001b[0m \u001b[1;36m1\u001b[0m\u001b[1;33m:\u001b[0m\u001b[1;33m\u001b[0m\u001b[0m\n\u001b[1;32m-> 5288\u001b[1;33m                 \u001b[1;32mraise\u001b[0m \u001b[0mValueError\u001b[0m\u001b[1;33m(\u001b[0m\u001b[1;34m'arrays must all be same length'\u001b[0m\u001b[1;33m)\u001b[0m\u001b[1;33m\u001b[0m\u001b[0m\n\u001b[0m\u001b[0;32m   5289\u001b[0m \u001b[1;33m\u001b[0m\u001b[0m\n\u001b[0;32m   5290\u001b[0m             \u001b[1;32mif\u001b[0m \u001b[0mhave_dicts\u001b[0m\u001b[1;33m:\u001b[0m\u001b[1;33m\u001b[0m\u001b[0m\n",
      "\u001b[1;31mValueError\u001b[0m: arrays must all be same length"
     ]
    }
   ],
   "source": [
    "temp = pd.DataFrame.from_dict(info)"
   ]
  },
  {
   "cell_type": "code",
   "execution_count": 1,
   "metadata": {
    "collapsed": false
   },
   "outputs": [
    {
     "name": "stdout",
     "output_type": "stream",
     "text": [
      "Populating the interactive namespace from numpy and matplotlib\n"
     ]
    }
   ],
   "source": [
    "%pylab inline\n",
    "import pandas as pd\n",
    "import contributions\n",
    "import votes\n",
    "import bills\n",
    "import sqlCommands\n",
    "from peoplefinder import PeopleFinder\n",
    "from operator import attrgetter\n",
    "from sqlalchemy import create_engine\n",
    "from sqlalchemy_utils import database_exists, create_database\n",
    "import psycopg2\n",
    "from tqdm import tqdm\n",
    "\n",
    "#set up postgresql engine\n",
    "dbname = 'legislatr'\n",
    "engine = sqlCommands.get_engine(dbname)\n",
    "conn = psycopg2.connect(\"dbname='legislatr' user='lordluen' host='localhost'\")\n",
    "cur = conn.cursor()\n",
    "\n",
    "query = \"SELECT * FROM allbills LIMIT 5;\"\n",
    "foo = pd.read_sql_query(query,engine)"
   ]
  },
  {
   "cell_type": "code",
   "execution_count": 2,
   "metadata": {
    "collapsed": false
   },
   "outputs": [
    {
     "data": {
      "text/html": [
       "<div>\n",
       "<table border=\"1\" class=\"dataframe\">\n",
       "  <thead>\n",
       "    <tr style=\"text-align: right;\">\n",
       "      <th></th>\n",
       "      <th>index</th>\n",
       "      <th>subjects</th>\n",
       "      <th>top_subject</th>\n",
       "      <th>bill_type</th>\n",
       "      <th>bill_number</th>\n",
       "      <th>status</th>\n",
       "      <th>result</th>\n",
       "      <th>sponsor</th>\n",
       "      <th>cosponsors</th>\n",
       "      <th>intro_date</th>\n",
       "      <th>final_date</th>\n",
       "    </tr>\n",
       "  </thead>\n",
       "  <tbody>\n",
       "    <tr>\n",
       "      <th>0</th>\n",
       "      <td>0</td>\n",
       "      <td>{\"Administrative law and regulatory procedures...</td>\n",
       "      <td>Social welfare</td>\n",
       "      <td>s</td>\n",
       "      <td>1870</td>\n",
       "      <td>REPORTED</td>\n",
       "      <td>2</td>\n",
       "      <td>{Sen,\"Baucus, Max\",MT}</td>\n",
       "      <td>{}</td>\n",
       "      <td>2013-12-19</td>\n",
       "      <td>2013-12-19</td>\n",
       "    </tr>\n",
       "    <tr>\n",
       "      <th>1</th>\n",
       "      <td>0</td>\n",
       "      <td>{\"Aquatic ecology\",\"Congressional oversight\",F...</td>\n",
       "      <td>Water resources development</td>\n",
       "      <td>s</td>\n",
       "      <td>125</td>\n",
       "      <td>REFERRED</td>\n",
       "      <td>2</td>\n",
       "      <td>{Sen,\"Brown, Sherrod\",OH}</td>\n",
       "      <td>{{Sen,\"Casey, Robert P., Jr.\",PA},{Sen,\"Franke...</td>\n",
       "      <td>2013-01-24</td>\n",
       "      <td>2013-01-24</td>\n",
       "    </tr>\n",
       "    <tr>\n",
       "      <th>2</th>\n",
       "      <td>0</td>\n",
       "      <td>{\"Congressional oversight\",\"Department of Heal...</td>\n",
       "      <td>Health</td>\n",
       "      <td>s</td>\n",
       "      <td>1027</td>\n",
       "      <td>REFERRED</td>\n",
       "      <td>2</td>\n",
       "      <td>{Sen,\"Kirk, Mark Steven\",IL}</td>\n",
       "      <td>{{Sen,\"Hatch, Orrin G.\",UT},{Sen,\"Johnson, Tim...</td>\n",
       "      <td>2013-05-22</td>\n",
       "      <td>2013-05-22</td>\n",
       "    </tr>\n",
       "    <tr>\n",
       "      <th>3</th>\n",
       "      <td>0</td>\n",
       "      <td>{California,\"Firearms and explosives\",Fires,\"H...</td>\n",
       "      <td>Public lands and natural resources</td>\n",
       "      <td>s</td>\n",
       "      <td>1309</td>\n",
       "      <td>REPORTED</td>\n",
       "      <td>2</td>\n",
       "      <td>{Sen,\"Wyden, Ron\",OR}</td>\n",
       "      <td>{}</td>\n",
       "      <td>2013-07-16</td>\n",
       "      <td>2014-05-14</td>\n",
       "    </tr>\n",
       "    <tr>\n",
       "      <th>4</th>\n",
       "      <td>0</td>\n",
       "      <td>{Appropriations,Education,\"Education programs ...</td>\n",
       "      <td>Education</td>\n",
       "      <td>s</td>\n",
       "      <td>2194</td>\n",
       "      <td>REFERRED</td>\n",
       "      <td>2</td>\n",
       "      <td>{Sen,\"Hirono, Mazie K.\",HI}</td>\n",
       "      <td>{{Sen,\"Gillibrand, Kirsten E.\",NY},{Sen,\"Marke...</td>\n",
       "      <td>2014-04-01</td>\n",
       "      <td>2014-04-01</td>\n",
       "    </tr>\n",
       "  </tbody>\n",
       "</table>\n",
       "</div>"
      ],
      "text/plain": [
       "   index                                           subjects  \\\n",
       "0      0  {\"Administrative law and regulatory procedures...   \n",
       "1      0  {\"Aquatic ecology\",\"Congressional oversight\",F...   \n",
       "2      0  {\"Congressional oversight\",\"Department of Heal...   \n",
       "3      0  {California,\"Firearms and explosives\",Fires,\"H...   \n",
       "4      0  {Appropriations,Education,\"Education programs ...   \n",
       "\n",
       "                          top_subject bill_type bill_number    status  result  \\\n",
       "0                      Social welfare         s        1870  REPORTED       2   \n",
       "1         Water resources development         s         125  REFERRED       2   \n",
       "2                              Health         s        1027  REFERRED       2   \n",
       "3  Public lands and natural resources         s        1309  REPORTED       2   \n",
       "4                           Education         s        2194  REFERRED       2   \n",
       "\n",
       "                        sponsor  \\\n",
       "0        {Sen,\"Baucus, Max\",MT}   \n",
       "1     {Sen,\"Brown, Sherrod\",OH}   \n",
       "2  {Sen,\"Kirk, Mark Steven\",IL}   \n",
       "3         {Sen,\"Wyden, Ron\",OR}   \n",
       "4   {Sen,\"Hirono, Mazie K.\",HI}   \n",
       "\n",
       "                                          cosponsors intro_date final_date  \n",
       "0                                                 {} 2013-12-19 2013-12-19  \n",
       "1  {{Sen,\"Casey, Robert P., Jr.\",PA},{Sen,\"Franke... 2013-01-24 2013-01-24  \n",
       "2  {{Sen,\"Hatch, Orrin G.\",UT},{Sen,\"Johnson, Tim... 2013-05-22 2013-05-22  \n",
       "3                                                 {} 2013-07-16 2014-05-14  \n",
       "4  {{Sen,\"Gillibrand, Kirsten E.\",NY},{Sen,\"Marke... 2014-04-01 2014-04-01  "
      ]
     },
     "execution_count": 2,
     "metadata": {},
     "output_type": "execute_result"
    }
   ],
   "source": [
    "foo"
   ]
  },
  {
   "cell_type": "code",
   "execution_count": 5,
   "metadata": {
    "collapsed": false
   },
   "outputs": [
    {
     "name": "stdout",
     "output_type": "stream",
     "text": [
      "C\n"
     ]
    }
   ],
   "source": [
    "print, foo.subjects.iloc[3]\n",
    "bar = foo.subjects.iloc[3]\n",
    "print(bar[1])"
   ]
  },
  {
   "cell_type": "code",
   "execution_count": null,
   "metadata": {
    "collapsed": true
   },
   "outputs": [],
   "source": []
  }
 ],
 "metadata": {
  "kernelspec": {
   "display_name": "Python 3",
   "language": "python",
   "name": "python3"
  },
  "language_info": {
   "codemirror_mode": {
    "name": "ipython",
    "version": 3
   },
   "file_extension": ".py",
   "mimetype": "text/x-python",
   "name": "python",
   "nbconvert_exporter": "python",
   "pygments_lexer": "ipython3",
   "version": "3.5.1"
  }
 },
 "nbformat": 4,
 "nbformat_minor": 0
}
