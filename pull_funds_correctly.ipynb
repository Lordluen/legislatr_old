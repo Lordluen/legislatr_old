{
 "cells": [
  {
   "cell_type": "code",
   "execution_count": 1,
   "metadata": {
    "collapsed": false
   },
   "outputs": [
    {
     "name": "stdout",
     "output_type": "stream",
     "text": [
      "Populating the interactive namespace from numpy and matplotlib\n"
     ]
    }
   ],
   "source": [
    "#load everything\n",
    "%pylab inline\n",
    "import pandas as pd\n",
    "import contributions\n",
    "import votes\n",
    "import bills\n",
    "import sqlCommands\n",
    "from peoplefinder import PeopleFinder\n",
    "from fuzzywuzzy import fuzz\n",
    "from fuzzywuzzy import process\n",
    "import re\n",
    "from tqdm import tqdm\n",
    "\n",
    "from operator import attrgetter\n",
    "\n",
    "dbname = 'legislatr'\n",
    "engine = sqlCommands.get_engine(dbname)"
   ]
  },
  {
   "cell_type": "code",
   "execution_count": 2,
   "metadata": {
    "collapsed": true
   },
   "outputs": [],
   "source": [
    "#assume given bill number, type, and congress\n",
    "bill_number = '4387'\n",
    "bill_type = 'hr'\n",
    "congress = '113'\n",
    "\n",
    "#load bill\n",
    "query = \"SELECT * FROM features_legis WHERE bill_type LIKE '\"+bill_type+\"' AND bill_number LIKE '\"+bill_number+\"' AND congress = '\"+congress+\"' ;\" #should only be one match.\n",
    "bill_legis = pd.read_sql_query(query,engine) #note to self, bills repeat, I only want the most recent one.\n",
    "#drop useless columns.\n",
    "bill_legis = bill_legis.drop(['bill_type','bill_number','congress','num_amends','index','status','result','final_result'],1)\n",
    "#read in legislator info\n",
    "legis = pd.read_sql_table('sponsor_list_det',engine)"
   ]
  },
  {
   "cell_type": "code",
   "execution_count": 3,
   "metadata": {
    "collapsed": false
   },
   "outputs": [
    {
     "name": "stdout",
     "output_type": "stream",
     "text": [
      "869\n",
      "869\n"
     ]
    }
   ],
   "source": [
    "cols = bill_legis.columns.tolist()\n",
    "mat = bill_legis.as_matrix().flatten().tolist()\n",
    "print(len(mat))\n",
    "print(len(cols))"
   ]
  },
  {
   "cell_type": "code",
   "execution_count": 4,
   "metadata": {
    "collapsed": false
   },
   "outputs": [
    {
     "name": "stdout",
     "output_type": "stream",
     "text": [
      "['Rep,\"Bachus, Spencer\",AL', 'Rep,\"Cotton, Tom\",AR', 'Rep,\"Fincher, Stephen Lee\",TN', 'Rep,\"Garrett, Scott\",NJ', 'Rep,\"Hultgren, Randy\",IL', 'Rep,\"Hurt, Robert\",VA', 'Rep,\"Mulvaney, Mick\",SC', 'Rep,\"Peters, Gary C.\",MI', 'Rep,\"Pittenger, Robert\",NC', 'Rep,\"Ross, Dennis A.\",FL', 'Rep,\"Rothfus, Keith J.\",PA', 'Rep,\"Stivers, Steve\",OH', 'Rep,\"Wagner, Ann\",MO', 'Rep,\"Westmoreland, Lynn A.\",GA']\n"
     ]
    }
   ],
   "source": [
    "#list of legislators on bill\n",
    "legislators = list()\n",
    "for leg in range(0,len(cols)):\n",
    "    if mat[leg] == 1:\n",
    "        legislators.append(cols[leg])\n",
    "print(legislators)"
   ]
  },
  {
   "cell_type": "code",
   "execution_count": 6,
   "metadata": {
    "collapsed": false
   },
   "outputs": [
    {
     "name": "stderr",
     "output_type": "stream",
     "text": [
      "100%|██████████| 14/14 [00:12<00:00,  1.18it/s]\n"
     ]
    }
   ],
   "source": [
    "#loop through legislators and give each two dataframes, linking contributors and amounts\n",
    "legis_contribs = list()\n",
    "legis_names = list()\n",
    "for leg in tqdm(legislators): #should be fast\n",
    "    #first get row in legis\n",
    "    legis_ind = legis[legis.sponsor == leg]\n",
    "    ind_legis_contrib = contributions.pull_contributions(legis_ind,legis,engine)\n",
    "    legis_names.append(legis_ind.qsponsor.iloc[0])\n",
    "    u_reg = np.unique(ind_legis_contrib.registrantid)\n",
    "    reg_dict = {'rid':list(), 'name':list(), 'amount':list()}\n",
    "    for rid in u_reg:\n",
    "        matches = ind_legis_contrib[ind_legis_contrib.registrantid == rid]\n",
    "        reg_dict['rid'].append(rid)\n",
    "        reg_dict['name'].append(matches.registrantname.iloc[0])\n",
    "        reg_dict['amount'].append(np.sum(matches.amount))\n",
    "    legis_contribs.append(pd.DataFrame.from_dict(reg_dict))    #dataframe with contributor names and id's"
   ]
  },
  {
   "cell_type": "code",
   "execution_count": null,
   "metadata": {
    "collapsed": true
   },
   "outputs": [],
   "source": []
  },
  {
   "cell_type": "code",
   "execution_count": 26,
   "metadata": {
    "collapsed": false
   },
   "outputs": [],
   "source": [
    "ind_legis_contrib = contributions.pull_contributions(leg_ind,all_legis,engine)"
   ]
  },
  {
   "cell_type": "code",
   "execution_count": 27,
   "metadata": {
    "collapsed": false,
    "scrolled": true
   },
   "outputs": [
    {
     "data": {
      "text/plain": [
       "index                                   163\n",
       "registrantname      The Grossman Group, LLC\n",
       "received                2009-04-08 10:43:07\n",
       "year                                   2008\n",
       "amount                                  500\n",
       "honoree               Rep. Neil Abercrombie\n",
       "contributiondate        2008-06-30 00:00:00\n",
       "registrantid                          87814\n",
       "contributiontype                       FECA\n",
       "Name: 0, dtype: object"
      ]
     },
     "execution_count": 27,
     "metadata": {},
     "output_type": "execute_result"
    }
   ],
   "source": [
    "ind_legis_contrib.iloc[0]"
   ]
  },
  {
   "cell_type": "code",
   "execution_count": 28,
   "metadata": {
    "collapsed": true
   },
   "outputs": [],
   "source": [
    "#get all unique contributors using rid\n",
    "u_reg = np.unique(ind_legis_contrib.registrantid) #all unique contributors"
   ]
  },
  {
   "cell_type": "code",
   "execution_count": 34,
   "metadata": {
    "collapsed": false
   },
   "outputs": [],
   "source": [
    "#loop over rid and sum up totals.\n",
    "#summed_ind_legis_contrib = pd.DataFrame(columns=str(u_reg))\n",
    "reg_name_dict = {'rid':list(), 'name':list()}\n",
    "reg_money_dict = {'rid':list(), 'amount':list()}\n",
    "\n",
    "#contrib_names = pd.DataFrame(columns=['rid','name'])\n",
    "#contrib_amount = pd.DataFrame(columns=['rid','amount'])\n",
    "for rid in u_reg:\n",
    "    matches = ind_legis_contrib[ind_legis_contrib.registrantid == rid]\n",
    "    reg_name_dict['rid'].append(rid)\n",
    "    reg_name_dict['name'].append(matches.registrantname.iloc[0])\n",
    "    reg_money_dict['rid'].append(rid)\n",
    "    reg_money_dict['amount'].append(np.sum(matches.amount))\n",
    "contrib_names = pd.DataFrame.from_dict(reg_name_dict)    #dataframe with contributor names and id's\n",
    "contrib_amount = pd.DataFrame.from_dict(reg_money_dict)  #dataframe with contributor id's and donation totals"
   ]
  },
  {
   "cell_type": "code",
   "execution_count": null,
   "metadata": {
    "collapsed": true
   },
   "outputs": [],
   "source": []
  },
  {
   "cell_type": "code",
   "execution_count": null,
   "metadata": {
    "collapsed": true
   },
   "outputs": [],
   "source": []
  },
  {
   "cell_type": "code",
   "execution_count": null,
   "metadata": {
    "collapsed": true
   },
   "outputs": [],
   "source": []
  },
  {
   "cell_type": "code",
   "execution_count": null,
   "metadata": {
    "collapsed": true
   },
   "outputs": [],
   "source": []
  },
  {
   "cell_type": "code",
   "execution_count": null,
   "metadata": {
    "collapsed": true
   },
   "outputs": [],
   "source": []
  },
  {
   "cell_type": "code",
   "execution_count": 8,
   "metadata": {
    "collapsed": false
   },
   "outputs": [
    {
     "name": "stdout",
     "output_type": "stream",
     "text": [
      "Rep\n",
      "Sen\n",
      "Rep\n",
      "Sen\n",
      "Rep\n",
      "Sen\n",
      "Rep\n",
      "Sen\n",
      "Rep\n",
      "Sen\n",
      "Rep\n",
      "Sen\n",
      "Rep\n",
      "Sen\n",
      "Rep\n",
      "Sen\n",
      "Rep\n",
      "Sen\n",
      "Rep\n",
      "Sen\n",
      "Rep\n",
      "Sen\n",
      "Rep\n",
      "Sen\n",
      "Rep\n",
      "Sen\n",
      "Rep\n",
      "Sen\n"
     ]
    }
   ],
   "source": [
    "#loop through legislators and get funding df for each one, stored in a list.\n",
    "legis_funds = list()\n",
    "legis_names = list()\n",
    "for leg in legislators:\n",
    "    #first get row in legis\n",
    "    legis_ind = legis[legis.sponsor == leg]\n",
    "    if legis_ind['index'].size > 1: #something has gone wrong.\n",
    "        print('Something has gone wrong.')\n",
    "        break\n",
    "    legis_funds.append(contributions.pull_contributions(legis_ind,legis,engine))\n",
    "    legis_names.append(legis_ind.qsponsor.iloc[0])"
   ]
  },
  {
   "cell_type": "code",
   "execution_count": 9,
   "metadata": {
    "collapsed": false
   },
   "outputs": [
    {
     "name": "stdout",
     "output_type": "stream",
     "text": [
      "14\n",
      "['Rep, Bachus,  Spencer', 'Rep, Cotton,  Tom', 'Rep, Fincher,  Stephen Lee', 'Rep, Garrett,  Scott', 'Rep, Hultgren,  Randy', 'Rep, Hurt,  Robert', 'Rep, Mulvaney,  Mick', 'Rep, Peters,  Gary C.', 'Rep, Pittenger,  Robert', 'Rep, Ross,  Dennis A.', 'Rep, Rothfus,  Keith J.', 'Rep, Stivers,  Steve', 'Rep, Wagner,  Ann', 'Rep, Westmoreland,  Lynn A.']\n",
      "Rep, Bachus,  Spencer\n"
     ]
    }
   ],
   "source": [
    "print(len(legis_funds))\n",
    "print(legis_names)\n",
    "print(legis_names[0])"
   ]
  },
  {
   "cell_type": "code",
   "execution_count": null,
   "metadata": {
    "collapsed": true
   },
   "outputs": [],
   "source": [
    "allfunds = list()\n",
    "allcontribs = list()\n",
    "#do what I need with one dataframe first\n",
    "counter = 0\n",
    "for df in legis_funds :\n",
    "    #sum up contributions from the same contributers\n",
    "    u_reg = np.unique(df.registrantid) #all unique contributors\n",
    "    allcontribs.append(u_reg)\n",
    "    u_reg_name = list() #name of contributor\n",
    "    u_reg_con = list() #sum of contributions\n",
    "    for rid_ind in range(0,len(u_reg)):\n",
    "        regid = u_reg[rid_ind] #id for contributor\n",
    "        regname = df[df.registrantid == regid]['registrantname'].iloc[0]\n",
    "        tot_money = np.sum(df[df.registrantid == regid]['amount'])\n",
    "        u_reg_name.append(regname)\n",
    "        u_reg_con.append(tot_money)\n",
    "    u_reg = u_reg.tolist()\n",
    "    temp_name = legis_names[counter]\n",
    "    temp_name = [temp_name]*len(u_reg)\n",
    "    allfunds.append(list(zip(u_reg,u_reg_name,u_reg_con,temp_name)))\n",
    "    print(allfunds[0][0])\n",
    "    counter = counter+1 "
   ]
  },
  {
   "cell_type": "markdown",
   "metadata": {},
   "source": [
    "# Put all of the above into a table for each legislator. Thus I have all of the unique contributions summed for each legislator."
   ]
  },
  {
   "cell_type": "code",
   "execution_count": 1,
   "metadata": {
    "collapsed": false
   },
   "outputs": [
    {
     "name": "stdout",
     "output_type": "stream",
     "text": [
      "Populating the interactive namespace from numpy and matplotlib\n"
     ]
    }
   ],
   "source": [
    "#load everything\n",
    "%pylab inline\n",
    "import pandas as pd\n",
    "import contributions\n",
    "import votes\n",
    "import bills\n",
    "import sqlCommands\n",
    "from peoplefinder import PeopleFinder\n",
    "from fuzzywuzzy import fuzz\n",
    "from fuzzywuzzy import process\n",
    "import re\n",
    "from tqdm import tqdm\n",
    "\n",
    "from operator import attrgetter\n",
    "\n",
    "dbname = 'legislatr'\n",
    "engine = sqlCommands.get_engine(dbname)"
   ]
  },
  {
   "cell_type": "markdown",
   "metadata": {},
   "source": [
    "## Step 1: Get list of unique legislators."
   ]
  },
  {
   "cell_type": "code",
   "execution_count": 2,
   "metadata": {
    "collapsed": false,
    "scrolled": true
   },
   "outputs": [],
   "source": [
    "legis = pd.read_sql_table('sponsor_list_det',engine)\n",
    "#all_legis"
   ]
  },
  {
   "cell_type": "code",
   "execution_count": 3,
   "metadata": {
    "collapsed": false,
    "scrolled": false
   },
   "outputs": [
    {
     "name": "stderr",
     "output_type": "stream",
     "text": [
      "100%|██████████| 389/389 [08:02<00:00,  1.15s/it]\n"
     ]
    }
   ],
   "source": [
    "#loop through legislators and give each two dataframes, linking contributors and amounts\n",
    "#legis_contribs = list()\n",
    "#legis_names = list()\n",
    "\n",
    "#make a table for each legislator with contribution totals\n",
    "for leg in tqdm(range(0,len(legis.sponsor))): #should be fast\n",
    "    #first get row in legis\n",
    "    legis_ind = legis[legis.index == leg]\n",
    "    tableid = 'legis'+str(leg) #table id for each legislator\n",
    "    #legis_ind = legis[legis.sponsor == leg]\n",
    "    ind_legis_contrib = contributions.pull_contributions(legis_ind,legis,engine)\n",
    "    legis_names.append(legis_ind.qsponsor.iloc[0])\n",
    "    u_reg = np.unique(ind_legis_contrib.registrantid)\n",
    "    reg_dict = {'rid':list(), 'name':list(), 'amount':list()}\n",
    "    for rid in u_reg:\n",
    "        matches = ind_legis_contrib[ind_legis_contrib.registrantid == rid]\n",
    "        reg_dict['rid'].append(rid)\n",
    "        reg_dict['name'].append(matches.registrantname.iloc[0])\n",
    "        reg_dict['amount'].append(np.sum(matches.amount))\n",
    "    towrite = pd.DataFrame.from_dict(reg_dict)\n",
    "    sqlCommands.write_to_database(dbname,tableid,towrite,engine)\n",
    "#legis_contribs.append(pd.DataFrame.from_dict(reg_dict))    #dataframe with contributor names and id's"
   ]
  },
  {
   "cell_type": "markdown",
   "metadata": {},
   "source": [
    "## Step 2: Try with a bill. Pull the tables of legislators."
   ]
  },
  {
   "cell_type": "code",
   "execution_count": 1,
   "metadata": {
    "collapsed": false
   },
   "outputs": [
    {
     "name": "stdout",
     "output_type": "stream",
     "text": [
      "Populating the interactive namespace from numpy and matplotlib\n"
     ]
    }
   ],
   "source": [
    "#load everything\n",
    "%pylab inline\n",
    "import pandas as pd\n",
    "import contributions\n",
    "import votes\n",
    "import bills\n",
    "import sqlCommands\n",
    "from peoplefinder import PeopleFinder\n",
    "from fuzzywuzzy import fuzz\n",
    "from fuzzywuzzy import process\n",
    "import re\n",
    "from tqdm import tqdm\n",
    "\n",
    "from operator import attrgetter\n",
    "\n",
    "dbname = 'legislatr'\n",
    "engine = sqlCommands.get_engine(dbname)"
   ]
  },
  {
   "cell_type": "markdown",
   "metadata": {},
   "source": [
    "Get legislators on bill."
   ]
  },
  {
   "cell_type": "code",
   "execution_count": 2,
   "metadata": {
    "collapsed": true
   },
   "outputs": [],
   "source": [
    "#assume given bill number, type, and congress\n",
    "bill_number = '4387'\n",
    "bill_type = 'hr'\n",
    "congress = '113'\n",
    "\n",
    "#load bill\n",
    "query = \"SELECT * FROM features_legis WHERE bill_type LIKE '\"+bill_type+\"' AND bill_number LIKE '\"+bill_number+\"' AND congress = '\"+congress+\"' ;\" #should only be one match.\n",
    "bill_legis = pd.read_sql_query(query,engine) #note to self, bills repeat, I only want the most recent one.\n",
    "#drop useless columns.\n",
    "bill_legis = bill_legis.drop(['bill_type','bill_number','congress','num_amends','index','status','result','final_result'],1)\n",
    "#read in legislator info\n",
    "legis = pd.read_sql_table('sponsor_list_det',engine)\n",
    "\n",
    "cols = bill_legis.columns.tolist()\n",
    "mat = bill_legis.as_matrix().flatten().tolist()\n",
    "\n",
    "#list of legislators on bill\n",
    "legislators = list()\n",
    "for leg in range(0,len(cols)):\n",
    "    if mat[leg] == 1:\n",
    "        legislators.append(cols[leg])"
   ]
  },
  {
   "cell_type": "code",
   "execution_count": 3,
   "metadata": {
    "collapsed": false
   },
   "outputs": [
    {
     "name": "stdout",
     "output_type": "stream",
     "text": [
      "['Rep,\"Bachus, Spencer\",AL', 'Rep,\"Cotton, Tom\",AR', 'Rep,\"Fincher, Stephen Lee\",TN', 'Rep,\"Garrett, Scott\",NJ', 'Rep,\"Hultgren, Randy\",IL', 'Rep,\"Hurt, Robert\",VA', 'Rep,\"Mulvaney, Mick\",SC', 'Rep,\"Peters, Gary C.\",MI', 'Rep,\"Pittenger, Robert\",NC', 'Rep,\"Ross, Dennis A.\",FL', 'Rep,\"Rothfus, Keith J.\",PA', 'Rep,\"Stivers, Steve\",OH', 'Rep,\"Wagner, Ann\",MO', 'Rep,\"Westmoreland, Lynn A.\",GA']\n"
     ]
    }
   ],
   "source": [
    "print(legislators)"
   ]
  },
  {
   "cell_type": "code",
   "execution_count": 4,
   "metadata": {
    "collapsed": false
   },
   "outputs": [],
   "source": [
    "legis_funds = list() #will be a list to hold the dataframes of contributions for each legislator\n",
    "legis_names = list()\n",
    "for leg in legislators:\n",
    "    #get index of legislator\n",
    "    legis_ind = legis[legis.sponsor == leg].index[0]\n",
    "    legis_names.append(legis[legis.sponsor == leg]['qsponsor'].iloc[0])    \n",
    "    #generate tableid\n",
    "    tableid = 'legis'+str(legis_ind)\n",
    "    #read in the contribution table for this legislator and append to list.\n",
    "    legis_funds.append(pd.read_sql_table(tableid,engine))\n"
   ]
  },
  {
   "cell_type": "code",
   "execution_count": 5,
   "metadata": {
    "collapsed": false
   },
   "outputs": [
    {
     "data": {
      "text/plain": [
       "['Rep, Bachus,  Spencer',\n",
       " 'Rep, Cotton,  Tom',\n",
       " 'Rep, Fincher,  Stephen Lee',\n",
       " 'Rep, Garrett,  Scott',\n",
       " 'Rep, Hultgren,  Randy',\n",
       " 'Rep, Hurt,  Robert',\n",
       " 'Rep, Mulvaney,  Mick',\n",
       " 'Rep, Peters,  Gary C.',\n",
       " 'Rep, Pittenger,  Robert',\n",
       " 'Rep, Ross,  Dennis A.',\n",
       " 'Rep, Rothfus,  Keith J.',\n",
       " 'Rep, Stivers,  Steve',\n",
       " 'Rep, Wagner,  Ann',\n",
       " 'Rep, Westmoreland,  Lynn A.']"
      ]
     },
     "execution_count": 5,
     "metadata": {},
     "output_type": "execute_result"
    }
   ],
   "source": [
    "legis_names"
   ]
  },
  {
   "cell_type": "code",
   "execution_count": 6,
   "metadata": {
    "collapsed": false,
    "scrolled": true
   },
   "outputs": [],
   "source": [
    "#now need to get shared contributors. Do this by concatinating rid's into a big list and keeping only ones that are duplicates.\n",
    "#loop through and make a new dataframe with just the amount, rid, and name.\n",
    "all_dfs = pd.DataFrame()\n",
    "for df in legis_funds:\n",
    "    all_dfs = pd.concat([all_dfs,df[['amount','name','rid']]],axis=0)"
   ]
  },
  {
   "cell_type": "code",
   "execution_count": 7,
   "metadata": {
    "collapsed": false,
    "scrolled": true
   },
   "outputs": [
    {
     "data": {
      "text/html": [
       "<div>\n",
       "<table border=\"1\" class=\"dataframe\">\n",
       "  <thead>\n",
       "    <tr style=\"text-align: right;\">\n",
       "      <th></th>\n",
       "      <th>amount</th>\n",
       "      <th>name</th>\n",
       "      <th>rid</th>\n",
       "    </tr>\n",
       "  </thead>\n",
       "  <tbody>\n",
       "    <tr>\n",
       "      <th>0</th>\n",
       "      <td>5000.0</td>\n",
       "      <td>Adams and Reese, LLP</td>\n",
       "      <td>157</td>\n",
       "    </tr>\n",
       "    <tr>\n",
       "      <th>1</th>\n",
       "      <td>5000.0</td>\n",
       "      <td>Advanta Corporation</td>\n",
       "      <td>237</td>\n",
       "    </tr>\n",
       "    <tr>\n",
       "      <th>2</th>\n",
       "      <td>2500.0</td>\n",
       "      <td>EADS NORTH AMERICA</td>\n",
       "      <td>330</td>\n",
       "    </tr>\n",
       "    <tr>\n",
       "      <th>3</th>\n",
       "      <td>48000.0</td>\n",
       "      <td>AFLAC INCORPORATED</td>\n",
       "      <td>385</td>\n",
       "    </tr>\n",
       "    <tr>\n",
       "      <th>4</th>\n",
       "      <td>8000.0</td>\n",
       "      <td>AKIN GUMP STRAUSS HAUER &amp; FELD LLP</td>\n",
       "      <td>682</td>\n",
       "    </tr>\n",
       "    <tr>\n",
       "      <th>5</th>\n",
       "      <td>32500.0</td>\n",
       "      <td>Alabama Farmers Federation</td>\n",
       "      <td>693</td>\n",
       "    </tr>\n",
       "    <tr>\n",
       "      <th>6</th>\n",
       "      <td>10000.0</td>\n",
       "      <td>Allstate Insurance Company</td>\n",
       "      <td>1114</td>\n",
       "    </tr>\n",
       "    <tr>\n",
       "      <th>7</th>\n",
       "      <td>1000.0</td>\n",
       "      <td>Time Warner Inc.</td>\n",
       "      <td>1295</td>\n",
       "    </tr>\n",
       "    <tr>\n",
       "      <th>8</th>\n",
       "      <td>2000.0</td>\n",
       "      <td>AMERICAN AIRLINES</td>\n",
       "      <td>1422</td>\n",
       "    </tr>\n",
       "    <tr>\n",
       "      <th>9</th>\n",
       "      <td>44000.0</td>\n",
       "      <td>American Bankers Association</td>\n",
       "      <td>1785</td>\n",
       "    </tr>\n",
       "    <tr>\n",
       "      <th>10</th>\n",
       "      <td>2000.0</td>\n",
       "      <td>The American Council of Engineering Companies</td>\n",
       "      <td>2046</td>\n",
       "    </tr>\n",
       "    <tr>\n",
       "      <th>11</th>\n",
       "      <td>16000.0</td>\n",
       "      <td>AMERICAN COUNCIL OF LIFE INSURERS</td>\n",
       "      <td>2115</td>\n",
       "    </tr>\n",
       "    <tr>\n",
       "      <th>12</th>\n",
       "      <td>2000.0</td>\n",
       "      <td>American Dental Association</td>\n",
       "      <td>2228</td>\n",
       "    </tr>\n",
       "    <tr>\n",
       "      <th>13</th>\n",
       "      <td>32500.0</td>\n",
       "      <td>American Express Company</td>\n",
       "      <td>2274</td>\n",
       "    </tr>\n",
       "    <tr>\n",
       "      <th>14</th>\n",
       "      <td>32750.0</td>\n",
       "      <td>American Financial Services Association</td>\n",
       "      <td>2354</td>\n",
       "    </tr>\n",
       "    <tr>\n",
       "      <th>15</th>\n",
       "      <td>1000.0</td>\n",
       "      <td>AMERICAN FOREST &amp; PAPER ASSOCIATION</td>\n",
       "      <td>2376</td>\n",
       "    </tr>\n",
       "    <tr>\n",
       "      <th>16</th>\n",
       "      <td>26000.0</td>\n",
       "      <td>American Hospital Association</td>\n",
       "      <td>2571</td>\n",
       "    </tr>\n",
       "    <tr>\n",
       "      <th>17</th>\n",
       "      <td>4000.0</td>\n",
       "      <td>THE AMERICAN INSTITUTE OF ARCHITECTS</td>\n",
       "      <td>2638</td>\n",
       "    </tr>\n",
       "    <tr>\n",
       "      <th>18</th>\n",
       "      <td>45000.0</td>\n",
       "      <td>American Institute of Certified Public Account...</td>\n",
       "      <td>2640</td>\n",
       "    </tr>\n",
       "    <tr>\n",
       "      <th>19</th>\n",
       "      <td>10500.0</td>\n",
       "      <td>AMERICAN INSURANCE ASSN</td>\n",
       "      <td>2662</td>\n",
       "    </tr>\n",
       "    <tr>\n",
       "      <th>20</th>\n",
       "      <td>33000.0</td>\n",
       "      <td>AMERICAN LAND TITLE ASSOCIATION</td>\n",
       "      <td>2731</td>\n",
       "    </tr>\n",
       "    <tr>\n",
       "      <th>21</th>\n",
       "      <td>3000.0</td>\n",
       "      <td>AMERICAN MEDICAL ASSOCIATION</td>\n",
       "      <td>2877</td>\n",
       "    </tr>\n",
       "    <tr>\n",
       "      <th>22</th>\n",
       "      <td>1000.0</td>\n",
       "      <td>AMERICAN OPTOMETRIC ASSOCIATION</td>\n",
       "      <td>2981</td>\n",
       "    </tr>\n",
       "    <tr>\n",
       "      <th>23</th>\n",
       "      <td>1000.0</td>\n",
       "      <td>AMERICAN PHYSICAL THERAPY ASSOCIATION</td>\n",
       "      <td>3093</td>\n",
       "    </tr>\n",
       "    <tr>\n",
       "      <th>24</th>\n",
       "      <td>3000.0</td>\n",
       "      <td>AMERICAN PODIATRIC MEDICAL ASSOCIATION</td>\n",
       "      <td>3116</td>\n",
       "    </tr>\n",
       "    <tr>\n",
       "      <th>25</th>\n",
       "      <td>1000.0</td>\n",
       "      <td>PORTLAND CEMENT ASSOCIATION</td>\n",
       "      <td>3127</td>\n",
       "    </tr>\n",
       "    <tr>\n",
       "      <th>26</th>\n",
       "      <td>25000.0</td>\n",
       "      <td>American Resort Development Assn</td>\n",
       "      <td>3242</td>\n",
       "    </tr>\n",
       "    <tr>\n",
       "      <th>27</th>\n",
       "      <td>2000.0</td>\n",
       "      <td>ARTBA</td>\n",
       "      <td>3275</td>\n",
       "    </tr>\n",
       "    <tr>\n",
       "      <th>28</th>\n",
       "      <td>10000.0</td>\n",
       "      <td>AMERICAN SHORT LINE AND REGIONAL RAILROAD ASSO...</td>\n",
       "      <td>3322</td>\n",
       "    </tr>\n",
       "    <tr>\n",
       "      <th>29</th>\n",
       "      <td>14000.0</td>\n",
       "      <td>AMERICAN SOCIETY OF ANESTHESIOLOGISTS</td>\n",
       "      <td>3388</td>\n",
       "    </tr>\n",
       "    <tr>\n",
       "      <th>...</th>\n",
       "      <td>...</td>\n",
       "      <td>...</td>\n",
       "      <td>...</td>\n",
       "    </tr>\n",
       "    <tr>\n",
       "      <th>247</th>\n",
       "      <td>4500.0</td>\n",
       "      <td>National Association Management Group</td>\n",
       "      <td>400334560</td>\n",
       "    </tr>\n",
       "    <tr>\n",
       "      <th>248</th>\n",
       "      <td>6000.0</td>\n",
       "      <td>Koch Companies Public Sector, LLC</td>\n",
       "      <td>400390816</td>\n",
       "    </tr>\n",
       "    <tr>\n",
       "      <th>249</th>\n",
       "      <td>3500.0</td>\n",
       "      <td>Sequa Corporation</td>\n",
       "      <td>400394857</td>\n",
       "    </tr>\n",
       "    <tr>\n",
       "      <th>250</th>\n",
       "      <td>1000.0</td>\n",
       "      <td>National Rural Water Association</td>\n",
       "      <td>400408930</td>\n",
       "    </tr>\n",
       "    <tr>\n",
       "      <th>251</th>\n",
       "      <td>1000.0</td>\n",
       "      <td>Elbit Systems of America, LLC</td>\n",
       "      <td>400411942</td>\n",
       "    </tr>\n",
       "    <tr>\n",
       "      <th>252</th>\n",
       "      <td>750.0</td>\n",
       "      <td>The Brightup Group LLC</td>\n",
       "      <td>400419998</td>\n",
       "    </tr>\n",
       "    <tr>\n",
       "      <th>253</th>\n",
       "      <td>500.0</td>\n",
       "      <td>The Capitol Group</td>\n",
       "      <td>400521541</td>\n",
       "    </tr>\n",
       "    <tr>\n",
       "      <th>254</th>\n",
       "      <td>2500.0</td>\n",
       "      <td>Crossroads Strategies, LLC</td>\n",
       "      <td>400531586</td>\n",
       "    </tr>\n",
       "    <tr>\n",
       "      <th>255</th>\n",
       "      <td>250.0</td>\n",
       "      <td>Missy Edwards Strategies, LLC</td>\n",
       "      <td>400547641</td>\n",
       "    </tr>\n",
       "    <tr>\n",
       "      <th>256</th>\n",
       "      <td>500.0</td>\n",
       "      <td>Coffee &amp; Associates LLC</td>\n",
       "      <td>400559671</td>\n",
       "    </tr>\n",
       "    <tr>\n",
       "      <th>257</th>\n",
       "      <td>250.0</td>\n",
       "      <td>Kia Motors Corporation</td>\n",
       "      <td>400566692</td>\n",
       "    </tr>\n",
       "    <tr>\n",
       "      <th>258</th>\n",
       "      <td>4000.0</td>\n",
       "      <td>Intercontinental Exchange, Inc.</td>\n",
       "      <td>400570717</td>\n",
       "    </tr>\n",
       "    <tr>\n",
       "      <th>259</th>\n",
       "      <td>5500.0</td>\n",
       "      <td>National Apartment Association</td>\n",
       "      <td>400614864</td>\n",
       "    </tr>\n",
       "    <tr>\n",
       "      <th>260</th>\n",
       "      <td>18000.0</td>\n",
       "      <td>Publix Super Markets, Inc.</td>\n",
       "      <td>400614865</td>\n",
       "    </tr>\n",
       "    <tr>\n",
       "      <th>261</th>\n",
       "      <td>250.0</td>\n",
       "      <td>Moore Consulting</td>\n",
       "      <td>400637923</td>\n",
       "    </tr>\n",
       "    <tr>\n",
       "      <th>262</th>\n",
       "      <td>750.0</td>\n",
       "      <td>Mr. Doyce Boesch</td>\n",
       "      <td>400677020</td>\n",
       "    </tr>\n",
       "    <tr>\n",
       "      <th>263</th>\n",
       "      <td>1000.0</td>\n",
       "      <td>CIT Group Inc.</td>\n",
       "      <td>400683033</td>\n",
       "    </tr>\n",
       "    <tr>\n",
       "      <th>264</th>\n",
       "      <td>7000.0</td>\n",
       "      <td>Tencate</td>\n",
       "      <td>400707121</td>\n",
       "    </tr>\n",
       "    <tr>\n",
       "      <th>265</th>\n",
       "      <td>1000.0</td>\n",
       "      <td>Financial Services Institute</td>\n",
       "      <td>400712136</td>\n",
       "    </tr>\n",
       "    <tr>\n",
       "      <th>266</th>\n",
       "      <td>3000.0</td>\n",
       "      <td>Arnall Golden Gregory, LLP</td>\n",
       "      <td>400713137</td>\n",
       "    </tr>\n",
       "    <tr>\n",
       "      <th>267</th>\n",
       "      <td>1000.0</td>\n",
       "      <td>Cracker Barrel Old Country Store, Inc.</td>\n",
       "      <td>400721169</td>\n",
       "    </tr>\n",
       "    <tr>\n",
       "      <th>268</th>\n",
       "      <td>1000.0</td>\n",
       "      <td>Compass Bank</td>\n",
       "      <td>400745229</td>\n",
       "    </tr>\n",
       "    <tr>\n",
       "      <th>269</th>\n",
       "      <td>500.0</td>\n",
       "      <td>Roberti White</td>\n",
       "      <td>400762305</td>\n",
       "    </tr>\n",
       "    <tr>\n",
       "      <th>270</th>\n",
       "      <td>3500.0</td>\n",
       "      <td>Bridgepoint Education</td>\n",
       "      <td>400801401</td>\n",
       "    </tr>\n",
       "    <tr>\n",
       "      <th>271</th>\n",
       "      <td>6000.0</td>\n",
       "      <td>Marathon Petroleum Corporation</td>\n",
       "      <td>400803404</td>\n",
       "    </tr>\n",
       "    <tr>\n",
       "      <th>272</th>\n",
       "      <td>2000.0</td>\n",
       "      <td>CIGAR RIGHTS OF AMERICA</td>\n",
       "      <td>400845495</td>\n",
       "    </tr>\n",
       "    <tr>\n",
       "      <th>273</th>\n",
       "      <td>3000.0</td>\n",
       "      <td>Commonwealth Research Associates, LLC</td>\n",
       "      <td>400894609</td>\n",
       "    </tr>\n",
       "    <tr>\n",
       "      <th>274</th>\n",
       "      <td>250.0</td>\n",
       "      <td>Jackson Vaughn Public Strategies</td>\n",
       "      <td>401103484</td>\n",
       "    </tr>\n",
       "    <tr>\n",
       "      <th>275</th>\n",
       "      <td>500.0</td>\n",
       "      <td>Fierce Government Relations</td>\n",
       "      <td>401103500</td>\n",
       "    </tr>\n",
       "    <tr>\n",
       "      <th>276</th>\n",
       "      <td>1000.0</td>\n",
       "      <td>Harbinger Strategies, LLC</td>\n",
       "      <td>401103523</td>\n",
       "    </tr>\n",
       "  </tbody>\n",
       "</table>\n",
       "<p>5096 rows × 3 columns</p>\n",
       "</div>"
      ],
      "text/plain": [
       "      amount                                               name        rid\n",
       "0     5000.0                               Adams and Reese, LLP        157\n",
       "1     5000.0                                Advanta Corporation        237\n",
       "2     2500.0                                 EADS NORTH AMERICA        330\n",
       "3    48000.0                                 AFLAC INCORPORATED        385\n",
       "4     8000.0                 AKIN GUMP STRAUSS HAUER & FELD LLP        682\n",
       "5    32500.0                         Alabama Farmers Federation        693\n",
       "6    10000.0                         Allstate Insurance Company       1114\n",
       "7     1000.0                                   Time Warner Inc.       1295\n",
       "8     2000.0                                  AMERICAN AIRLINES       1422\n",
       "9    44000.0                       American Bankers Association       1785\n",
       "10    2000.0      The American Council of Engineering Companies       2046\n",
       "11   16000.0                  AMERICAN COUNCIL OF LIFE INSURERS       2115\n",
       "12    2000.0                        American Dental Association       2228\n",
       "13   32500.0                           American Express Company       2274\n",
       "14   32750.0            American Financial Services Association       2354\n",
       "15    1000.0                AMERICAN FOREST & PAPER ASSOCIATION       2376\n",
       "16   26000.0                      American Hospital Association       2571\n",
       "17    4000.0               THE AMERICAN INSTITUTE OF ARCHITECTS       2638\n",
       "18   45000.0  American Institute of Certified Public Account...       2640\n",
       "19   10500.0                            AMERICAN INSURANCE ASSN       2662\n",
       "20   33000.0                    AMERICAN LAND TITLE ASSOCIATION       2731\n",
       "21    3000.0                       AMERICAN MEDICAL ASSOCIATION       2877\n",
       "22    1000.0                    AMERICAN OPTOMETRIC ASSOCIATION       2981\n",
       "23    1000.0              AMERICAN PHYSICAL THERAPY ASSOCIATION       3093\n",
       "24    3000.0             AMERICAN PODIATRIC MEDICAL ASSOCIATION       3116\n",
       "25    1000.0                        PORTLAND CEMENT ASSOCIATION       3127\n",
       "26   25000.0                   American Resort Development Assn       3242\n",
       "27    2000.0                                              ARTBA       3275\n",
       "28   10000.0  AMERICAN SHORT LINE AND REGIONAL RAILROAD ASSO...       3322\n",
       "29   14000.0              AMERICAN SOCIETY OF ANESTHESIOLOGISTS       3388\n",
       "..       ...                                                ...        ...\n",
       "247   4500.0              National Association Management Group  400334560\n",
       "248   6000.0                  Koch Companies Public Sector, LLC  400390816\n",
       "249   3500.0                                  Sequa Corporation  400394857\n",
       "250   1000.0                   National Rural Water Association  400408930\n",
       "251   1000.0                      Elbit Systems of America, LLC  400411942\n",
       "252    750.0                             The Brightup Group LLC  400419998\n",
       "253    500.0                                  The Capitol Group  400521541\n",
       "254   2500.0                         Crossroads Strategies, LLC  400531586\n",
       "255    250.0                      Missy Edwards Strategies, LLC  400547641\n",
       "256    500.0                            Coffee & Associates LLC  400559671\n",
       "257    250.0                             Kia Motors Corporation  400566692\n",
       "258   4000.0                    Intercontinental Exchange, Inc.  400570717\n",
       "259   5500.0                     National Apartment Association  400614864\n",
       "260  18000.0                         Publix Super Markets, Inc.  400614865\n",
       "261    250.0                                   Moore Consulting  400637923\n",
       "262    750.0                                   Mr. Doyce Boesch  400677020\n",
       "263   1000.0                                     CIT Group Inc.  400683033\n",
       "264   7000.0                                            Tencate  400707121\n",
       "265   1000.0                       Financial Services Institute  400712136\n",
       "266   3000.0                         Arnall Golden Gregory, LLP  400713137\n",
       "267   1000.0             Cracker Barrel Old Country Store, Inc.  400721169\n",
       "268   1000.0                                       Compass Bank  400745229\n",
       "269    500.0                                      Roberti White  400762305\n",
       "270   3500.0                              Bridgepoint Education  400801401\n",
       "271   6000.0                     Marathon Petroleum Corporation  400803404\n",
       "272   2000.0                            CIGAR RIGHTS OF AMERICA  400845495\n",
       "273   3000.0              Commonwealth Research Associates, LLC  400894609\n",
       "274    250.0                   Jackson Vaughn Public Strategies  401103484\n",
       "275    500.0                        Fierce Government Relations  401103500\n",
       "276   1000.0                          Harbinger Strategies, LLC  401103523\n",
       "\n",
       "[5096 rows x 3 columns]"
      ]
     },
     "execution_count": 7,
     "metadata": {},
     "output_type": "execute_result"
    }
   ],
   "source": [
    "all_dfs"
   ]
  },
  {
   "cell_type": "code",
   "execution_count": 8,
   "metadata": {
    "collapsed": true
   },
   "outputs": [],
   "source": [
    "#get duplicate (shared) contributors based on rid\n",
    "duplicates = all_dfs[all_dfs.duplicated(subset='rid',keep=False)]\n",
    "#get unique rid's of shared contributors.\n",
    "u_shared_rids = np.unique(duplicates['rid'])\n",
    "#get the names of the unique rids\n",
    "u_shared_names = list()\n",
    "for rid in u_shared_rids:\n",
    "    u_shared_names.append(duplicates[duplicates.rid==rid]['name'].iloc[0])"
   ]
  },
  {
   "cell_type": "code",
   "execution_count": 9,
   "metadata": {
    "collapsed": false,
    "scrolled": true
   },
   "outputs": [
    {
     "name": "stderr",
     "output_type": "stream",
     "text": [
      "/home/lordluen/anaconda2/envs/py3_env/lib/python3.5/site-packages/ipykernel/__main__.py:8: SettingWithCopyWarning: \n",
      "A value is trying to be set on a copy of a slice from a DataFrame.\n",
      "Try using .loc[row_indexer,col_indexer] = value instead\n",
      "\n",
      "See the caveats in the documentation: http://pandas.pydata.org/pandas-docs/stable/indexing.html#indexing-view-versus-copy\n"
     ]
    }
   ],
   "source": [
    "#now I need to calculate influence each rid had on a legislator. So first find intersection of each legislator with unique ids\n",
    "shared_funds = list()\n",
    "for df in legis_funds:\n",
    "    shared_contribs = df[df['rid'].isin(u_shared_rids)]\n",
    "    #get total amount of money in shared_contribs\n",
    "    total_contribs = sum(shared_contribs.amount.tolist())\n",
    "    #create a new column in shared contribs with influence (ratio of money to total money).\n",
    "    shared_contribs['influence'] = (shared_contribs.amount/total_contribs)*100.\n",
    "    shared_funds.append(shared_contribs)"
   ]
  },
  {
   "cell_type": "markdown",
   "metadata": {},
   "source": [
    "This is the slowest step. I could not think of a good way to avoid for loops here."
   ]
  },
  {
   "cell_type": "code",
   "execution_count": 21,
   "metadata": {
    "collapsed": false
   },
   "outputs": [
    {
     "name": "stderr",
     "output_type": "stream",
     "text": [
      "100%|██████████| 861/861 [00:00<00:00, 1863.95it/s]\n"
     ]
    }
   ],
   "source": [
    "#calculate top 10 contributors based on influence.\n",
    "total_inf = np.zeros(len(u_shared_rids))\n",
    "total_money = np.zeros(len(u_shared_rids))\n",
    "\n",
    "all_df = pd.concat(shared_funds)\n",
    "for i in tqdm(range(0,len(u_shared_rids))):\n",
    "    rid = u_shared_rids[i]\n",
    "    match = all_df[all_df.rid == rid]\n",
    "    total_inf[i] = total_inf[i]+sum(match['influence'])\n",
    "    total_money[i] = total_money[i]+sum(match['amount'])\n",
    "avg_inf = total_inf/len(shared_funds)\n",
    "avg_money = total_money/len(shared_funds)\n"
   ]
  },
  {
   "cell_type": "code",
   "execution_count": 18,
   "metadata": {
    "collapsed": false
   },
   "outputs": [
    {
     "name": "stderr",
     "output_type": "stream",
     "text": [
      "100%|██████████| 861/861 [00:04<00:00, 174.00it/s]\n"
     ]
    }
   ],
   "source": [
    "#calculate top 10 contributors based on influence.\n",
    "total_inf = np.zeros(len(u_shared_rids))\n",
    "total_money = np.zeros(len(u_shared_rids))\n",
    "\n",
    "for i in tqdm(range(0,len(u_shared_rids))):\n",
    "    rid = u_shared_rids[i]\n",
    "    for j in shared_funds:\n",
    "        match = j[j.rid==rid]\n",
    "        if len(match) > 0:\n",
    "            total_inf[i] = total_inf[i] + match['influence'].iloc[0]\n",
    "            total_money[i] = total_money[i] + match['amount'].iloc[0]\n",
    "avg_inf = total_inf/len(shared_funds)\n",
    "avg_money = total_money/len(shared_funds)"
   ]
  },
  {
   "cell_type": "code",
   "execution_count": 19,
   "metadata": {
    "collapsed": false
   },
   "outputs": [
    {
     "name": "stdout",
     "output_type": "stream",
     "text": [
      "4.45027558167\n",
      "126500.0\n"
     ]
    }
   ],
   "source": [
    "print(total_inf[0])\n",
    "print(total_money[0])"
   ]
  },
  {
   "cell_type": "code",
   "execution_count": 105,
   "metadata": {
    "collapsed": true
   },
   "outputs": [],
   "source": [
    "#zip together u_shared_rids, u_shared_names, total_inf, total_money\n",
    "shared_con_zip = list(zip(u_shared_rids.tolist(),u_shared_names,avg_inf.tolist(),avg_money.tolist()))\n",
    "#sort based on influence\n",
    "shared_con_zip = sorted(shared_con_zip, key=lambda tup: tup[2], reverse=True)"
   ]
  },
  {
   "cell_type": "code",
   "execution_count": 106,
   "metadata": {
    "collapsed": false
   },
   "outputs": [
    {
     "name": "stdout",
     "output_type": "stream",
     "text": [
      "[(4766, 'ASSOCIATED BUILDERS AND CONTRACTORS, INC.', 1.8108117943352957, 33442.857142857145), (316890, 'DELOITTE LLP', 1.5744774886214574, 48607.142857142855), (53824, 'CAPITAL ONE FINANCIAL CORPORATION', 1.4546108715652266, 32478.571428571428), (1785, 'American Bankers Association', 1.4353381684202504, 31642.85714285714), (400390816, 'Koch Companies Public Sector, LLC', 1.2639333036764409, 26892.85714285714), (19228, 'INDEPENDENT INSURANCE AGENTS & BROKERS OF AMERICA', 1.1617397697312928, 27250.0), (27274, 'National Beer Wholesalers Association', 1.0952773134601446, 25067.85714285714), (10764, 'PRICEWATERHOUSECOOPERS', 1.0506148121143197, 27107.14285714286), (27263, 'NATIONAL AUTOMOBILE DEALERS ASSOCIATION', 1.0140530211306809, 22785.714285714286), (2354, 'American Financial Services Association', 1.0121407270247014, 19946.428571428572)]\n"
     ]
    }
   ],
   "source": [
    "print(shared_con_zip[0:10])"
   ]
  },
  {
   "cell_type": "markdown",
   "metadata": {},
   "source": [
    "# Final step is to generate a file from this data given an rid."
   ]
  },
  {
   "cell_type": "code",
   "execution_count": 115,
   "metadata": {
    "collapsed": false
   },
   "outputs": [],
   "source": [
    "contrib_tup = (shared_con_zip,shared_funds,legis_names)\n",
    "rank = 0"
   ]
  },
  {
   "cell_type": "code",
   "execution_count": 116,
   "metadata": {
    "collapsed": false
   },
   "outputs": [
    {
     "name": "stdout",
     "output_type": "stream",
     "text": [
      "['Rep, Bachus,  Spencer', 'Rep, Cotton,  Tom', 'Rep, Fincher,  Stephen Lee', 'Rep, Garrett,  Scott', 'Rep, Hultgren,  Randy', 'Rep, Hurt,  Robert', 'Rep, Mulvaney,  Mick', 'Rep, Peters,  Gary C.', 'Rep, Pittenger,  Robert', 'Rep, Ross,  Dennis A.', 'Rep, Rothfus,  Keith J.', 'Rep, Stivers,  Steve', 'Rep, Wagner,  Ann', 'Rep, Westmoreland,  Lynn A.']\n"
     ]
    }
   ],
   "source": [
    "print(legis_names)"
   ]
  },
  {
   "cell_type": "code",
   "execution_count": 129,
   "metadata": {
    "collapsed": false
   },
   "outputs": [],
   "source": [
    "#first get rid for contributor in question.\n",
    "rid = contrib_tup[0][rank][0]\n",
    "#loop through legislators and just make list of funds and influence.\n",
    "funds = list()\n",
    "inf = list()\n",
    "for j in contrib_tup[1]:\n",
    "    match = j[j.rid == rid]\n",
    "    if len(match) > 0:\n",
    "        funds.append(match['amount'].iloc[0])\n",
    "        inf.append(match['influence'].iloc[0])\n",
    "    else:\n",
    "        funds.append(0.)\n",
    "        inf.append(0.)"
   ]
  },
  {
   "cell_type": "code",
   "execution_count": 132,
   "metadata": {
    "collapsed": false
   },
   "outputs": [
    {
     "name": "stdout",
     "output_type": "stream",
     "text": [
      "[17500.0, 40200.0, 43500.0, 35000.0, 70000.0, 39500.0, 33500.0, 0.0, 20000.0, 42500.0, 37500.0, 52000.0, 15000.0, 22000.0]\n",
      "[0.40277165542485333, 2.8624026185885754, 1.9364559330739464, 0.92926581050062196, 3.9663531991627483, 1.5561861747230445, 2.5887038099607653, 0.0, 2.4743032473399138, 1.2983973725423026, 4.5168155804554289, 1.08984922625494, 0.67772142052271223, 1.0521390721442818]\n",
      "['Rep, Bachus,  Spencer', 'Rep, Cotton,  Tom', 'Rep, Fincher,  Stephen Lee', 'Rep, Garrett,  Scott', 'Rep, Hultgren,  Randy', 'Rep, Hurt,  Robert', 'Rep, Mulvaney,  Mick', 'Rep, Peters,  Gary C.', 'Rep, Pittenger,  Robert', 'Rep, Ross,  Dennis A.', 'Rep, Rothfus,  Keith J.', 'Rep, Stivers,  Steve', 'Rep, Wagner,  Ann', 'Rep, Westmoreland,  Lynn A.']\n"
     ]
    }
   ],
   "source": [
    "print(funds)\n",
    "print(inf)\n",
    "print(contrib_tup[2])\n"
   ]
  },
  {
   "cell_type": "code",
   "execution_count": null,
   "metadata": {
    "collapsed": true
   },
   "outputs": [],
   "source": []
  },
  {
   "cell_type": "code",
   "execution_count": 128,
   "metadata": {
    "collapsed": false
   },
   "outputs": [
    {
     "data": {
      "text/plain": [
       "0.40277165542485333"
      ]
     },
     "execution_count": 128,
     "metadata": {},
     "output_type": "execute_result"
    }
   ],
   "source": [
    "match['influence'].iloc[0]"
   ]
  },
  {
   "cell_type": "code",
   "execution_count": null,
   "metadata": {
    "collapsed": true
   },
   "outputs": [],
   "source": []
  }
 ],
 "metadata": {
  "kernelspec": {
   "display_name": "Python 3",
   "language": "python",
   "name": "python3"
  },
  "language_info": {
   "codemirror_mode": {
    "name": "ipython",
    "version": 3
   },
   "file_extension": ".py",
   "mimetype": "text/x-python",
   "name": "python",
   "nbconvert_exporter": "python",
   "pygments_lexer": "ipython3",
   "version": "3.5.1"
  }
 },
 "nbformat": 4,
 "nbformat_minor": 0
}
