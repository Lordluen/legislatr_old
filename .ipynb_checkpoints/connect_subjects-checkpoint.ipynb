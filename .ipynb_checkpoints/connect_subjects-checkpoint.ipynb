{
 "cells": [
  {
   "cell_type": "markdown",
   "metadata": {},
   "source": [
    "## Step - 2: Create network of subjects"
   ]
  },
  {
   "cell_type": "code",
   "execution_count": 1,
   "metadata": {
    "collapsed": false
   },
   "outputs": [
    {
     "name": "stdout",
     "output_type": "stream",
     "text": [
      "Populating the interactive namespace from numpy and matplotlib\n"
     ]
    }
   ],
   "source": [
    "%pylab inline\n",
    "import pandas as pd\n",
    "import contributions\n",
    "import votes\n",
    "import bills\n",
    "import sqlCommands\n",
    "from peoplefinder import PeopleFinder\n",
    "from operator import attrgetter\n",
    "from sqlalchemy import create_engine\n",
    "from sqlalchemy_utils import database_exists, create_database\n",
    "import psycopg2\n",
    "\n",
    "def subject_AandB(cur,A,B):\n",
    "    #calculate the number of bills that have both subject A and subject B. Both are strings.\n",
    "    #query for entires with both subjects.\n",
    "    query = (\"SELECT count(index) FROM bills WHERE category LIKE 'passage' AND (subjects LIKE '%%{\" + A\n",
    "                     + \",%%' OR subjects LIKE '%%,\"+A+\",%%' OR subjects LIKE '%%,\"+A+\"}%%') AND (subjects LIKE '%%{\" + B \n",
    "                     +\",%%' OR subjects LIKE '%%,\"+B+\",%%' OR subjects LIKE '%%,\"+B+\"}%%');\")\n",
    "    cur.execute(query)\n",
    "    return ((cur.fetchall())[0][0])\n",
    "    #get the size of the rows, i.e., the number of entries returned.\n",
    "    #s = foo['index'].size\n",
    "    #return s\n",
    "\n",
    "def subject_AorB(engine,A,B):\n",
    "    #calculate the number of bills that have either subject A and subject B. Both are strings.\n",
    "    #query for entires with both subjects.\n",
    "    #query1 = (\"SELECT * FROM bills WHERE category LIKE 'passage' AND (subjects LIKE '%%{\" + A\n",
    "    #                 + \",%%' OR subjects LIKE '%%,\"+A+\",%%' OR subjects LIKE '%%,\"+A+\"}%%');\")\n",
    "    #query2 = (\"SELECT * FROM bills WHERE category LIKE 'passage' AND (subjects LIKE '%%{\" + A\n",
    "    #                 + \",%%' OR subjects LIKE '%%,\"+A+\",%%' OR subjects LIKE '%%,\"+A+\"}%%');\")\n",
    "    #use query and put in DataFrame\n",
    "    #foo = pd.read_sql_query(query1,engine)\n",
    "    #get the size of the rows, i.e., the number of entries returned.\n",
    "    #s1 = foo['index'].size\n",
    "    #print(s1)\n",
    "    #foo = pd.read_sql_query(query2,engine)\n",
    "    #get the size of the rows, i.e., the number of entries returned.\n",
    "    #s2 = foo['index'].size\n",
    "    #print(s2)\n",
    "    #s3 = subject_AandB(engine,A,B)\n",
    "    #print(s3)\n",
    "    result = s1 + s2 - s3\n",
    "    return result\n",
    "\n",
    "def subject_count(engine,A):\n",
    "    query = (\"SELECT * FROM bills WHERE category LIKE 'passage' AND (subjects LIKE '%%{\" + A\n",
    "                     + \",%%' OR subjects LIKE '%%,\"+A+\",%%' OR subjects LIKE '%%,\"+A+\"}%%');\")\n",
    "    #use query and put in DataFrame\n",
    "    foo = pd.read_sql_query(query,engine)\n",
    "    return (foo['index'].size)\n",
    "\n",
    "def fast_subject_count(cur,A):\n",
    "    query = (\"SELECT count(index) FROM bills WHERE category LIKE 'passage' AND (subjects LIKE '%%{\" + A\n",
    "                     + \",%%' OR subjects LIKE '%%,\"+A+\",%%' OR subjects LIKE '%%,\"+A+\"}%%');\")\n",
    "    cur.execute(query)\n",
    "    return ((cur.fetchall())[0][0])\n",
    "\n",
    "def super_fast_subject_count(cur,A):\n",
    "    query = ()\n",
    "    return\n",
    "    \n",
    "def jaccard_similarity(cur,A,B,nA,nB):\n",
    "    nAandB = subject_AandB(cur,A,B)\n",
    "    result = nAandB/(nA+nB-nAandB)\n",
    "    return result\n",
    "\n",
    "def get_all_subjects(engine):\n",
    "    query = \"SELECT * FROM topics\"\n",
    "    foo = pd.read_sql_query(query, engine)\n",
    "    return foo\n",
    "\n",
    "def clean_subject(a):\n",
    "    try:\n",
    "        quoteloc = a.index(\"'\") #may get issues with multiple single quotes in one topic.\n",
    "        a = a[:quoteloc]+\"'\"+a[quoteloc:]\n",
    "    except:\n",
    "        pass #no quotes found\n",
    "    #need to add \" if there are any spaces in the subject\n",
    "    try:\n",
    "        quoteloc = a.index(\" \") #will go to except if there are no spaces in the subject\n",
    "        a = '\\\"'+a+'\\\"'\n",
    "    except:\n",
    "        pass #no spaces found\n",
    "    return a"
   ]
  },
  {
   "cell_type": "code",
   "execution_count": 2,
   "metadata": {
    "collapsed": false
   },
   "outputs": [],
   "source": [
    "#set up postgresql engine\n",
    "dbname = 'legislatr'\n",
    "engine = sqlCommands.get_engine(dbname)\n",
    "conn = psycopg2.connect(\"dbname='legislatr' user='lordluen' host='localhost'\")\n",
    "cur = conn.cursor()"
   ]
  },
  {
   "cell_type": "code",
   "execution_count": 3,
   "metadata": {
    "collapsed": false
   },
   "outputs": [],
   "source": [
    "#get all subjects\n",
    "subs = get_all_subjects(engine)\n",
    "#change syntax to be correct for queries.\n",
    "subs['q_subjects'] = subs['subjects'].map( lambda x: clean_subject(x))\n",
    "#can probably get number of bills each subject is on and store it before the loop to speed it up a bit.\n",
    "subs['numBills'] = subs['q_subjects'].map( lambda x: fast_subject_count(cur,x))\n",
    "#delete subjects that are appear less than 10 times\n",
    "subs = subs[subs.numBills >= 10]"
   ]
  },
  {
   "cell_type": "code",
   "execution_count": 4,
   "metadata": {
    "collapsed": false,
    "scrolled": false
   },
   "outputs": [
    {
     "data": {
      "text/html": [
       "<div>\n",
       "<table border=\"1\" class=\"dataframe\">\n",
       "  <thead>\n",
       "    <tr style=\"text-align: right;\">\n",
       "      <th></th>\n",
       "      <th>index</th>\n",
       "      <th>subjects</th>\n",
       "      <th>q_subjects</th>\n",
       "      <th>numBills</th>\n",
       "    </tr>\n",
       "  </thead>\n",
       "  <tbody>\n",
       "    <tr>\n",
       "      <th>1</th>\n",
       "      <td>1</td>\n",
       "      <td>Abortion</td>\n",
       "      <td>Abortion</td>\n",
       "      <td>40</td>\n",
       "    </tr>\n",
       "    <tr>\n",
       "      <th>2</th>\n",
       "      <td>2</td>\n",
       "      <td>Academic performance and assessments</td>\n",
       "      <td>\"Academic performance and assessments\"</td>\n",
       "      <td>17</td>\n",
       "    </tr>\n",
       "    <tr>\n",
       "      <th>3</th>\n",
       "      <td>3</td>\n",
       "      <td>Access Board</td>\n",
       "      <td>\"Access Board\"</td>\n",
       "      <td>13</td>\n",
       "    </tr>\n",
       "    <tr>\n",
       "      <th>4</th>\n",
       "      <td>4</td>\n",
       "      <td>Accidents</td>\n",
       "      <td>Accidents</td>\n",
       "      <td>11</td>\n",
       "    </tr>\n",
       "    <tr>\n",
       "      <th>5</th>\n",
       "      <td>5</td>\n",
       "      <td>Accounting and auditing</td>\n",
       "      <td>\"Accounting and auditing\"</td>\n",
       "      <td>73</td>\n",
       "    </tr>\n",
       "    <tr>\n",
       "      <th>7</th>\n",
       "      <td>7</td>\n",
       "      <td>Administrative Conference of the U.S.</td>\n",
       "      <td>\"Administrative Conference of the U.S.\"</td>\n",
       "      <td>14</td>\n",
       "    </tr>\n",
       "    <tr>\n",
       "      <th>8</th>\n",
       "      <td>8</td>\n",
       "      <td>Administrative law and regulatory procedures</td>\n",
       "      <td>\"Administrative law and regulatory procedures\"</td>\n",
       "      <td>284</td>\n",
       "    </tr>\n",
       "    <tr>\n",
       "      <th>9</th>\n",
       "      <td>9</td>\n",
       "      <td>Administrative remedies</td>\n",
       "      <td>\"Administrative remedies\"</td>\n",
       "      <td>120</td>\n",
       "    </tr>\n",
       "    <tr>\n",
       "      <th>10</th>\n",
       "      <td>10</td>\n",
       "      <td>Adoption and foster care</td>\n",
       "      <td>\"Adoption and foster care\"</td>\n",
       "      <td>14</td>\n",
       "    </tr>\n",
       "    <tr>\n",
       "      <th>13</th>\n",
       "      <td>13</td>\n",
       "      <td>Advanced technology and technological innovations</td>\n",
       "      <td>\"Advanced technology and technological innovat...</td>\n",
       "      <td>48</td>\n",
       "    </tr>\n",
       "    <tr>\n",
       "      <th>14</th>\n",
       "      <td>14</td>\n",
       "      <td>Advisory bodies</td>\n",
       "      <td>\"Advisory bodies\"</td>\n",
       "      <td>141</td>\n",
       "    </tr>\n",
       "  </tbody>\n",
       "</table>\n",
       "</div>"
      ],
      "text/plain": [
       "    index                                           subjects  \\\n",
       "1       1                                           Abortion   \n",
       "2       2               Academic performance and assessments   \n",
       "3       3                                       Access Board   \n",
       "4       4                                          Accidents   \n",
       "5       5                            Accounting and auditing   \n",
       "7       7              Administrative Conference of the U.S.   \n",
       "8       8       Administrative law and regulatory procedures   \n",
       "9       9                            Administrative remedies   \n",
       "10     10                           Adoption and foster care   \n",
       "13     13  Advanced technology and technological innovations   \n",
       "14     14                                    Advisory bodies   \n",
       "\n",
       "                                           q_subjects  numBills  \n",
       "1                                            Abortion        40  \n",
       "2              \"Academic performance and assessments\"        17  \n",
       "3                                      \"Access Board\"        13  \n",
       "4                                           Accidents        11  \n",
       "5                           \"Accounting and auditing\"        73  \n",
       "7             \"Administrative Conference of the U.S.\"        14  \n",
       "8      \"Administrative law and regulatory procedures\"       284  \n",
       "9                           \"Administrative remedies\"       120  \n",
       "10                         \"Adoption and foster care\"        14  \n",
       "13  \"Advanced technology and technological innovat...        48  \n",
       "14                                  \"Advisory bodies\"       141  "
      ]
     },
     "execution_count": 4,
     "metadata": {},
     "output_type": "execute_result"
    }
   ],
   "source": [
    "subs.head(11)"
   ]
  },
  {
   "cell_type": "code",
   "execution_count": 38,
   "metadata": {
    "collapsed": false,
    "scrolled": false
   },
   "outputs": [
    {
     "name": "stdout",
     "output_type": "stream",
     "text": [
      "subs_size =  691\n",
      "0\n",
      "1\n",
      "2\n"
     ]
    }
   ],
   "source": [
    "subs_size = subs['subjects'].size\n",
    "print('subs_size = ',subs_size)\n",
    "subs_sim = np.zeros((subs_size,subs_size))\n",
    "for i in range(0,subs_size):\n",
    "    print(i)\n",
    "    a = subs['q_subjects'].iloc[i]\n",
    "    na = subs['numBills'].iloc[i]\n",
    "    for j in range(0,subs_size):\n",
    "        if j < i:\n",
    "            subs_sim[i,j] = subs_sim[j,i] #matrix is diagonal, so can cut loop time in half.\n",
    "        else :\n",
    "            b = subs['q_subjects'].iloc[j]\n",
    "            nb = subs['numBills'].iloc[j]\n",
    "            subs_sim[i,j]=jaccard_similarity(cur,a,b,na,nb)\n",
    "cols = np.arange(subs_size)\n",
    "rows = np.arange(subs_size)\n",
    "ss_df = pd.DataFrame(data=subs_sim,index=rows,columns=cols)\n",
    "sqlCommands.append_to_database(dbname,'subs_sim',subs_sim,engine)"
   ]
  }
 ],
 "metadata": {
  "kernelspec": {
   "display_name": "Python 3",
   "language": "python",
   "name": "python3"
  },
  "language_info": {
   "codemirror_mode": {
    "name": "ipython",
    "version": 3
   },
   "file_extension": ".py",
   "mimetype": "text/x-python",
   "name": "python",
   "nbconvert_exporter": "python",
   "pygments_lexer": "ipython3",
   "version": "3.5.1"
  }
 },
 "nbformat": 4,
 "nbformat_minor": 0
}
