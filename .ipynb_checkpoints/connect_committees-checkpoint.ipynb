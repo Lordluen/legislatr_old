{
 "cells": [
  {
   "cell_type": "markdown",
   "metadata": {},
   "source": [
    "# Step 4 - Create array of unique Committees"
   ]
  },
  {
   "cell_type": "code",
   "execution_count": 1,
   "metadata": {
    "collapsed": true
   },
   "outputs": [],
   "source": [
    "import re\n",
    "import os\n",
    "import numpy as np\n",
    "import pandas as pd\n",
    "import ujson as json\n",
    "from tqdm import tqdm\n",
    "import sqlCommands\n",
    "\n",
    "from dateutil.parser import parse as DateParser\n",
    "\n",
    "\n",
    "\n",
    "def findOccurences(s, ch):\n",
    "    res = list()\n",
    "    for i in re.finditer(ch,s):\n",
    "        res.append(i.start())\n",
    "    return res"
   ]
  },
  {
   "cell_type": "code",
   "execution_count": 3,
   "metadata": {
    "collapsed": false
   },
   "outputs": [
    {
     "name": "stdout",
     "output_type": "stream",
     "text": [
      "<class 'list'>\n"
     ]
    }
   ],
   "source": [
    "#set up engine\n",
    "dbname = 'legislatr'\n",
    "engine = sqlCommands.get_engine(dbname)\n",
    "#query = \"SELECT * FROM topics;\"\n",
    "bills_df = pd.read_sql_table('allbills4',engine)\n",
    "\n",
    "committee = list(bills_df['committees'])\n",
    "print(type(committee))"
   ]
  },
  {
   "cell_type": "code",
   "execution_count": 4,
   "metadata": {
    "collapsed": true
   },
   "outputs": [],
   "source": [
    "#find separate comittees and separate them.\n",
    "new_comms = list()\n",
    "for s in committee:\n",
    "    #first check for empty\n",
    "    if s == \"{}\":\n",
    "        continue\n",
    "    s= s.replace(\"{\",\"\")\n",
    "    ind = findOccurences(s,\",\")\n",
    "    #loop over each new sponsor\n",
    "    sind = 0\n",
    "    ind.append(-1)\n",
    "    for i in ind:\n",
    "        sub_comm = s[sind:i]\n",
    "        sind = i+1\n",
    "        sub_comm = sub_comm.replace(\"}\",\"\")\n",
    "        new_comms.append(sub_comm)"
   ]
  },
  {
   "cell_type": "code",
   "execution_count": 5,
   "metadata": {
    "collapsed": false
   },
   "outputs": [
    {
     "name": "stdout",
     "output_type": "stream",
     "text": [
      "41\n",
      "['SSEG' 'SSEV' 'SSFI' 'SSFR' 'SSGA' 'SSHR' 'SSJU' 'SSRA' 'SSSB']\n"
     ]
    }
   ],
   "source": [
    "u_new_comms = np.unique(new_comms)\n",
    "print(len(u_new_comms)) #should be 865 based on playing before\n",
    "print(u_new_comms[-10:-1]) #too may print lines"
   ]
  },
  {
   "cell_type": "code",
   "execution_count": 7,
   "metadata": {
    "collapsed": false
   },
   "outputs": [],
   "source": [
    "#save unique committees list to database\n",
    "comm_list_df = pd.DataFrame()\n",
    "comm_list_df['committee'] = u_new_comms\n",
    "sqlCommands.write_to_database(dbname,'committee_list',comm_list_df,engine)"
   ]
  },
  {
   "cell_type": "code",
   "execution_count": null,
   "metadata": {
    "collapsed": true
   },
   "outputs": [],
   "source": []
  }
 ],
 "metadata": {
  "kernelspec": {
   "display_name": "Python 3",
   "language": "python",
   "name": "python3"
  },
  "language_info": {
   "codemirror_mode": {
    "name": "ipython",
    "version": 3
   },
   "file_extension": ".py",
   "mimetype": "text/x-python",
   "name": "python",
   "nbconvert_exporter": "python",
   "pygments_lexer": "ipython3",
   "version": "3.5.1"
  }
 },
 "nbformat": 4,
 "nbformat_minor": 0
}
