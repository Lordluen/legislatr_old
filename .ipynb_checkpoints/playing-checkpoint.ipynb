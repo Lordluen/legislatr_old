{
 "cells": [
  {
   "cell_type": "code",
   "execution_count": 23,
   "metadata": {
    "collapsed": true
   },
   "outputs": [],
   "source": [
    "import numpy as np\n",
    "import pandas as pd\n",
    "import xml.etree.ElementTree as ET\n",
    "from tqdm import tqdm\n",
    "\n",
    "from dateutil.parser import parse as DateParser\n",
    "import os\n",
    "\n",
    "def _dict_lower_keys(d):\n",
    "    return {k.lower():v for k,v in d.items()}\n",
    "\n",
    "\n",
    "condir = '/home/lordluen/Code/InsightDS/Legis_data/contributions/'"
   ]
  },
  {
   "cell_type": "code",
   "execution_count": 67,
   "metadata": {
    "collapsed": true
   },
   "outputs": [],
   "source": [
    "FIELD_SPECS={\n",
    "    'year': int,\n",
    "    'amount': float,\n",
    "    'registrantid': int,\n",
    "    'received': DateParser,\n",
    "    'contributiondate': DateParser,\n",
    "    'contributiontype': str,\n",
    "    'honoree': str,\n",
    "}"
   ]
  },
  {
   "cell_type": "code",
   "execution_count": 68,
   "metadata": {
    "collapsed": false
   },
   "outputs": [
    {
     "name": "stdout",
     "output_type": "stream",
     "text": [
      "/home/lordluen/Code/InsightDS/Legis_data/contributions/2015_3_7_9_LD203.xml\n"
     ]
    }
   ],
   "source": [
    "path_to_file = condir+\"2015_3_7_9_LD203.xml\"\n",
    "print(path_to_file)"
   ]
  },
  {
   "cell_type": "code",
   "execution_count": 77,
   "metadata": {
    "collapsed": false
   },
   "outputs": [
    {
     "name": "stdout",
     "output_type": "stream",
     "text": [
      "{('honoree', <class 'str'>), ('amount', <class 'float'>), ('received', <function parse at 0x7f56b415c7b8>), ('contributiondate', <function parse at 0x7f56b415c7b8>), ('registrantid', <class 'int'>), ('year', <class 'int'>), ('contributiontype', <class 'str'>)}\n"
     ]
    },
    {
     "ename": "TypeError",
     "evalue": "'set' object is not subscriptable",
     "output_type": "error",
     "traceback": [
      "\u001b[1;31m---------------------------------------------------------------------------\u001b[0m",
      "\u001b[1;31mTypeError\u001b[0m                                 Traceback (most recent call last)",
      "\u001b[1;32m<ipython-input-77-1eb45a39cedf>\u001b[0m in \u001b[0;36m<module>\u001b[1;34m()\u001b[0m\n\u001b[0;32m      2\u001b[0m \u001b[0mprint\u001b[0m\u001b[1;33m(\u001b[0m\u001b[0mbar\u001b[0m\u001b[1;33m)\u001b[0m\u001b[1;33m\u001b[0m\u001b[0m\n\u001b[0;32m      3\u001b[0m \u001b[1;32mfor\u001b[0m \u001b[0mkey\u001b[0m\u001b[1;33m,\u001b[0m\u001b[0mcast\u001b[0m \u001b[1;32min\u001b[0m \u001b[0mFIELD_SPECS\u001b[0m\u001b[1;33m.\u001b[0m\u001b[0mitems\u001b[0m\u001b[1;33m(\u001b[0m\u001b[1;33m)\u001b[0m\u001b[1;33m:\u001b[0m\u001b[1;33m\u001b[0m\u001b[0m\n\u001b[1;32m----> 4\u001b[1;33m     \u001b[0mbar\u001b[0m\u001b[1;33m[\u001b[0m\u001b[0mkey\u001b[0m\u001b[1;33m]\u001b[0m\u001b[1;33m.\u001b[0m\u001b[0mappend\u001b[0m\u001b[1;33m(\u001b[0m\u001b[0mcast\u001b[0m\u001b[1;33m(\u001b[0m\u001b[0mdata\u001b[0m\u001b[1;33m[\u001b[0m\u001b[0mkey\u001b[0m\u001b[1;33m]\u001b[0m\u001b[1;33m)\u001b[0m\u001b[1;33m)\u001b[0m\u001b[1;33m\u001b[0m\u001b[0m\n\u001b[0m",
      "\u001b[1;31mTypeError\u001b[0m: 'set' object is not subscriptable"
     ]
    }
   ],
   "source": [
    "bar = {key for key in FIELD_SPECS.items()}\n",
    "print(bar)\n",
    "for key,cast in FIELD_SPECS.items():\n",
    "    bar[key].append(cast(data[key])) "
   ]
  },
  {
   "cell_type": "code",
   "execution_count": 69,
   "metadata": {
    "collapsed": false
   },
   "outputs": [],
   "source": [
    "fd = open(path_to_file)\n",
    "dom = ET.fromstring(fd.read())"
   ]
  },
  {
   "cell_type": "code",
   "execution_count": 90,
   "metadata": {
    "collapsed": false
   },
   "outputs": [
    {
     "name": "stderr",
     "output_type": "stream",
     "text": [
      "100%|██████████| 1000/1000 [00:13<00:00, 76.08it/s]\n"
     ]
    }
   ],
   "source": [
    "counter = 0\n",
    "data = {}\n",
    "data_topush = {}\n",
    "foo = True\n",
    "alldat = pd.DataFrame()\n",
    "for filing in tqdm(dom.findall('.//Filing')):\n",
    "    for reg in filing.findall('.//Registrant'):\n",
    "        for child in filing.findall('.//Contribution'):\n",
    "            data.clear()\n",
    "            data_topush.clear()\n",
    "            data.update(_dict_lower_keys(filing.attrib))\n",
    "            data.update(_dict_lower_keys(child.attrib))\n",
    "            data.update(_dict_lower_keys(reg.attrib))\n",
    "            data_topush = {key:cast(data[key]) for key,cast in FIELD_SPECS.items()}\n",
    "\n",
    "            for key,cast in FIELD_SPECS.items():\n",
    "                alldat.loc[counter,key] = cast(data[key])\n",
    "            counter = counter + 1\n",
    "alldat['year'] = alldat['year'].astype(int)\n",
    "alldat['registrantid'] = alldat['registrantid'].astype(int)\n"
   ]
  },
  {
   "cell_type": "code",
   "execution_count": 93,
   "metadata": {
    "collapsed": false,
    "scrolled": true
   },
   "outputs": [
    {
     "data": {
      "text/html": [
       "<div>\n",
       "<table border=\"1\" class=\"dataframe\">\n",
       "  <thead>\n",
       "    <tr style=\"text-align: right;\">\n",
       "      <th></th>\n",
       "      <th>honoree</th>\n",
       "      <th>registrantid</th>\n",
       "      <th>contributiondate</th>\n",
       "      <th>contributiontype</th>\n",
       "      <th>year</th>\n",
       "      <th>amount</th>\n",
       "      <th>received</th>\n",
       "    </tr>\n",
       "  </thead>\n",
       "  <tbody>\n",
       "    <tr>\n",
       "      <th>0</th>\n",
       "      <td>Congressman Frank Pallone</td>\n",
       "      <td>400693064</td>\n",
       "      <td>2015-06-17</td>\n",
       "      <td>FECA</td>\n",
       "      <td>2015</td>\n",
       "      <td>5000.0</td>\n",
       "      <td>2015-07-30 11:49:49.473</td>\n",
       "    </tr>\n",
       "    <tr>\n",
       "      <th>1</th>\n",
       "      <td>Representative Linda Sanchez</td>\n",
       "      <td>400693064</td>\n",
       "      <td>2015-02-11</td>\n",
       "      <td>FECA</td>\n",
       "      <td>2015</td>\n",
       "      <td>500.0</td>\n",
       "      <td>2015-07-30 11:49:49.473</td>\n",
       "    </tr>\n",
       "    <tr>\n",
       "      <th>2</th>\n",
       "      <td>Representative Xavier Becerra</td>\n",
       "      <td>400693064</td>\n",
       "      <td>2015-03-23</td>\n",
       "      <td>FECA</td>\n",
       "      <td>2015</td>\n",
       "      <td>2500.0</td>\n",
       "      <td>2015-07-30 11:49:49.473</td>\n",
       "    </tr>\n",
       "    <tr>\n",
       "      <th>3</th>\n",
       "      <td>Senator Kirsten Gillibrand</td>\n",
       "      <td>400693064</td>\n",
       "      <td>2015-04-13</td>\n",
       "      <td>FECA</td>\n",
       "      <td>2015</td>\n",
       "      <td>500.0</td>\n",
       "      <td>2015-07-30 11:49:49.473</td>\n",
       "    </tr>\n",
       "    <tr>\n",
       "      <th>4</th>\n",
       "      <td>Catherine Cortez Masto</td>\n",
       "      <td>400693064</td>\n",
       "      <td>2015-06-18</td>\n",
       "      <td>FECA</td>\n",
       "      <td>2015</td>\n",
       "      <td>500.0</td>\n",
       "      <td>2015-07-30 11:49:49.473</td>\n",
       "    </tr>\n",
       "    <tr>\n",
       "      <th>5</th>\n",
       "      <td>Representative Sander Levin</td>\n",
       "      <td>400693064</td>\n",
       "      <td>2015-02-23</td>\n",
       "      <td>FECA</td>\n",
       "      <td>2015</td>\n",
       "      <td>5200.0</td>\n",
       "      <td>2015-07-30 11:49:49.473</td>\n",
       "    </tr>\n",
       "    <tr>\n",
       "      <th>6</th>\n",
       "      <td>Secretary Hillary Clinton</td>\n",
       "      <td>400693064</td>\n",
       "      <td>2015-04-13</td>\n",
       "      <td>FECA</td>\n",
       "      <td>2015</td>\n",
       "      <td>500.0</td>\n",
       "      <td>2015-07-30 11:49:49.473</td>\n",
       "    </tr>\n",
       "    <tr>\n",
       "      <th>7</th>\n",
       "      <td>Representative Gwen Graham</td>\n",
       "      <td>400693064</td>\n",
       "      <td>2015-06-01</td>\n",
       "      <td>FECA</td>\n",
       "      <td>2015</td>\n",
       "      <td>1000.0</td>\n",
       "      <td>2015-07-30 11:49:49.473</td>\n",
       "    </tr>\n",
       "    <tr>\n",
       "      <th>8</th>\n",
       "      <td>Congressman Patrick Murphy</td>\n",
       "      <td>400693064</td>\n",
       "      <td>2015-05-18</td>\n",
       "      <td>FECA</td>\n",
       "      <td>2015</td>\n",
       "      <td>1000.0</td>\n",
       "      <td>2015-07-30 11:49:49.473</td>\n",
       "    </tr>\n",
       "    <tr>\n",
       "      <th>9</th>\n",
       "      <td>Senator Patty Murray</td>\n",
       "      <td>400693064</td>\n",
       "      <td>2015-04-20</td>\n",
       "      <td>FECA</td>\n",
       "      <td>2015</td>\n",
       "      <td>5400.0</td>\n",
       "      <td>2015-07-30 11:49:49.473</td>\n",
       "    </tr>\n",
       "    <tr>\n",
       "      <th>10</th>\n",
       "      <td>Senator Michael Bennet</td>\n",
       "      <td>400693064</td>\n",
       "      <td>2015-03-11</td>\n",
       "      <td>FECA</td>\n",
       "      <td>2015</td>\n",
       "      <td>2500.0</td>\n",
       "      <td>2015-07-30 11:49:49.473</td>\n",
       "    </tr>\n",
       "    <tr>\n",
       "      <th>11</th>\n",
       "      <td>Democratic Senatorial Campaign Committee</td>\n",
       "      <td>400693064</td>\n",
       "      <td>2015-02-23</td>\n",
       "      <td>FECA</td>\n",
       "      <td>2015</td>\n",
       "      <td>3500.0</td>\n",
       "      <td>2015-07-30 11:49:49.473</td>\n",
       "    </tr>\n",
       "    <tr>\n",
       "      <th>12</th>\n",
       "      <td>Representative G.K. Butterfield</td>\n",
       "      <td>400693064</td>\n",
       "      <td>2015-03-26</td>\n",
       "      <td>FECA</td>\n",
       "      <td>2015</td>\n",
       "      <td>500.0</td>\n",
       "      <td>2015-07-30 11:49:49.473</td>\n",
       "    </tr>\n",
       "    <tr>\n",
       "      <th>13</th>\n",
       "      <td>Hal Rogers</td>\n",
       "      <td>401103217</td>\n",
       "      <td>2015-03-02</td>\n",
       "      <td>FECA</td>\n",
       "      <td>2015</td>\n",
       "      <td>1000.0</td>\n",
       "      <td>2015-07-30 11:49:50.567</td>\n",
       "    </tr>\n",
       "    <tr>\n",
       "      <th>14</th>\n",
       "      <td>Lisa Murkowski</td>\n",
       "      <td>401103217</td>\n",
       "      <td>2015-04-22</td>\n",
       "      <td>FECA</td>\n",
       "      <td>2015</td>\n",
       "      <td>500.0</td>\n",
       "      <td>2015-07-30 11:49:50.567</td>\n",
       "    </tr>\n",
       "    <tr>\n",
       "      <th>15</th>\n",
       "      <td>Don Young</td>\n",
       "      <td>401103217</td>\n",
       "      <td>2015-05-20</td>\n",
       "      <td>FECA</td>\n",
       "      <td>2015</td>\n",
       "      <td>500.0</td>\n",
       "      <td>2015-07-30 11:49:50.567</td>\n",
       "    </tr>\n",
       "    <tr>\n",
       "      <th>16</th>\n",
       "      <td>John Thune</td>\n",
       "      <td>401103217</td>\n",
       "      <td>2015-02-10</td>\n",
       "      <td>FECA</td>\n",
       "      <td>2015</td>\n",
       "      <td>1000.0</td>\n",
       "      <td>2015-07-30 11:49:50.567</td>\n",
       "    </tr>\n",
       "    <tr>\n",
       "      <th>17</th>\n",
       "      <td>Jerry Moran</td>\n",
       "      <td>401103217</td>\n",
       "      <td>2015-05-13</td>\n",
       "      <td>FECA</td>\n",
       "      <td>2015</td>\n",
       "      <td>500.0</td>\n",
       "      <td>2015-07-30 11:49:50.567</td>\n",
       "    </tr>\n",
       "    <tr>\n",
       "      <th>18</th>\n",
       "      <td>Don Young</td>\n",
       "      <td>401103217</td>\n",
       "      <td>2015-03-23</td>\n",
       "      <td>FECA</td>\n",
       "      <td>2015</td>\n",
       "      <td>500.0</td>\n",
       "      <td>2015-07-30 11:49:50.567</td>\n",
       "    </tr>\n",
       "    <tr>\n",
       "      <th>19</th>\n",
       "      <td>Jerry Moran</td>\n",
       "      <td>401103217</td>\n",
       "      <td>2015-05-13</td>\n",
       "      <td>FECA</td>\n",
       "      <td>2015</td>\n",
       "      <td>500.0</td>\n",
       "      <td>2015-07-30 11:49:50.567</td>\n",
       "    </tr>\n",
       "  </tbody>\n",
       "</table>\n",
       "</div>"
      ],
      "text/plain": [
       "                                     honoree  registrantid contributiondate  \\\n",
       "0                  Congressman Frank Pallone     400693064       2015-06-17   \n",
       "1               Representative Linda Sanchez     400693064       2015-02-11   \n",
       "2              Representative Xavier Becerra     400693064       2015-03-23   \n",
       "3                 Senator Kirsten Gillibrand     400693064       2015-04-13   \n",
       "4                     Catherine Cortez Masto     400693064       2015-06-18   \n",
       "5                Representative Sander Levin     400693064       2015-02-23   \n",
       "6                  Secretary Hillary Clinton     400693064       2015-04-13   \n",
       "7                 Representative Gwen Graham     400693064       2015-06-01   \n",
       "8                 Congressman Patrick Murphy     400693064       2015-05-18   \n",
       "9                       Senator Patty Murray     400693064       2015-04-20   \n",
       "10                    Senator Michael Bennet     400693064       2015-03-11   \n",
       "11  Democratic Senatorial Campaign Committee     400693064       2015-02-23   \n",
       "12           Representative G.K. Butterfield     400693064       2015-03-26   \n",
       "13                                Hal Rogers     401103217       2015-03-02   \n",
       "14                            Lisa Murkowski     401103217       2015-04-22   \n",
       "15                                 Don Young     401103217       2015-05-20   \n",
       "16                                John Thune     401103217       2015-02-10   \n",
       "17                               Jerry Moran     401103217       2015-05-13   \n",
       "18                                 Don Young     401103217       2015-03-23   \n",
       "19                               Jerry Moran     401103217       2015-05-13   \n",
       "\n",
       "   contributiontype  year  amount                received  \n",
       "0              FECA  2015  5000.0 2015-07-30 11:49:49.473  \n",
       "1              FECA  2015   500.0 2015-07-30 11:49:49.473  \n",
       "2              FECA  2015  2500.0 2015-07-30 11:49:49.473  \n",
       "3              FECA  2015   500.0 2015-07-30 11:49:49.473  \n",
       "4              FECA  2015   500.0 2015-07-30 11:49:49.473  \n",
       "5              FECA  2015  5200.0 2015-07-30 11:49:49.473  \n",
       "6              FECA  2015   500.0 2015-07-30 11:49:49.473  \n",
       "7              FECA  2015  1000.0 2015-07-30 11:49:49.473  \n",
       "8              FECA  2015  1000.0 2015-07-30 11:49:49.473  \n",
       "9              FECA  2015  5400.0 2015-07-30 11:49:49.473  \n",
       "10             FECA  2015  2500.0 2015-07-30 11:49:49.473  \n",
       "11             FECA  2015  3500.0 2015-07-30 11:49:49.473  \n",
       "12             FECA  2015   500.0 2015-07-30 11:49:49.473  \n",
       "13             FECA  2015  1000.0 2015-07-30 11:49:50.567  \n",
       "14             FECA  2015   500.0 2015-07-30 11:49:50.567  \n",
       "15             FECA  2015   500.0 2015-07-30 11:49:50.567  \n",
       "16             FECA  2015  1000.0 2015-07-30 11:49:50.567  \n",
       "17             FECA  2015   500.0 2015-07-30 11:49:50.567  \n",
       "18             FECA  2015   500.0 2015-07-30 11:49:50.567  \n",
       "19             FECA  2015   500.0 2015-07-30 11:49:50.567  "
      ]
     },
     "execution_count": 93,
     "metadata": {},
     "output_type": "execute_result"
    }
   ],
   "source": [
    "alldat.head(20)"
   ]
  },
  {
   "cell_type": "code",
   "execution_count": 84,
   "metadata": {
    "collapsed": false
   },
   "outputs": [
    {
     "name": "stdout",
     "output_type": "stream",
     "text": [
      "<class 'numpy.float64'>\n"
     ]
    }
   ],
   "source": [
    "print(type(alldat['year'].iloc[0]))"
   ]
  },
  {
   "cell_type": "code",
   "execution_count": 87,
   "metadata": {
    "collapsed": false
   },
   "outputs": [],
   "source": [
    "alldat['year'] = alldat['year'].astype(int)"
   ]
  },
  {
   "cell_type": "code",
   "execution_count": null,
   "metadata": {
    "collapsed": true
   },
   "outputs": [],
   "source": []
  }
 ],
 "metadata": {
  "kernelspec": {
   "display_name": "Python 3",
   "language": "python",
   "name": "python3"
  },
  "language_info": {
   "codemirror_mode": {
    "name": "ipython",
    "version": 3
   },
   "file_extension": ".py",
   "mimetype": "text/x-python",
   "name": "python",
   "nbconvert_exporter": "python",
   "pygments_lexer": "ipython3",
   "version": "3.5.1"
  }
 },
 "nbformat": 4,
 "nbformat_minor": 0
}
