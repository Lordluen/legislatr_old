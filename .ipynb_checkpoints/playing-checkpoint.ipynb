{
 "cells": [
  {
   "cell_type": "code",
   "execution_count": 2,
   "metadata": {
    "collapsed": true
   },
   "outputs": [],
   "source": [
    "import numpy as np\n",
    "import pandas as pd\n",
    "import xml.etree.ElementTree as ET\n",
    "from tqdm import tqdm\n",
    "\n",
    "from dateutil.parser import parse as DateParser\n",
    "import os\n",
    "\n",
    "def _dict_lower_keys(d):\n",
    "    return {k.lower():v for k,v in d.items()}\n",
    "\n",
    "\n",
    "condir = '/home/lordluen/Code/InsightDS/Legis_data/contributions/'"
   ]
  },
  {
   "cell_type": "code",
   "execution_count": 3,
   "metadata": {
    "collapsed": true
   },
   "outputs": [],
   "source": [
    "FIELD_SPECS={\n",
    "    'year': int,\n",
    "    'amount': float,\n",
    "    'registrantid': int,\n",
    "    'received': DateParser,\n",
    "    'contributiondate': DateParser,\n",
    "    'contributiontype': str,\n",
    "    'honoree': str,\n",
    "}"
   ]
  },
  {
   "cell_type": "code",
   "execution_count": 8,
   "metadata": {
    "collapsed": false
   },
   "outputs": [
    {
     "name": "stdout",
     "output_type": "stream",
     "text": [
      "/home/lordluen/Code/InsightDS/Legis_data/contributions/2016_2_6_1_LD203.xml\n"
     ]
    }
   ],
   "source": [
    "path_to_file = condir+\"2016_2_6_1_LD203.xml\"\n",
    "print(path_to_file)"
   ]
  },
  {
   "cell_type": "code",
   "execution_count": 77,
   "metadata": {
    "collapsed": false
   },
   "outputs": [
    {
     "name": "stdout",
     "output_type": "stream",
     "text": [
      "{('honoree', <class 'str'>), ('amount', <class 'float'>), ('received', <function parse at 0x7f56b415c7b8>), ('contributiondate', <function parse at 0x7f56b415c7b8>), ('registrantid', <class 'int'>), ('year', <class 'int'>), ('contributiontype', <class 'str'>)}\n"
     ]
    },
    {
     "ename": "TypeError",
     "evalue": "'set' object is not subscriptable",
     "output_type": "error",
     "traceback": [
      "\u001b[1;31m---------------------------------------------------------------------------\u001b[0m",
      "\u001b[1;31mTypeError\u001b[0m                                 Traceback (most recent call last)",
      "\u001b[1;32m<ipython-input-77-1eb45a39cedf>\u001b[0m in \u001b[0;36m<module>\u001b[1;34m()\u001b[0m\n\u001b[0;32m      2\u001b[0m \u001b[0mprint\u001b[0m\u001b[1;33m(\u001b[0m\u001b[0mbar\u001b[0m\u001b[1;33m)\u001b[0m\u001b[1;33m\u001b[0m\u001b[0m\n\u001b[0;32m      3\u001b[0m \u001b[1;32mfor\u001b[0m \u001b[0mkey\u001b[0m\u001b[1;33m,\u001b[0m\u001b[0mcast\u001b[0m \u001b[1;32min\u001b[0m \u001b[0mFIELD_SPECS\u001b[0m\u001b[1;33m.\u001b[0m\u001b[0mitems\u001b[0m\u001b[1;33m(\u001b[0m\u001b[1;33m)\u001b[0m\u001b[1;33m:\u001b[0m\u001b[1;33m\u001b[0m\u001b[0m\n\u001b[1;32m----> 4\u001b[1;33m     \u001b[0mbar\u001b[0m\u001b[1;33m[\u001b[0m\u001b[0mkey\u001b[0m\u001b[1;33m]\u001b[0m\u001b[1;33m.\u001b[0m\u001b[0mappend\u001b[0m\u001b[1;33m(\u001b[0m\u001b[0mcast\u001b[0m\u001b[1;33m(\u001b[0m\u001b[0mdata\u001b[0m\u001b[1;33m[\u001b[0m\u001b[0mkey\u001b[0m\u001b[1;33m]\u001b[0m\u001b[1;33m)\u001b[0m\u001b[1;33m)\u001b[0m\u001b[1;33m\u001b[0m\u001b[0m\n\u001b[0m",
      "\u001b[1;31mTypeError\u001b[0m: 'set' object is not subscriptable"
     ]
    }
   ],
   "source": [
    "bar = {key for key in FIELD_SPECS.items()}\n",
    "print(bar)\n",
    "for key,cast in FIELD_SPECS.items():\n",
    "    bar[key].append(cast(data[key])) "
   ]
  },
  {
   "cell_type": "code",
   "execution_count": 9,
   "metadata": {
    "collapsed": false
   },
   "outputs": [],
   "source": [
    "fd = open(path_to_file)\n",
    "dom = ET.fromstring(fd.read())"
   ]
  },
  {
   "cell_type": "code",
   "execution_count": 10,
   "metadata": {
    "collapsed": false
   },
   "outputs": [
    {
     "name": "stderr",
     "output_type": "stream",
     "text": [
      "100%|██████████| 10/10 [00:00<00:00, 39162.50it/s]\n"
     ]
    }
   ],
   "source": [
    "counter = 0\n",
    "data = {}\n",
    "data_topush = {}\n",
    "foo = True\n",
    "alldat = pd.DataFrame()\n",
    "for filing in tqdm(dom.findall('.//Filing')):\n",
    "    for reg in filing.findall('.//Registrant'):\n",
    "        for child in filing.findall('.//Contribution'):\n",
    "            data.clear()\n",
    "            data_topush.clear()\n",
    "            data.update(_dict_lower_keys(filing.attrib))\n",
    "            data.update(_dict_lower_keys(child.attrib))\n",
    "            data.update(_dict_lower_keys(reg.attrib))\n",
    "            data_topush = {key:cast(data[key]) for key,cast in FIELD_SPECS.items()}\n",
    "\n",
    "            for key,cast in FIELD_SPECS.items():\n",
    "                alldat.loc[counter,key] = cast(data[key])\n",
    "            counter = counter + 1\n",
    "            \n",
    "alldat['year'] = alldat['year'].astype(int)\n",
    "#alldat['registrantid'] = alldat['registrantid'].astype(int)\n"
   ]
  },
  {
   "cell_type": "code",
   "execution_count": 11,
   "metadata": {
    "collapsed": false,
    "scrolled": true
   },
   "outputs": [
    {
     "data": {
      "text/html": [
       "<div>\n",
       "<table border=\"1\" class=\"dataframe\">\n",
       "  <thead>\n",
       "    <tr style=\"text-align: right;\">\n",
       "      <th></th>\n",
       "    </tr>\n",
       "  </thead>\n",
       "  <tbody>\n",
       "  </tbody>\n",
       "</table>\n",
       "</div>"
      ],
      "text/plain": [
       "Empty DataFrame\n",
       "Columns: []\n",
       "Index: []"
      ]
     },
     "execution_count": 11,
     "metadata": {},
     "output_type": "execute_result"
    }
   ],
   "source": [
    "alldat.head(20)"
   ]
  },
  {
   "cell_type": "code",
   "execution_count": 84,
   "metadata": {
    "collapsed": false
   },
   "outputs": [
    {
     "name": "stdout",
     "output_type": "stream",
     "text": [
      "<class 'numpy.float64'>\n"
     ]
    }
   ],
   "source": [
    "print(type(alldat['year'].iloc[0]))"
   ]
  },
  {
   "cell_type": "code",
   "execution_count": 87,
   "metadata": {
    "collapsed": false
   },
   "outputs": [],
   "source": [
    "alldat['year'] = alldat['year'].astype(int)"
   ]
  },
  {
   "cell_type": "code",
   "execution_count": null,
   "metadata": {
    "collapsed": true
   },
   "outputs": [],
   "source": []
  }
 ],
 "metadata": {
  "kernelspec": {
   "display_name": "Python 3",
   "language": "python",
   "name": "python3"
  },
  "language_info": {
   "codemirror_mode": {
    "name": "ipython",
    "version": 3
   },
   "file_extension": ".py",
   "mimetype": "text/x-python",
   "name": "python",
   "nbconvert_exporter": "python",
   "pygments_lexer": "ipython3",
   "version": "3.5.1"
  }
 },
 "nbformat": 4,
 "nbformat_minor": 0
}
