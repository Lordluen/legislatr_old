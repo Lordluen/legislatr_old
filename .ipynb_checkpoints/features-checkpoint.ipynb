{
 "cells": [
  {
   "cell_type": "markdown",
   "metadata": {},
   "source": [
    "# Step (n-2): Generate Feature Vector"
   ]
  },
  {
   "cell_type": "code",
   "execution_count": 1,
   "metadata": {
    "collapsed": false
   },
   "outputs": [
    {
     "name": "stdout",
     "output_type": "stream",
     "text": [
      "Populating the interactive namespace from numpy and matplotlib\n"
     ]
    }
   ],
   "source": [
    "%pylab inline\n",
    "import pandas as pd\n",
    "import contributions\n",
    "import votes\n",
    "import bills\n",
    "import sqlCommands\n",
    "from peoplefinder import PeopleFinder\n",
    "from operator import attrgetter\n",
    "from sqlalchemy import create_engine\n",
    "from sqlalchemy_utils import database_exists, create_database\n",
    "import psycopg2\n",
    "from tqdm import tqdm\n",
    "\n",
    "def subject_match(engine,A):\n",
    "    query = (\"SELECT bill_type,bill_number,status,result FROM allbills WHERE (subjects LIKE '%%{\" + A\n",
    "                     + \",%%' OR subjects LIKE '%%,\"+A+\",%%' OR subjects LIKE '%%,\"+A+\"}%%');\")\n",
    "    #use query and put in DataFrame\n",
    "    foo = pd.read_sql_query(query,engine)\n",
    "    return foo\n",
    "\n",
    "def get_subject_features(engine):\n",
    "    query = \"SELECT * FROM subs_morebills_hair\"\n",
    "    foo = pd.read_sql_query(query, engine)\n",
    "    return foo\n",
    "\n",
    "def clean_subject(a):\n",
    "    try:\n",
    "        quoteloc = a.index(\"'\") #may get issues with multiple single quotes in one topic.\n",
    "        a = a[:quoteloc]+\"'\"+a[quoteloc:]\n",
    "    except:\n",
    "        pass #no quotes found\n",
    "    #need to add \" if there are any spaces in the subject\n",
    "    try:\n",
    "        quoteloc = a.index(\" \") #will go to except if there are no spaces in the subject\n",
    "        a = '\\\"'+a+'\\\"'\n",
    "    except:\n",
    "        pass #no spaces found\n",
    "    return a\n",
    "\n",
    "def remove_paren(a):\n",
    "    try:\n",
    "        parenloc = a.index(\"(\")\n",
    "        a = a[:parenloc]+a[parenloc+1:]\n",
    "    except:\n",
    "        pass\n",
    "    try:\n",
    "        parenloc = a.index(\")\")\n",
    "        a = a[:parenloc]+a[parenloc+1:]\n",
    "    except:\n",
    "        pass\n",
    "    return a"
   ]
  },
  {
   "cell_type": "code",
   "execution_count": 2,
   "metadata": {
    "collapsed": true
   },
   "outputs": [],
   "source": [
    "#set up postgresql engine\n",
    "dbname = 'legislatr'\n",
    "engine = sqlCommands.get_engine(dbname)\n",
    "conn = psycopg2.connect(\"dbname='legislatr' user='lordluen' host='localhost'\")\n",
    "cur = conn.cursor()"
   ]
  },
  {
   "cell_type": "code",
   "execution_count": 3,
   "metadata": {
    "collapsed": false
   },
   "outputs": [],
   "source": [
    "#load in subject features\n",
    "sub_feat_temp = get_subject_features(engine)\n",
    "sub_feat = pd.DataFrame()\n",
    "sub_feat['subjects'] = sub_feat_temp.subjects\n",
    "sub_feat['q_subjects'] = sub_feat['subjects'].map( lambda x: clean_subject(x)) #subjects for querying.\n",
    "sub_feat['df_subjects'] = sub_feat['subjects'].map( lambda x:remove_paren(x))"
   ]
  },
  {
   "cell_type": "code",
   "execution_count": 6,
   "metadata": {
    "collapsed": false
   },
   "outputs": [
    {
     "name": "stdout",
     "output_type": "stream",
     "text": [
      "406\n"
     ]
    },
    {
     "data": {
      "text/html": [
       "<div>\n",
       "<table border=\"1\" class=\"dataframe\">\n",
       "  <thead>\n",
       "    <tr style=\"text-align: right;\">\n",
       "      <th></th>\n",
       "      <th>subjects</th>\n",
       "      <th>q_subjects</th>\n",
       "      <th>df_subjects</th>\n",
       "    </tr>\n",
       "  </thead>\n",
       "  <tbody>\n",
       "    <tr>\n",
       "      <th>0</th>\n",
       "      <td>Access Board</td>\n",
       "      <td>\"Access Board\"</td>\n",
       "      <td>Access Board</td>\n",
       "    </tr>\n",
       "    <tr>\n",
       "      <th>1</th>\n",
       "      <td>Administrative Conference of the U.S.</td>\n",
       "      <td>\"Administrative Conference of the U.S.\"</td>\n",
       "      <td>Administrative Conference of the U.S.</td>\n",
       "    </tr>\n",
       "    <tr>\n",
       "      <th>2</th>\n",
       "      <td>Administrative law and regulatory procedures</td>\n",
       "      <td>\"Administrative law and regulatory procedures\"</td>\n",
       "      <td>Administrative law and regulatory procedures</td>\n",
       "    </tr>\n",
       "  </tbody>\n",
       "</table>\n",
       "</div>"
      ],
      "text/plain": [
       "                                       subjects  \\\n",
       "0                                  Access Board   \n",
       "1         Administrative Conference of the U.S.   \n",
       "2  Administrative law and regulatory procedures   \n",
       "\n",
       "                                       q_subjects  \\\n",
       "0                                  \"Access Board\"   \n",
       "1         \"Administrative Conference of the U.S.\"   \n",
       "2  \"Administrative law and regulatory procedures\"   \n",
       "\n",
       "                                    df_subjects  \n",
       "0                                  Access Board  \n",
       "1         Administrative Conference of the U.S.  \n",
       "2  Administrative law and regulatory procedures  "
      ]
     },
     "execution_count": 6,
     "metadata": {},
     "output_type": "execute_result"
    }
   ],
   "source": [
    "print(sub_feat.subjects.size)\n",
    "sub_feat.head(3)"
   ]
  },
  {
   "cell_type": "code",
   "execution_count": 5,
   "metadata": {
    "collapsed": false
   },
   "outputs": [
    {
     "name": "stdout",
     "output_type": "stream",
     "text": [
      "38340\n"
     ]
    },
    {
     "data": {
      "text/html": [
       "<div>\n",
       "<table border=\"1\" class=\"dataframe\">\n",
       "  <thead>\n",
       "    <tr style=\"text-align: right;\">\n",
       "      <th></th>\n",
       "      <th>bill_type</th>\n",
       "      <th>bill_number</th>\n",
       "      <th>status</th>\n",
       "      <th>result</th>\n",
       "    </tr>\n",
       "  </thead>\n",
       "  <tbody>\n",
       "    <tr>\n",
       "      <th>0</th>\n",
       "      <td>s</td>\n",
       "      <td>1870</td>\n",
       "      <td>REPORTED</td>\n",
       "      <td>2</td>\n",
       "    </tr>\n",
       "    <tr>\n",
       "      <th>1</th>\n",
       "      <td>s</td>\n",
       "      <td>125</td>\n",
       "      <td>REFERRED</td>\n",
       "      <td>2</td>\n",
       "    </tr>\n",
       "    <tr>\n",
       "      <th>2</th>\n",
       "      <td>s</td>\n",
       "      <td>1027</td>\n",
       "      <td>REFERRED</td>\n",
       "      <td>2</td>\n",
       "    </tr>\n",
       "  </tbody>\n",
       "</table>\n",
       "</div>"
      ],
      "text/plain": [
       "  bill_type bill_number    status  result\n",
       "0         s        1870  REPORTED       2\n",
       "1         s         125  REFERRED       2\n",
       "2         s        1027  REFERRED       2"
      ]
     },
     "execution_count": 5,
     "metadata": {},
     "output_type": "execute_result"
    }
   ],
   "source": [
    "#create a dataframe will bill in first column, pass or fail in second column (will need to clean), and features in reamaining columns\n",
    "#first get a list of bills.\n",
    "bills_subjects = pd.read_sql(\"SELECT subjects FROM allbills;\",engine)\n",
    "bills_features = pd.read_sql(\"SELECT bill_type,bill_number,status,result FROM allbills;\",engine)\n",
    "print(bills_features['bill_type'].size)\n",
    "bills_features.head(3)"
   ]
  },
  {
   "cell_type": "code",
   "execution_count": 6,
   "metadata": {
    "collapsed": false
   },
   "outputs": [
    {
     "data": {
      "text/html": [
       "<div>\n",
       "<table border=\"1\" class=\"dataframe\">\n",
       "  <thead>\n",
       "    <tr style=\"text-align: right;\">\n",
       "      <th></th>\n",
       "      <th>subjects</th>\n",
       "    </tr>\n",
       "  </thead>\n",
       "  <tbody>\n",
       "    <tr>\n",
       "      <th>0</th>\n",
       "      <td>{\"Administrative law and regulatory procedures...</td>\n",
       "    </tr>\n",
       "    <tr>\n",
       "      <th>1</th>\n",
       "      <td>{\"Aquatic ecology\",\"Congressional oversight\",F...</td>\n",
       "    </tr>\n",
       "    <tr>\n",
       "      <th>2</th>\n",
       "      <td>{\"Congressional oversight\",\"Department of Heal...</td>\n",
       "    </tr>\n",
       "  </tbody>\n",
       "</table>\n",
       "</div>"
      ],
      "text/plain": [
       "                                            subjects\n",
       "0  {\"Administrative law and regulatory procedures...\n",
       "1  {\"Aquatic ecology\",\"Congressional oversight\",F...\n",
       "2  {\"Congressional oversight\",\"Department of Heal..."
      ]
     },
     "execution_count": 6,
     "metadata": {},
     "output_type": "execute_result"
    }
   ],
   "source": [
    "bills_subjects.head(3)"
   ]
  },
  {
   "cell_type": "code",
   "execution_count": 7,
   "metadata": {
    "collapsed": false
   },
   "outputs": [],
   "source": [
    "#CELL NO LONGER IN USE\n",
    "#second make new dataframe with just type, number, and result.\n",
    "#bills_features = pd.DataFrame()\n",
    "#bills_features[['type','number','result']] = bills[['type','number','result']]"
   ]
  },
  {
   "cell_type": "code",
   "execution_count": 8,
   "metadata": {
    "collapsed": false
   },
   "outputs": [],
   "source": [
    "#bills_features.head(3)"
   ]
  },
  {
   "cell_type": "code",
   "execution_count": 9,
   "metadata": {
    "collapsed": false
   },
   "outputs": [
    {
     "name": "stderr",
     "output_type": "stream",
     "text": [
      " 11%|█         | 44/406 [00:01<00:10, 34.95it/s]/home/lordluen/anaconda2/envs/py3_env/lib/python3.5/site-packages/ipykernel/__main__.py:9: UserWarning: This pattern has match groups. To actually get the groups, use str.extract.\n",
      "100%|██████████| 406/406 [00:11<00:00, 33.92it/s]\n"
     ]
    }
   ],
   "source": [
    "#query type and number for bills that match each subject, map into df.\n",
    "#loop over subjects.\n",
    "for i in tqdm(range(0,sub_feat['subjects'].size)):\n",
    "#get subject.\n",
    "#qsub = sub_feat['q_subjects'].iloc[i] #pull out subject to search for\n",
    "#currently using a postgresql query to get bill info, might be faster to search the dataframe I already have loaded.\n",
    "#matches = subject_matches(engine,qsub) #get bill identifiers that have those subjects\n",
    "    qsub = sub_feat['subjects'].iloc[i] #pull out subject to search for\n",
    "    csub = sub_feat['df_subjects'].iloc[i] #subject to be column name\n",
    "    boolcount = bills_subjects.subjects.str.contains(qsub, na=False)\n",
    "    bills_features[csub] = boolcount.map({False:0,True:1}).astype(int) #subjects for querying."
   ]
  },
  {
   "cell_type": "code",
   "execution_count": 12,
   "metadata": {
    "collapsed": false,
    "scrolled": true
   },
   "outputs": [
    {
     "name": "stdout",
     "output_type": "stream",
     "text": [
      "Administrative law and regulatory procedures    1\n",
      "Child care and development                      1\n",
      "Child safety and welfare                        1\n",
      "Congress                                        1\n",
      "Crime victims                                   1\n",
      "Department of Health and Human Services         1\n",
      "Executive agency funding and structure          1\n",
      "Family services                                 1\n",
      "Homelessness and emergency shelter              1\n",
      "Housing and community development funding       1\n",
      "Human trafficking                               1\n",
      "Indian social and development programs          1\n",
      "International law and treaties                  1\n",
      "Sex offenses                                    1\n",
      "Visas and passports                             1\n",
      "Name: 0, dtype: object\n",
      "{\"Administrative law and regulatory procedures\",\"Adoption and foster care\",\"Advisory bodies\",\"Bank accounts, deposits, capital\",\"Child care and development\",\"Child health\",\"Child safety and welfare\",\"Congressional oversight\",\"Crime victims\",\"Crimes against children\",\"Department of Health and Human Services\",\"Employee hiring\",\"Executive agency funding and structure\",\"Family relationships\",\"Family services\",\"Government information and archives\",\"Homelessness and emergency shelter\",\"Housing and community development funding\",\"Human trafficking\",\"Indian social and development programs\",\"Intergovernmental relations\",\"International law and treaties\",\"Jurisdiction and venue\",\"Licensing and registrations\",\"Separation, divorce, custody, support\",\"Sex offenses\",\"Social welfare\",\"State and local government operations\",\"Tax administration and collection, taxpayers\",Unemployment,\"Visas and passports\"}\n"
     ]
    }
   ],
   "source": [
    "#check that it worked.\n",
    "print(bills_features.loc[0][bills_features.loc[0] == 1])\n",
    "print(bills_subjects['subjects'].iloc[0])"
   ]
  },
  {
   "cell_type": "code",
   "execution_count": 13,
   "metadata": {
    "collapsed": false
   },
   "outputs": [
    {
     "data": {
      "text/html": [
       "<div>\n",
       "<table border=\"1\" class=\"dataframe\">\n",
       "  <thead>\n",
       "    <tr style=\"text-align: right;\">\n",
       "      <th></th>\n",
       "      <th>bill_type</th>\n",
       "      <th>bill_number</th>\n",
       "      <th>status</th>\n",
       "      <th>result</th>\n",
       "      <th>Access Board</th>\n",
       "      <th>Administrative Conference of the U.S.</th>\n",
       "      <th>Administrative law and regulatory procedures</th>\n",
       "      <th>Afghanistan</th>\n",
       "      <th>Africa</th>\n",
       "      <th>Agricultural conservation and pollution</th>\n",
       "      <th>...</th>\n",
       "      <th>Water use and supply</th>\n",
       "      <th>Watersheds</th>\n",
       "      <th>West Bank</th>\n",
       "      <th>Wetlands</th>\n",
       "      <th>Women's health</th>\n",
       "      <th>Women's rights</th>\n",
       "      <th>World health</th>\n",
       "      <th>Wyoming</th>\n",
       "      <th>Yemen</th>\n",
       "      <th>Zimbabwe</th>\n",
       "    </tr>\n",
       "  </thead>\n",
       "  <tbody>\n",
       "    <tr>\n",
       "      <th>0</th>\n",
       "      <td>s</td>\n",
       "      <td>1870</td>\n",
       "      <td>REPORTED</td>\n",
       "      <td>2</td>\n",
       "      <td>0</td>\n",
       "      <td>0</td>\n",
       "      <td>1</td>\n",
       "      <td>0</td>\n",
       "      <td>0</td>\n",
       "      <td>0</td>\n",
       "      <td>...</td>\n",
       "      <td>0</td>\n",
       "      <td>0</td>\n",
       "      <td>0</td>\n",
       "      <td>0</td>\n",
       "      <td>0</td>\n",
       "      <td>0</td>\n",
       "      <td>0</td>\n",
       "      <td>0</td>\n",
       "      <td>0</td>\n",
       "      <td>0</td>\n",
       "    </tr>\n",
       "    <tr>\n",
       "      <th>1</th>\n",
       "      <td>s</td>\n",
       "      <td>125</td>\n",
       "      <td>REFERRED</td>\n",
       "      <td>2</td>\n",
       "      <td>0</td>\n",
       "      <td>0</td>\n",
       "      <td>0</td>\n",
       "      <td>0</td>\n",
       "      <td>0</td>\n",
       "      <td>0</td>\n",
       "      <td>...</td>\n",
       "      <td>0</td>\n",
       "      <td>0</td>\n",
       "      <td>0</td>\n",
       "      <td>0</td>\n",
       "      <td>0</td>\n",
       "      <td>0</td>\n",
       "      <td>0</td>\n",
       "      <td>0</td>\n",
       "      <td>0</td>\n",
       "      <td>0</td>\n",
       "    </tr>\n",
       "    <tr>\n",
       "      <th>2</th>\n",
       "      <td>s</td>\n",
       "      <td>1027</td>\n",
       "      <td>REFERRED</td>\n",
       "      <td>2</td>\n",
       "      <td>0</td>\n",
       "      <td>0</td>\n",
       "      <td>0</td>\n",
       "      <td>0</td>\n",
       "      <td>0</td>\n",
       "      <td>0</td>\n",
       "      <td>...</td>\n",
       "      <td>0</td>\n",
       "      <td>0</td>\n",
       "      <td>0</td>\n",
       "      <td>0</td>\n",
       "      <td>0</td>\n",
       "      <td>0</td>\n",
       "      <td>0</td>\n",
       "      <td>0</td>\n",
       "      <td>0</td>\n",
       "      <td>0</td>\n",
       "    </tr>\n",
       "  </tbody>\n",
       "</table>\n",
       "<p>3 rows × 410 columns</p>\n",
       "</div>"
      ],
      "text/plain": [
       "  bill_type bill_number    status  result  Access Board  \\\n",
       "0         s        1870  REPORTED       2             0   \n",
       "1         s         125  REFERRED       2             0   \n",
       "2         s        1027  REFERRED       2             0   \n",
       "\n",
       "   Administrative Conference of the U.S.  \\\n",
       "0                                      0   \n",
       "1                                      0   \n",
       "2                                      0   \n",
       "\n",
       "   Administrative law and regulatory procedures  Afghanistan  Africa  \\\n",
       "0                                             1            0       0   \n",
       "1                                             0            0       0   \n",
       "2                                             0            0       0   \n",
       "\n",
       "   Agricultural conservation and pollution    ...     Water use and supply  \\\n",
       "0                                        0    ...                        0   \n",
       "1                                        0    ...                        0   \n",
       "2                                        0    ...                        0   \n",
       "\n",
       "   Watersheds  West Bank  Wetlands  Women's health  Women's rights  \\\n",
       "0           0          0         0               0               0   \n",
       "1           0          0         0               0               0   \n",
       "2           0          0         0               0               0   \n",
       "\n",
       "   World health  Wyoming  Yemen  Zimbabwe  \n",
       "0             0        0      0         0  \n",
       "1             0        0      0         0  \n",
       "2             0        0      0         0  \n",
       "\n",
       "[3 rows x 410 columns]"
      ]
     },
     "execution_count": 13,
     "metadata": {},
     "output_type": "execute_result"
    }
   ],
   "source": [
    "bills_features.head(3)"
   ]
  },
  {
   "cell_type": "code",
   "execution_count": 29,
   "metadata": {
    "collapsed": false
   },
   "outputs": [
    {
     "name": "stdout",
     "output_type": "stream",
     "text": [
      "Index(['Cardiovascular and respiratory health', 'Caribbean area',\n",
      "       'Cemeteries and funerals', 'Census and government statistics',\n",
      "       'Centers for Disease Control and Prevention (CDC)'],\n",
      "      dtype='object')\n"
     ]
    }
   ],
   "source": [
    "bills_features=bills_features.rename(columns = {'Centers for Disease Control and Prevention (CDC':'Centers for Disease Control and Prevention'})\n",
    "print(bills_features.columns[45:50])\n",
    "bills_features.rename?"
   ]
  },
  {
   "cell_type": "code",
   "execution_count": 16,
   "metadata": {
    "collapsed": false
   },
   "outputs": [
    {
     "ename": "KeyError",
     "evalue": "'Centers for Disease Control and Prevention (CDC'",
     "output_type": "error",
     "traceback": [
      "\u001b[1;31m---------------------------------------------------------------------------\u001b[0m",
      "\u001b[1;31mKeyError\u001b[0m                                  Traceback (most recent call last)",
      "\u001b[1;32m<ipython-input-16-29b8712144c0>\u001b[0m in \u001b[0;36m<module>\u001b[1;34m()\u001b[0m\n\u001b[0;32m      1\u001b[0m \u001b[1;31m#save results to database.\u001b[0m\u001b[1;33m\u001b[0m\u001b[1;33m\u001b[0m\u001b[0m\n\u001b[1;32m----> 2\u001b[1;33m \u001b[0msqlCommands\u001b[0m\u001b[1;33m.\u001b[0m\u001b[0mwrite_to_database\u001b[0m\u001b[1;33m(\u001b[0m\u001b[0mdbname\u001b[0m\u001b[1;33m,\u001b[0m\u001b[1;34m'features'\u001b[0m\u001b[1;33m,\u001b[0m\u001b[0mbills_features\u001b[0m\u001b[1;33m,\u001b[0m\u001b[0mengine\u001b[0m\u001b[1;33m)\u001b[0m\u001b[1;33m\u001b[0m\u001b[0m\n\u001b[0m",
      "\u001b[1;32m/home/lordluen/Code/InsightDS/Fast_Foward/sqlCommands.py\u001b[0m in \u001b[0;36mwrite_to_database\u001b[1;34m(dbname, df_name, df, engine)\u001b[0m\n\u001b[0;32m     54\u001b[0m     \u001b[1;31m#username = 'lordluen'\u001b[0m\u001b[1;33m\u001b[0m\u001b[1;33m\u001b[0m\u001b[0m\n\u001b[0;32m     55\u001b[0m     \u001b[1;31m#engine = create_engine('postgres://%s@localhost/%s'%(username,dbname))\u001b[0m\u001b[1;33m\u001b[0m\u001b[1;33m\u001b[0m\u001b[0m\n\u001b[1;32m---> 56\u001b[1;33m     \u001b[0mdf\u001b[0m\u001b[1;33m.\u001b[0m\u001b[0mto_sql\u001b[0m\u001b[1;33m(\u001b[0m\u001b[0mdf_name\u001b[0m\u001b[1;33m,\u001b[0m\u001b[0mengine\u001b[0m\u001b[1;33m,\u001b[0m\u001b[0mif_exists\u001b[0m\u001b[1;33m=\u001b[0m\u001b[1;34m'replace'\u001b[0m\u001b[1;33m)\u001b[0m\u001b[1;33m\u001b[0m\u001b[0m\n\u001b[0m\u001b[0;32m     57\u001b[0m     \u001b[1;32mreturn\u001b[0m\u001b[1;33m\u001b[0m\u001b[0m\n\u001b[0;32m     58\u001b[0m \u001b[1;33m\u001b[0m\u001b[0m\n",
      "\u001b[1;32m/home/lordluen/anaconda2/envs/py3_env/lib/python3.5/site-packages/pandas/core/generic.py\u001b[0m in \u001b[0;36mto_sql\u001b[1;34m(self, name, con, flavor, schema, if_exists, index, index_label, chunksize, dtype)\u001b[0m\n\u001b[0;32m   1158\u001b[0m         sql.to_sql(self, name, con, flavor=flavor, schema=schema,\n\u001b[0;32m   1159\u001b[0m                    \u001b[0mif_exists\u001b[0m\u001b[1;33m=\u001b[0m\u001b[0mif_exists\u001b[0m\u001b[1;33m,\u001b[0m \u001b[0mindex\u001b[0m\u001b[1;33m=\u001b[0m\u001b[0mindex\u001b[0m\u001b[1;33m,\u001b[0m \u001b[0mindex_label\u001b[0m\u001b[1;33m=\u001b[0m\u001b[0mindex_label\u001b[0m\u001b[1;33m,\u001b[0m\u001b[1;33m\u001b[0m\u001b[0m\n\u001b[1;32m-> 1160\u001b[1;33m                    chunksize=chunksize, dtype=dtype)\n\u001b[0m\u001b[0;32m   1161\u001b[0m \u001b[1;33m\u001b[0m\u001b[0m\n\u001b[0;32m   1162\u001b[0m     \u001b[1;32mdef\u001b[0m \u001b[0mto_pickle\u001b[0m\u001b[1;33m(\u001b[0m\u001b[0mself\u001b[0m\u001b[1;33m,\u001b[0m \u001b[0mpath\u001b[0m\u001b[1;33m)\u001b[0m\u001b[1;33m:\u001b[0m\u001b[1;33m\u001b[0m\u001b[0m\n",
      "\u001b[1;32m/home/lordluen/anaconda2/envs/py3_env/lib/python3.5/site-packages/pandas/io/sql.py\u001b[0m in \u001b[0;36mto_sql\u001b[1;34m(frame, name, con, flavor, schema, if_exists, index, index_label, chunksize, dtype)\u001b[0m\n\u001b[0;32m    569\u001b[0m     pandas_sql.to_sql(frame, name, if_exists=if_exists, index=index,\n\u001b[0;32m    570\u001b[0m                       \u001b[0mindex_label\u001b[0m\u001b[1;33m=\u001b[0m\u001b[0mindex_label\u001b[0m\u001b[1;33m,\u001b[0m \u001b[0mschema\u001b[0m\u001b[1;33m=\u001b[0m\u001b[0mschema\u001b[0m\u001b[1;33m,\u001b[0m\u001b[1;33m\u001b[0m\u001b[0m\n\u001b[1;32m--> 571\u001b[1;33m                       chunksize=chunksize, dtype=dtype)\n\u001b[0m\u001b[0;32m    572\u001b[0m \u001b[1;33m\u001b[0m\u001b[0m\n\u001b[0;32m    573\u001b[0m \u001b[1;33m\u001b[0m\u001b[0m\n",
      "\u001b[1;32m/home/lordluen/anaconda2/envs/py3_env/lib/python3.5/site-packages/pandas/io/sql.py\u001b[0m in \u001b[0;36mto_sql\u001b[1;34m(self, frame, name, if_exists, index, index_label, schema, chunksize, dtype)\u001b[0m\n\u001b[0;32m   1248\u001b[0m                          schema=schema, dtype=dtype)\n\u001b[0;32m   1249\u001b[0m         \u001b[0mtable\u001b[0m\u001b[1;33m.\u001b[0m\u001b[0mcreate\u001b[0m\u001b[1;33m(\u001b[0m\u001b[1;33m)\u001b[0m\u001b[1;33m\u001b[0m\u001b[0m\n\u001b[1;32m-> 1250\u001b[1;33m         \u001b[0mtable\u001b[0m\u001b[1;33m.\u001b[0m\u001b[0minsert\u001b[0m\u001b[1;33m(\u001b[0m\u001b[0mchunksize\u001b[0m\u001b[1;33m)\u001b[0m\u001b[1;33m\u001b[0m\u001b[0m\n\u001b[0m\u001b[0;32m   1251\u001b[0m         \u001b[1;31m# check for potentially case sensitivity issues (GH7815)\u001b[0m\u001b[1;33m\u001b[0m\u001b[1;33m\u001b[0m\u001b[0m\n\u001b[0;32m   1252\u001b[0m         \u001b[0mengine\u001b[0m \u001b[1;33m=\u001b[0m \u001b[0mself\u001b[0m\u001b[1;33m.\u001b[0m\u001b[0mconnectable\u001b[0m\u001b[1;33m.\u001b[0m\u001b[0mengine\u001b[0m\u001b[1;33m\u001b[0m\u001b[0m\n",
      "\u001b[1;32m/home/lordluen/anaconda2/envs/py3_env/lib/python3.5/site-packages/pandas/io/sql.py\u001b[0m in \u001b[0;36minsert\u001b[1;34m(self, chunksize)\u001b[0m\n\u001b[0;32m    768\u001b[0m \u001b[1;33m\u001b[0m\u001b[0m\n\u001b[0;32m    769\u001b[0m                 \u001b[0mchunk_iter\u001b[0m \u001b[1;33m=\u001b[0m \u001b[0mzip\u001b[0m\u001b[1;33m(\u001b[0m\u001b[1;33m*\u001b[0m\u001b[1;33m[\u001b[0m\u001b[0marr\u001b[0m\u001b[1;33m[\u001b[0m\u001b[0mstart_i\u001b[0m\u001b[1;33m:\u001b[0m\u001b[0mend_i\u001b[0m\u001b[1;33m]\u001b[0m \u001b[1;32mfor\u001b[0m \u001b[0marr\u001b[0m \u001b[1;32min\u001b[0m \u001b[0mdata_list\u001b[0m\u001b[1;33m]\u001b[0m\u001b[1;33m)\u001b[0m\u001b[1;33m\u001b[0m\u001b[0m\n\u001b[1;32m--> 770\u001b[1;33m                 \u001b[0mself\u001b[0m\u001b[1;33m.\u001b[0m\u001b[0m_execute_insert\u001b[0m\u001b[1;33m(\u001b[0m\u001b[0mconn\u001b[0m\u001b[1;33m,\u001b[0m \u001b[0mkeys\u001b[0m\u001b[1;33m,\u001b[0m \u001b[0mchunk_iter\u001b[0m\u001b[1;33m)\u001b[0m\u001b[1;33m\u001b[0m\u001b[0m\n\u001b[0m\u001b[0;32m    771\u001b[0m \u001b[1;33m\u001b[0m\u001b[0m\n\u001b[0;32m    772\u001b[0m     def _query_iterator(self, result, chunksize, columns, coerce_float=True,\n",
      "\u001b[1;32m/home/lordluen/anaconda2/envs/py3_env/lib/python3.5/site-packages/pandas/io/sql.py\u001b[0m in \u001b[0;36m_execute_insert\u001b[1;34m(self, conn, keys, data_iter)\u001b[0m\n\u001b[0;32m    743\u001b[0m     \u001b[1;32mdef\u001b[0m \u001b[0m_execute_insert\u001b[0m\u001b[1;33m(\u001b[0m\u001b[0mself\u001b[0m\u001b[1;33m,\u001b[0m \u001b[0mconn\u001b[0m\u001b[1;33m,\u001b[0m \u001b[0mkeys\u001b[0m\u001b[1;33m,\u001b[0m \u001b[0mdata_iter\u001b[0m\u001b[1;33m)\u001b[0m\u001b[1;33m:\u001b[0m\u001b[1;33m\u001b[0m\u001b[0m\n\u001b[0;32m    744\u001b[0m         \u001b[0mdata\u001b[0m \u001b[1;33m=\u001b[0m \u001b[1;33m[\u001b[0m\u001b[0mdict\u001b[0m\u001b[1;33m(\u001b[0m\u001b[1;33m(\u001b[0m\u001b[0mk\u001b[0m\u001b[1;33m,\u001b[0m \u001b[0mv\u001b[0m\u001b[1;33m)\u001b[0m \u001b[1;32mfor\u001b[0m \u001b[0mk\u001b[0m\u001b[1;33m,\u001b[0m \u001b[0mv\u001b[0m \u001b[1;32min\u001b[0m \u001b[0mzip\u001b[0m\u001b[1;33m(\u001b[0m\u001b[0mkeys\u001b[0m\u001b[1;33m,\u001b[0m \u001b[0mrow\u001b[0m\u001b[1;33m)\u001b[0m\u001b[1;33m)\u001b[0m \u001b[1;32mfor\u001b[0m \u001b[0mrow\u001b[0m \u001b[1;32min\u001b[0m \u001b[0mdata_iter\u001b[0m\u001b[1;33m]\u001b[0m\u001b[1;33m\u001b[0m\u001b[0m\n\u001b[1;32m--> 745\u001b[1;33m         \u001b[0mconn\u001b[0m\u001b[1;33m.\u001b[0m\u001b[0mexecute\u001b[0m\u001b[1;33m(\u001b[0m\u001b[0mself\u001b[0m\u001b[1;33m.\u001b[0m\u001b[0minsert_statement\u001b[0m\u001b[1;33m(\u001b[0m\u001b[1;33m)\u001b[0m\u001b[1;33m,\u001b[0m \u001b[0mdata\u001b[0m\u001b[1;33m)\u001b[0m\u001b[1;33m\u001b[0m\u001b[0m\n\u001b[0m\u001b[0;32m    746\u001b[0m \u001b[1;33m\u001b[0m\u001b[0m\n\u001b[0;32m    747\u001b[0m     \u001b[1;32mdef\u001b[0m \u001b[0minsert\u001b[0m\u001b[1;33m(\u001b[0m\u001b[0mself\u001b[0m\u001b[1;33m,\u001b[0m \u001b[0mchunksize\u001b[0m\u001b[1;33m=\u001b[0m\u001b[1;32mNone\u001b[0m\u001b[1;33m)\u001b[0m\u001b[1;33m:\u001b[0m\u001b[1;33m\u001b[0m\u001b[0m\n",
      "\u001b[1;32m/home/lordluen/anaconda2/envs/py3_env/lib/python3.5/site-packages/sqlalchemy/engine/base.py\u001b[0m in \u001b[0;36mexecute\u001b[1;34m(self, object, *multiparams, **params)\u001b[0m\n\u001b[0;32m    912\u001b[0m                 type(object))\n\u001b[0;32m    913\u001b[0m         \u001b[1;32melse\u001b[0m\u001b[1;33m:\u001b[0m\u001b[1;33m\u001b[0m\u001b[0m\n\u001b[1;32m--> 914\u001b[1;33m             \u001b[1;32mreturn\u001b[0m \u001b[0mmeth\u001b[0m\u001b[1;33m(\u001b[0m\u001b[0mself\u001b[0m\u001b[1;33m,\u001b[0m \u001b[0mmultiparams\u001b[0m\u001b[1;33m,\u001b[0m \u001b[0mparams\u001b[0m\u001b[1;33m)\u001b[0m\u001b[1;33m\u001b[0m\u001b[0m\n\u001b[0m\u001b[0;32m    915\u001b[0m \u001b[1;33m\u001b[0m\u001b[0m\n\u001b[0;32m    916\u001b[0m     \u001b[1;32mdef\u001b[0m \u001b[0m_execute_function\u001b[0m\u001b[1;33m(\u001b[0m\u001b[0mself\u001b[0m\u001b[1;33m,\u001b[0m \u001b[0mfunc\u001b[0m\u001b[1;33m,\u001b[0m \u001b[0mmultiparams\u001b[0m\u001b[1;33m,\u001b[0m \u001b[0mparams\u001b[0m\u001b[1;33m)\u001b[0m\u001b[1;33m:\u001b[0m\u001b[1;33m\u001b[0m\u001b[0m\n",
      "\u001b[1;32m/home/lordluen/anaconda2/envs/py3_env/lib/python3.5/site-packages/sqlalchemy/sql/elements.py\u001b[0m in \u001b[0;36m_execute_on_connection\u001b[1;34m(self, connection, multiparams, params)\u001b[0m\n\u001b[0;32m    321\u001b[0m \u001b[1;33m\u001b[0m\u001b[0m\n\u001b[0;32m    322\u001b[0m     \u001b[1;32mdef\u001b[0m \u001b[0m_execute_on_connection\u001b[0m\u001b[1;33m(\u001b[0m\u001b[0mself\u001b[0m\u001b[1;33m,\u001b[0m \u001b[0mconnection\u001b[0m\u001b[1;33m,\u001b[0m \u001b[0mmultiparams\u001b[0m\u001b[1;33m,\u001b[0m \u001b[0mparams\u001b[0m\u001b[1;33m)\u001b[0m\u001b[1;33m:\u001b[0m\u001b[1;33m\u001b[0m\u001b[0m\n\u001b[1;32m--> 323\u001b[1;33m         \u001b[1;32mreturn\u001b[0m \u001b[0mconnection\u001b[0m\u001b[1;33m.\u001b[0m\u001b[0m_execute_clauseelement\u001b[0m\u001b[1;33m(\u001b[0m\u001b[0mself\u001b[0m\u001b[1;33m,\u001b[0m \u001b[0mmultiparams\u001b[0m\u001b[1;33m,\u001b[0m \u001b[0mparams\u001b[0m\u001b[1;33m)\u001b[0m\u001b[1;33m\u001b[0m\u001b[0m\n\u001b[0m\u001b[0;32m    324\u001b[0m \u001b[1;33m\u001b[0m\u001b[0m\n\u001b[0;32m    325\u001b[0m     \u001b[1;32mdef\u001b[0m \u001b[0munique_params\u001b[0m\u001b[1;33m(\u001b[0m\u001b[0mself\u001b[0m\u001b[1;33m,\u001b[0m \u001b[1;33m*\u001b[0m\u001b[0moptionaldict\u001b[0m\u001b[1;33m,\u001b[0m \u001b[1;33m**\u001b[0m\u001b[0mkwargs\u001b[0m\u001b[1;33m)\u001b[0m\u001b[1;33m:\u001b[0m\u001b[1;33m\u001b[0m\u001b[0m\n",
      "\u001b[1;32m/home/lordluen/anaconda2/envs/py3_env/lib/python3.5/site-packages/sqlalchemy/engine/base.py\u001b[0m in \u001b[0;36m_execute_clauseelement\u001b[1;34m(self, elem, multiparams, params)\u001b[0m\n\u001b[0;32m   1008\u001b[0m             \u001b[0mcompiled_sql\u001b[0m\u001b[1;33m,\u001b[0m\u001b[1;33m\u001b[0m\u001b[0m\n\u001b[0;32m   1009\u001b[0m             \u001b[0mdistilled_params\u001b[0m\u001b[1;33m,\u001b[0m\u001b[1;33m\u001b[0m\u001b[0m\n\u001b[1;32m-> 1010\u001b[1;33m             \u001b[0mcompiled_sql\u001b[0m\u001b[1;33m,\u001b[0m \u001b[0mdistilled_params\u001b[0m\u001b[1;33m\u001b[0m\u001b[0m\n\u001b[0m\u001b[0;32m   1011\u001b[0m         )\n\u001b[0;32m   1012\u001b[0m         \u001b[1;32mif\u001b[0m \u001b[0mself\u001b[0m\u001b[1;33m.\u001b[0m\u001b[0m_has_events\u001b[0m \u001b[1;32mor\u001b[0m \u001b[0mself\u001b[0m\u001b[1;33m.\u001b[0m\u001b[0mengine\u001b[0m\u001b[1;33m.\u001b[0m\u001b[0m_has_events\u001b[0m\u001b[1;33m:\u001b[0m\u001b[1;33m\u001b[0m\u001b[0m\n",
      "\u001b[1;32m/home/lordluen/anaconda2/envs/py3_env/lib/python3.5/site-packages/sqlalchemy/engine/base.py\u001b[0m in \u001b[0;36m_execute_context\u001b[1;34m(self, dialect, constructor, statement, parameters, *args)\u001b[0m\n\u001b[0;32m   1144\u001b[0m                 \u001b[0mparameters\u001b[0m\u001b[1;33m,\u001b[0m\u001b[1;33m\u001b[0m\u001b[0m\n\u001b[0;32m   1145\u001b[0m                 \u001b[0mcursor\u001b[0m\u001b[1;33m,\u001b[0m\u001b[1;33m\u001b[0m\u001b[0m\n\u001b[1;32m-> 1146\u001b[1;33m                 context)\n\u001b[0m\u001b[0;32m   1147\u001b[0m \u001b[1;33m\u001b[0m\u001b[0m\n\u001b[0;32m   1148\u001b[0m         \u001b[1;32mif\u001b[0m \u001b[0mself\u001b[0m\u001b[1;33m.\u001b[0m\u001b[0m_has_events\u001b[0m \u001b[1;32mor\u001b[0m \u001b[0mself\u001b[0m\u001b[1;33m.\u001b[0m\u001b[0mengine\u001b[0m\u001b[1;33m.\u001b[0m\u001b[0m_has_events\u001b[0m\u001b[1;33m:\u001b[0m\u001b[1;33m\u001b[0m\u001b[0m\n",
      "\u001b[1;32m/home/lordluen/anaconda2/envs/py3_env/lib/python3.5/site-packages/sqlalchemy/engine/base.py\u001b[0m in \u001b[0;36m_handle_dbapi_exception\u001b[1;34m(self, e, statement, parameters, cursor, context)\u001b[0m\n\u001b[0;32m   1342\u001b[0m                 )\n\u001b[0;32m   1343\u001b[0m             \u001b[1;32melse\u001b[0m\u001b[1;33m:\u001b[0m\u001b[1;33m\u001b[0m\u001b[0m\n\u001b[1;32m-> 1344\u001b[1;33m                 \u001b[0mutil\u001b[0m\u001b[1;33m.\u001b[0m\u001b[0mreraise\u001b[0m\u001b[1;33m(\u001b[0m\u001b[1;33m*\u001b[0m\u001b[0mexc_info\u001b[0m\u001b[1;33m)\u001b[0m\u001b[1;33m\u001b[0m\u001b[0m\n\u001b[0m\u001b[0;32m   1345\u001b[0m \u001b[1;33m\u001b[0m\u001b[0m\n\u001b[0;32m   1346\u001b[0m         \u001b[1;32mfinally\u001b[0m\u001b[1;33m:\u001b[0m\u001b[1;33m\u001b[0m\u001b[0m\n",
      "\u001b[1;32m/home/lordluen/anaconda2/envs/py3_env/lib/python3.5/site-packages/sqlalchemy/util/compat.py\u001b[0m in \u001b[0;36mreraise\u001b[1;34m(tp, value, tb, cause)\u001b[0m\n\u001b[0;32m    184\u001b[0m         \u001b[1;32mif\u001b[0m \u001b[0mvalue\u001b[0m\u001b[1;33m.\u001b[0m\u001b[0m__traceback__\u001b[0m \u001b[1;32mis\u001b[0m \u001b[1;32mnot\u001b[0m \u001b[0mtb\u001b[0m\u001b[1;33m:\u001b[0m\u001b[1;33m\u001b[0m\u001b[0m\n\u001b[0;32m    185\u001b[0m             \u001b[1;32mraise\u001b[0m \u001b[0mvalue\u001b[0m\u001b[1;33m.\u001b[0m\u001b[0mwith_traceback\u001b[0m\u001b[1;33m(\u001b[0m\u001b[0mtb\u001b[0m\u001b[1;33m)\u001b[0m\u001b[1;33m\u001b[0m\u001b[0m\n\u001b[1;32m--> 186\u001b[1;33m         \u001b[1;32mraise\u001b[0m \u001b[0mvalue\u001b[0m\u001b[1;33m\u001b[0m\u001b[0m\n\u001b[0m\u001b[0;32m    187\u001b[0m \u001b[1;33m\u001b[0m\u001b[0m\n\u001b[0;32m    188\u001b[0m \u001b[1;32melse\u001b[0m\u001b[1;33m:\u001b[0m\u001b[1;33m\u001b[0m\u001b[0m\n",
      "\u001b[1;32m/home/lordluen/anaconda2/envs/py3_env/lib/python3.5/site-packages/sqlalchemy/engine/base.py\u001b[0m in \u001b[0;36m_execute_context\u001b[1;34m(self, dialect, constructor, statement, parameters, *args)\u001b[0m\n\u001b[0;32m   1114\u001b[0m                         \u001b[0mstatement\u001b[0m\u001b[1;33m,\u001b[0m\u001b[1;33m\u001b[0m\u001b[0m\n\u001b[0;32m   1115\u001b[0m                         \u001b[0mparameters\u001b[0m\u001b[1;33m,\u001b[0m\u001b[1;33m\u001b[0m\u001b[0m\n\u001b[1;32m-> 1116\u001b[1;33m                         context)\n\u001b[0m\u001b[0;32m   1117\u001b[0m             \u001b[1;32melif\u001b[0m \u001b[1;32mnot\u001b[0m \u001b[0mparameters\u001b[0m \u001b[1;32mand\u001b[0m \u001b[0mcontext\u001b[0m\u001b[1;33m.\u001b[0m\u001b[0mno_parameters\u001b[0m\u001b[1;33m:\u001b[0m\u001b[1;33m\u001b[0m\u001b[0m\n\u001b[0;32m   1118\u001b[0m                 \u001b[1;32mif\u001b[0m \u001b[0mself\u001b[0m\u001b[1;33m.\u001b[0m\u001b[0mdialect\u001b[0m\u001b[1;33m.\u001b[0m\u001b[0m_has_events\u001b[0m\u001b[1;33m:\u001b[0m\u001b[1;33m\u001b[0m\u001b[0m\n",
      "\u001b[1;32m/home/lordluen/anaconda2/envs/py3_env/lib/python3.5/site-packages/sqlalchemy/engine/default.py\u001b[0m in \u001b[0;36mdo_executemany\u001b[1;34m(self, cursor, statement, parameters, context)\u001b[0m\n\u001b[0;32m    445\u001b[0m \u001b[1;33m\u001b[0m\u001b[0m\n\u001b[0;32m    446\u001b[0m     \u001b[1;32mdef\u001b[0m \u001b[0mdo_executemany\u001b[0m\u001b[1;33m(\u001b[0m\u001b[0mself\u001b[0m\u001b[1;33m,\u001b[0m \u001b[0mcursor\u001b[0m\u001b[1;33m,\u001b[0m \u001b[0mstatement\u001b[0m\u001b[1;33m,\u001b[0m \u001b[0mparameters\u001b[0m\u001b[1;33m,\u001b[0m \u001b[0mcontext\u001b[0m\u001b[1;33m=\u001b[0m\u001b[1;32mNone\u001b[0m\u001b[1;33m)\u001b[0m\u001b[1;33m:\u001b[0m\u001b[1;33m\u001b[0m\u001b[0m\n\u001b[1;32m--> 447\u001b[1;33m         \u001b[0mcursor\u001b[0m\u001b[1;33m.\u001b[0m\u001b[0mexecutemany\u001b[0m\u001b[1;33m(\u001b[0m\u001b[0mstatement\u001b[0m\u001b[1;33m,\u001b[0m \u001b[0mparameters\u001b[0m\u001b[1;33m)\u001b[0m\u001b[1;33m\u001b[0m\u001b[0m\n\u001b[0m\u001b[0;32m    448\u001b[0m \u001b[1;33m\u001b[0m\u001b[0m\n\u001b[0;32m    449\u001b[0m     \u001b[1;32mdef\u001b[0m \u001b[0mdo_execute\u001b[0m\u001b[1;33m(\u001b[0m\u001b[0mself\u001b[0m\u001b[1;33m,\u001b[0m \u001b[0mcursor\u001b[0m\u001b[1;33m,\u001b[0m \u001b[0mstatement\u001b[0m\u001b[1;33m,\u001b[0m \u001b[0mparameters\u001b[0m\u001b[1;33m,\u001b[0m \u001b[0mcontext\u001b[0m\u001b[1;33m=\u001b[0m\u001b[1;32mNone\u001b[0m\u001b[1;33m)\u001b[0m\u001b[1;33m:\u001b[0m\u001b[1;33m\u001b[0m\u001b[0m\n",
      "\u001b[1;31mKeyError\u001b[0m: 'Centers for Disease Control and Prevention (CDC'"
     ]
    }
   ],
   "source": [
    "#save results to database.\n",
    "sqlCommands.write_to_database(dbname,'features',bills_features,engine)"
   ]
  },
  {
   "cell_type": "markdown",
   "metadata": {},
   "source": [
    "# STOP HERE!"
   ]
  },
  {
   "cell_type": "code",
   "execution_count": 46,
   "metadata": {
    "collapsed": false
   },
   "outputs": [
    {
     "name": "stdout",
     "output_type": "stream",
     "text": [
      "1054\n",
      "1080\n"
     ]
    }
   ],
   "source": [
    "print(np.sum(bills_features.outcome))\n",
    "print(bills_features.outcome.size)"
   ]
  },
  {
   "cell_type": "markdown",
   "metadata": {},
   "source": [
    "It appears the category passage is biased towards passing bills......\n",
    "May need to redo everything using different categories."
   ]
  },
  {
   "cell_type": "code",
   "execution_count": 47,
   "metadata": {
    "collapsed": false
   },
   "outputs": [
    {
     "name": "stdout",
     "output_type": "stream",
     "text": [
      "314\n"
     ]
    },
    {
     "data": {
      "text/html": [
       "<div>\n",
       "<table border=\"1\" class=\"dataframe\">\n",
       "  <thead>\n",
       "    <tr style=\"text-align: right;\">\n",
       "      <th></th>\n",
       "      <th>index</th>\n",
       "      <th>category</th>\n",
       "      <th>chamber</th>\n",
       "      <th>congress</th>\n",
       "      <th>date</th>\n",
       "      <th>number</th>\n",
       "      <th>result</th>\n",
       "      <th>subjects</th>\n",
       "      <th>top_subject</th>\n",
       "      <th>type</th>\n",
       "    </tr>\n",
       "  </thead>\n",
       "  <tbody>\n",
       "    <tr>\n",
       "      <th>0</th>\n",
       "      <td>55</td>\n",
       "      <td>recommit</td>\n",
       "      <td>h</td>\n",
       "      <td>113</td>\n",
       "      <td>2013-10-30 14:19:00</td>\n",
       "      <td>992</td>\n",
       "      <td>Failed</td>\n",
       "      <td>{\"Banking and financial institutions regulatio...</td>\n",
       "      <td>Finance and financial sector</td>\n",
       "      <td>hr</td>\n",
       "    </tr>\n",
       "    <tr>\n",
       "      <th>1</th>\n",
       "      <td>15</td>\n",
       "      <td>recommit</td>\n",
       "      <td>h</td>\n",
       "      <td>113</td>\n",
       "      <td>2013-02-06 11:52:00</td>\n",
       "      <td>444</td>\n",
       "      <td>Failed</td>\n",
       "      <td>{\"Budget deficits and national debt\",\"Budget p...</td>\n",
       "      <td>Economics and public finance</td>\n",
       "      <td>hr</td>\n",
       "    </tr>\n",
       "    <tr>\n",
       "      <th>2</th>\n",
       "      <td>21</td>\n",
       "      <td>recommit</td>\n",
       "      <td>h</td>\n",
       "      <td>113</td>\n",
       "      <td>2013-09-19 17:59:00</td>\n",
       "      <td>3102</td>\n",
       "      <td>Failed</td>\n",
       "      <td>{\"Administrative law and regulatory procedures...</td>\n",
       "      <td>Agriculture and food</td>\n",
       "      <td>hr</td>\n",
       "    </tr>\n",
       "  </tbody>\n",
       "</table>\n",
       "</div>"
      ],
      "text/plain": [
       "   index  category chamber  congress                date  number  result  \\\n",
       "0     55  recommit       h       113 2013-10-30 14:19:00     992  Failed   \n",
       "1     15  recommit       h       113 2013-02-06 11:52:00     444  Failed   \n",
       "2     21  recommit       h       113 2013-09-19 17:59:00    3102  Failed   \n",
       "\n",
       "                                            subjects  \\\n",
       "0  {\"Banking and financial institutions regulatio...   \n",
       "1  {\"Budget deficits and national debt\",\"Budget p...   \n",
       "2  {\"Administrative law and regulatory procedures...   \n",
       "\n",
       "                    top_subject type  \n",
       "0  Finance and financial sector   hr  \n",
       "1  Economics and public finance   hr  \n",
       "2          Agriculture and food   hr  "
      ]
     },
     "execution_count": 47,
     "metadata": {},
     "output_type": "execute_result"
    }
   ],
   "source": [
    "#playing with other categories ['amendment' 'recommit' 'passage-suspension' 'procedural' 'passage' 'cloture']\n",
    "bills = pd.read_sql(\"SELECT * FROM bills WHERE category LIKE 'recommit';\",engine)\n",
    "print(bills['index'].size)\n",
    "bills.head(3)"
   ]
  },
  {
   "cell_type": "code",
   "execution_count": 48,
   "metadata": {
    "collapsed": false
   },
   "outputs": [
    {
     "name": "stdout",
     "output_type": "stream",
     "text": [
      "5625\n"
     ]
    },
    {
     "data": {
      "text/html": [
       "<div>\n",
       "<table border=\"1\" class=\"dataframe\">\n",
       "  <thead>\n",
       "    <tr style=\"text-align: right;\">\n",
       "      <th></th>\n",
       "      <th>index</th>\n",
       "      <th>category</th>\n",
       "      <th>chamber</th>\n",
       "      <th>congress</th>\n",
       "      <th>date</th>\n",
       "      <th>number</th>\n",
       "      <th>result</th>\n",
       "      <th>subjects</th>\n",
       "      <th>top_subject</th>\n",
       "      <th>type</th>\n",
       "    </tr>\n",
       "  </thead>\n",
       "  <tbody>\n",
       "    <tr>\n",
       "      <th>0</th>\n",
       "      <td>0</td>\n",
       "      <td>amendment</td>\n",
       "      <td>h</td>\n",
       "      <td>113</td>\n",
       "      <td>2013-06-20 11:09:00</td>\n",
       "      <td>1947</td>\n",
       "      <td>Failed</td>\n",
       "      <td>{\"Administrative law and regulatory procedures...</td>\n",
       "      <td>Agriculture and food</td>\n",
       "      <td>hr</td>\n",
       "    </tr>\n",
       "    <tr>\n",
       "      <th>1</th>\n",
       "      <td>1</td>\n",
       "      <td>amendment</td>\n",
       "      <td>h</td>\n",
       "      <td>113</td>\n",
       "      <td>2013-11-21 11:22:00</td>\n",
       "      <td>1900</td>\n",
       "      <td>Failed</td>\n",
       "      <td>{\"Administrative law and regulatory procedures...</td>\n",
       "      <td>Energy</td>\n",
       "      <td>hr</td>\n",
       "    </tr>\n",
       "    <tr>\n",
       "      <th>2</th>\n",
       "      <td>2</td>\n",
       "      <td>amendment</td>\n",
       "      <td>h</td>\n",
       "      <td>113</td>\n",
       "      <td>2013-07-10 14:32:00</td>\n",
       "      <td>2609</td>\n",
       "      <td>Failed</td>\n",
       "      <td>{\"Administrative law and regulatory procedures...</td>\n",
       "      <td>Economics and public finance</td>\n",
       "      <td>hr</td>\n",
       "    </tr>\n",
       "  </tbody>\n",
       "</table>\n",
       "</div>"
      ],
      "text/plain": [
       "   index   category chamber  congress                date  number  result  \\\n",
       "0      0  amendment       h       113 2013-06-20 11:09:00    1947  Failed   \n",
       "1      1  amendment       h       113 2013-11-21 11:22:00    1900  Failed   \n",
       "2      2  amendment       h       113 2013-07-10 14:32:00    2609  Failed   \n",
       "\n",
       "                                            subjects  \\\n",
       "0  {\"Administrative law and regulatory procedures...   \n",
       "1  {\"Administrative law and regulatory procedures...   \n",
       "2  {\"Administrative law and regulatory procedures...   \n",
       "\n",
       "                    top_subject type  \n",
       "0          Agriculture and food   hr  \n",
       "1                        Energy   hr  \n",
       "2  Economics and public finance   hr  "
      ]
     },
     "execution_count": 48,
     "metadata": {},
     "output_type": "execute_result"
    }
   ],
   "source": [
    "bills = pd.read_sql(\"SELECT * FROM bills;\",engine)\n",
    "print(bills['index'].size)\n",
    "bills.head(3)"
   ]
  },
  {
   "cell_type": "code",
   "execution_count": 54,
   "metadata": {
    "collapsed": false
   },
   "outputs": [
    {
     "name": "stdout",
     "output_type": "stream",
     "text": [
      "[1947 1900 2609 ...,  735  764 4890]\n"
     ]
    }
   ],
   "source": [
    "test = pd.unique(bills.number)\n",
    "print(test)"
   ]
  },
  {
   "cell_type": "code",
   "execution_count": 58,
   "metadata": {
    "collapsed": false
   },
   "outputs": [],
   "source": [
    "#for i in range(0,test.size):\n",
    "q = 'number == '+str(test[0])\n",
    "foo = bills.query(q)"
   ]
  },
  {
   "cell_type": "code",
   "execution_count": 59,
   "metadata": {
    "collapsed": false
   },
   "outputs": [
    {
     "data": {
      "text/html": [
       "<div>\n",
       "<table border=\"1\" class=\"dataframe\">\n",
       "  <thead>\n",
       "    <tr style=\"text-align: right;\">\n",
       "      <th></th>\n",
       "      <th>index</th>\n",
       "      <th>category</th>\n",
       "      <th>chamber</th>\n",
       "      <th>congress</th>\n",
       "      <th>date</th>\n",
       "      <th>number</th>\n",
       "      <th>result</th>\n",
       "      <th>subjects</th>\n",
       "      <th>top_subject</th>\n",
       "      <th>type</th>\n",
       "    </tr>\n",
       "  </thead>\n",
       "  <tbody>\n",
       "    <tr>\n",
       "      <th>0</th>\n",
       "      <td>0</td>\n",
       "      <td>amendment</td>\n",
       "      <td>h</td>\n",
       "      <td>113</td>\n",
       "      <td>2013-06-20 11:09:00</td>\n",
       "      <td>1947</td>\n",
       "      <td>Failed</td>\n",
       "      <td>{\"Administrative law and regulatory procedures...</td>\n",
       "      <td>Agriculture and food</td>\n",
       "      <td>hr</td>\n",
       "    </tr>\n",
       "    <tr>\n",
       "      <th>27</th>\n",
       "      <td>23</td>\n",
       "      <td>amendment</td>\n",
       "      <td>h</td>\n",
       "      <td>113</td>\n",
       "      <td>2013-06-20 11:18:00</td>\n",
       "      <td>1947</td>\n",
       "      <td>Failed</td>\n",
       "      <td>{\"Administrative law and regulatory procedures...</td>\n",
       "      <td>Agriculture and food</td>\n",
       "      <td>hr</td>\n",
       "    </tr>\n",
       "    <tr>\n",
       "      <th>56</th>\n",
       "      <td>50</td>\n",
       "      <td>amendment</td>\n",
       "      <td>h</td>\n",
       "      <td>113</td>\n",
       "      <td>2013-06-20 13:03:00</td>\n",
       "      <td>1947</td>\n",
       "      <td>Agreed to</td>\n",
       "      <td>{\"Administrative law and regulatory procedures...</td>\n",
       "      <td>Agriculture and food</td>\n",
       "      <td>hr</td>\n",
       "    </tr>\n",
       "    <tr>\n",
       "      <th>98</th>\n",
       "      <td>93</td>\n",
       "      <td>amendment</td>\n",
       "      <td>h</td>\n",
       "      <td>113</td>\n",
       "      <td>2013-06-20 10:50:00</td>\n",
       "      <td>1947</td>\n",
       "      <td>Failed</td>\n",
       "      <td>{\"Administrative law and regulatory procedures...</td>\n",
       "      <td>Agriculture and food</td>\n",
       "      <td>hr</td>\n",
       "    </tr>\n",
       "    <tr>\n",
       "      <th>102</th>\n",
       "      <td>97</td>\n",
       "      <td>amendment</td>\n",
       "      <td>h</td>\n",
       "      <td>113</td>\n",
       "      <td>2013-06-19 18:36:00</td>\n",
       "      <td>1947</td>\n",
       "      <td>Failed</td>\n",
       "      <td>{\"Administrative law and regulatory procedures...</td>\n",
       "      <td>Agriculture and food</td>\n",
       "      <td>hr</td>\n",
       "    </tr>\n",
       "  </tbody>\n",
       "</table>\n",
       "</div>"
      ],
      "text/plain": [
       "     index   category chamber  congress                date  number  \\\n",
       "0        0  amendment       h       113 2013-06-20 11:09:00    1947   \n",
       "27      23  amendment       h       113 2013-06-20 11:18:00    1947   \n",
       "56      50  amendment       h       113 2013-06-20 13:03:00    1947   \n",
       "98      93  amendment       h       113 2013-06-20 10:50:00    1947   \n",
       "102     97  amendment       h       113 2013-06-19 18:36:00    1947   \n",
       "\n",
       "        result                                           subjects  \\\n",
       "0       Failed  {\"Administrative law and regulatory procedures...   \n",
       "27      Failed  {\"Administrative law and regulatory procedures...   \n",
       "56   Agreed to  {\"Administrative law and regulatory procedures...   \n",
       "98      Failed  {\"Administrative law and regulatory procedures...   \n",
       "102     Failed  {\"Administrative law and regulatory procedures...   \n",
       "\n",
       "              top_subject type  \n",
       "0    Agriculture and food   hr  \n",
       "27   Agriculture and food   hr  \n",
       "56   Agriculture and food   hr  \n",
       "98   Agriculture and food   hr  \n",
       "102  Agriculture and food   hr  "
      ]
     },
     "execution_count": 59,
     "metadata": {},
     "output_type": "execute_result"
    }
   ],
   "source": [
    "foo.head(5)"
   ]
  },
  {
   "cell_type": "code",
   "execution_count": null,
   "metadata": {
    "collapsed": true
   },
   "outputs": [],
   "source": [
    "#need to find amendment number and replace bill info for amendment votes with info from the amendments."
   ]
  }
 ],
 "metadata": {
  "kernelspec": {
   "display_name": "Python 3",
   "language": "python",
   "name": "python3"
  },
  "language_info": {
   "codemirror_mode": {
    "name": "ipython",
    "version": 3
   },
   "file_extension": ".py",
   "mimetype": "text/x-python",
   "name": "python",
   "nbconvert_exporter": "python",
   "pygments_lexer": "ipython3",
   "version": "3.5.1"
  }
 },
 "nbformat": 4,
 "nbformat_minor": 0
}
