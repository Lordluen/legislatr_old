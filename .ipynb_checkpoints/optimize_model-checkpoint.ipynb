{
 "cells": [
  {
   "cell_type": "markdown",
   "metadata": {},
   "source": [
    "# I will use this notebook to optimize my random forest model."
   ]
  },
  {
   "cell_type": "markdown",
   "metadata": {},
   "source": [
    "This section will only used the balanced weighting to deal with class-imbalance. I will try to deal with other methods for tackling class imbalance in another book at another time."
   ]
  },
  {
   "cell_type": "code",
   "execution_count": 1,
   "metadata": {
    "collapsed": false
   },
   "outputs": [
    {
     "name": "stdout",
     "output_type": "stream",
     "text": [
      "Populating the interactive namespace from numpy and matplotlib\n"
     ]
    }
   ],
   "source": [
    "#STEP 1: Load modules\n",
    "%pylab inline\n",
    "import pandas as pd\n",
    "import contributions\n",
    "import votes\n",
    "import bills\n",
    "import sqlCommands\n",
    "from peoplefinder import PeopleFinder\n",
    "from operator import attrgetter\n",
    "from sqlalchemy import create_engine\n",
    "from sqlalchemy_utils import database_exists, create_database\n",
    "import psycopg2\n",
    "from tqdm import tqdm\n",
    "from sklearn import linear_model\n",
    "from sklearn.ensemble import RandomForestClassifier\n",
    "import random\n",
    "import scipy as sc\n",
    "\n",
    "#define function that generates plot of F1-score with varying parameters.\n",
    "def F1plot(f,x,xtitle, islog):\n",
    "    plt.plot(x,f*100.)\n",
    "    if islog:\n",
    "        plt.xscale('log')\n",
    "    plt.title('F1 Score', fontsize=20)\n",
    "    plt.xlabel(xtitle, fontsize=16)\n",
    "    plt.ylabel('F1 Score (%)', fontsize=16)\n",
    "    \n",
    "def accplot(y_accs,x,xtitle, islog):\n",
    "    plt.plot(x,y_accs*100.)\n",
    "    if islog:\n",
    "        plt.xscale('log')\n",
    "    plt.title('Accuracy', fontsize=20)\n",
    "    plt.xlabel(xtitle, fontsize=16)\n",
    "    plt.ylabel('Accuracy (%)', fontsize=16)"
   ]
  },
  {
   "cell_type": "code",
   "execution_count": 2,
   "metadata": {
    "collapsed": true
   },
   "outputs": [],
   "source": [
    "#set up postgresql engine\n",
    "dbname = 'legislatr'\n",
    "engine = sqlCommands.get_engine(dbname)"
   ]
  },
  {
   "cell_type": "code",
   "execution_count": 3,
   "metadata": {
    "collapsed": true
   },
   "outputs": [],
   "source": [
    "#STEP 2: Load features\n",
    "#read in the subject feature array\n",
    "query = \"SELECT * FROM features_subs WHERE final_result = 0 OR final_result = 1;\"\n",
    "feat_subs = pd.read_sql_query(query,engine)\n",
    "#read in the legislator feature array\n",
    "query = \"SELECT * FROM features_legis WHERE final_result = 0 OR final_result = 1;\"\n",
    "feat_legis = pd.read_sql_query(query,engine)\n",
    "#read in the committee feature array\n",
    "query = \"SELECT * FROM features_comms WHERE final_result = 0 OR final_result = 1;\"\n",
    "feat_comms = pd.read_sql_query(query,engine)\n",
    "\n",
    "#fuse dataframes\n",
    "feat = pd.concat([feat_subs,feat_legis.drop(['bill_number','bill_type','index','result','status','final_result','num_amends','congress'],axis=1),\n",
    "                 feat_comms.drop(['bill_number','bill_type','index','result','status','final_result','num_amends','congress'],axis=1)],axis=1)"
   ]
  },
  {
   "cell_type": "code",
   "execution_count": 4,
   "metadata": {
    "collapsed": false
   },
   "outputs": [
    {
     "name": "stdout",
     "output_type": "stream",
     "text": [
      "18094\n",
      "6032\n",
      "6032\n",
      "(18094, 1317)\n",
      "(18094,)\n",
      "(6032, 1317)\n",
      "(6032,)\n",
      "(6031, 1317)\n",
      "(6031,)\n"
     ]
    }
   ],
   "source": [
    "#STEP 3: Create train (60%), CV (20%), and test (20%) sets.\n",
    "\n",
    "#randomize input\n",
    "data = feat.iloc[np.random.permutation(len(feat))]\n",
    "\n",
    "indlen = feat['index'].size\n",
    "trlen = int(indlen*0.6) #training set length\n",
    "print(trlen)\n",
    "cvlen = int((indlen-trlen)*0.5) #CV set length\n",
    "print(cvlen)\n",
    "testlen = indlen - trlen - cvlen #test set length\n",
    "print(testlen)\n",
    "\n",
    "#create training set\n",
    "tr_data = data.iloc[0:trlen]\n",
    "tr_data_Y = (tr_data.as_matrix(columns=['final_result'])).flatten()\n",
    "tr_data = tr_data.drop(['bill_number','bill_type','index','result','status','final_result','congress'],axis=1)\n",
    "tr_data_X = tr_data.as_matrix()\n",
    "print(tr_data_X.shape)\n",
    "print(tr_data_Y.shape)\n",
    "\n",
    "#create CV set\n",
    "CV_data = data.iloc[trlen:cvlen+trlen]\n",
    "CV_data_Y = (CV_data.as_matrix(columns=['final_result'])).flatten()\n",
    "CV_data = CV_data.drop(['bill_number','bill_type','index','result','status','final_result','congress'],axis=1)\n",
    "CV_data_X = CV_data.as_matrix()\n",
    "print(CV_data_X.shape)\n",
    "print(CV_data_Y.shape)\n",
    "\n",
    "#create testing set\n",
    "test_data = data.iloc[cvlen+trlen:-1]\n",
    "test_data_Y = (test_data.as_matrix(columns=['final_result'])).flatten()\n",
    "test_data = test_data.drop(['bill_number','bill_type','index','result','status','final_result','congress'],axis=1)\n",
    "test_data_X = test_data.as_matrix()\n",
    "print(test_data_X.shape)\n",
    "print(test_data_Y.shape)"
   ]
  },
  {
   "cell_type": "markdown",
   "metadata": {},
   "source": [
    "### STEP 4: Choose model with best F1-score."
   ]
  },
  {
   "cell_type": "code",
   "execution_count": 5,
   "metadata": {
    "collapsed": false
   },
   "outputs": [
    {
     "name": "stdout",
     "output_type": "stream",
     "text": [
      "----------------------\n",
      "Min Samples Split =  2.0\n",
      "Accuracy =  0.9701591511936339\n",
      "Precision =  0.6111111111111112\n",
      "Recall =  0.3701923076923077\n",
      "F1-Score =  0.46107784431137727\n",
      "----------------------\n",
      "Min Samples Split =  4.0\n",
      "Accuracy =  0.968998673740053\n",
      "Precision =  0.5724137931034483\n",
      "Recall =  0.39903846153846156\n",
      "F1-Score =  0.4702549575070822\n",
      "----------------------\n",
      "Min Samples Split =  8.0\n",
      "Accuracy =  0.9699933687002652\n",
      "Precision =  0.5859872611464968\n",
      "Recall =  0.4423076923076923\n",
      "F1-Score =  0.5041095890410958\n",
      "----------------------\n",
      "Min Samples Split =  16.0\n",
      "Accuracy =  0.968501326259947\n",
      "Precision =  0.5511363636363636\n",
      "Recall =  0.46634615384615385\n",
      "F1-Score =  0.5052083333333334\n",
      "----------------------\n",
      "Min Samples Split =  32.0\n",
      "Accuracy =  0.9661803713527851\n",
      "Precision =  0.5093457943925234\n",
      "Recall =  0.5240384615384616\n",
      "F1-Score =  0.5165876777251186\n",
      "----------------------\n",
      "Min Samples Split =  64.0\n",
      "Accuracy =  0.9602122015915119\n",
      "Precision =  0.43846153846153846\n",
      "Recall =  0.5480769230769231\n",
      "F1-Score =  0.48717948717948717\n",
      "----------------------\n",
      "Min Samples Split =  128.0\n",
      "Accuracy =  0.9404840848806366\n",
      "Precision =  0.3171912832929782\n",
      "Recall =  0.6298076923076923\n",
      "F1-Score =  0.42190016103059574\n",
      "----------------------\n",
      "Min Samples Split =  256.0\n",
      "Accuracy =  0.9084880636604774\n",
      "Precision =  0.2180327868852459\n",
      "Recall =  0.6394230769230769\n",
      "F1-Score =  0.3251833740831296\n",
      "----------------------\n",
      "Min Samples Split =  512.0\n",
      "Accuracy =  0.8741710875331565\n",
      "Precision =  0.17005988023952096\n",
      "Recall =  0.6826923076923077\n",
      "F1-Score =  0.27229146692233935\n",
      "----------------------\n",
      "Min Samples Split =  1024.0\n",
      "Accuracy =  0.8575928381962865\n",
      "Precision =  0.15409139213602552\n",
      "Recall =  0.6971153846153846\n",
      "F1-Score =  0.2523933855526545\n"
     ]
    },
    {
     "data": {
      "image/png": "[encoded data removed]",
      "text/plain": [
       "<matplotlib.figure.Figure at 0x7fbd969b1f98>"
      ]
     },
     "metadata": {},
     "output_type": "display_data"
    }
   ],
   "source": [
    "#optimize number of splits\n",
    "base = 2. #base for numbers\n",
    "exp = np.arange(10)+1. #exponent for base\n",
    "val = base**exp #values to be tested\n",
    "recs = list() #all recalls\n",
    "prec = list() #all precisions\n",
    "accs = list() #all accuracies\n",
    "fscr = list() #all F1-scores\n",
    "\n",
    "#loop through forests\n",
    "for v in val:\n",
    "    print('----------------------')\n",
    "    print('Min Samples Split = ',v)\n",
    "    forest = RandomForestClassifier(n_estimators = 100,max_depth = 32,\n",
    "                                    max_features='sqrt',class_weight='balanced',min_samples_split=v)\n",
    "    forest = forest.fit(tr_data_X,tr_data_Y)\n",
    "    Z =forest.predict(CV_data_X)\n",
    "\n",
    "    #set up variables\n",
    "    acc = 0 #accuracy\n",
    "    true_pos = 0.\n",
    "    false_pos = 0.\n",
    "    true_neg = 0.\n",
    "    false_neg = 0.\n",
    "    final = 0.\n",
    "\n",
    "    #get parameters for statistics\n",
    "    for i in range(0,len(Z)):\n",
    "        if Z[i] == CV_data_Y[i]: #mark correct answers\n",
    "            acc = acc + 1.\n",
    "        if (Z[i] == 1) and (CV_data_Y[i] == 1): #mark true positives\n",
    "            true_pos = true_pos + 1.\n",
    "        if (Z[i] == 1) and (CV_data_Y[i] == 0): #mark false positives\n",
    "            false_pos = false_pos + 1.\n",
    "        if (Z[i] == 0) and (CV_data_Y[i] == 1): #mark false negatives\n",
    "            false_neg = false_neg + 1.\n",
    "        if (Z[i] == 0) and (CV_data_Y[i] == 0): #mark true negatives\n",
    "            true_neg = true_neg + 1.\n",
    "    #calculate Accuracy\n",
    "    final = acc/len(Z)\n",
    "    print('Accuracy = ',final)\n",
    "    accs.append(final)\n",
    "\n",
    "    #calculate Precision\n",
    "    pre = true_pos/(true_pos+false_pos)\n",
    "    print('Precision = ',pre)\n",
    "    prec.append(pre)\n",
    "    \n",
    "    #calculate Recall\n",
    "    rec = true_pos/(true_pos+false_neg)\n",
    "    print('Recall = ',rec)\n",
    "    recs.append(rec)\n",
    "    \n",
    "    #calculate F1-Score\n",
    "    f1 = 2*((rec*pre)/(rec+pre))\n",
    "    print('F1-Score = ',f1)\n",
    "    fscr.append(f1)\n",
    "\n",
    "y_accs = np.asarray(accs)\n",
    "y_prec = np.asarray(prec)\n",
    "y_recs = np.asarray(recs)\n",
    "y_fscr = np.asarray(fscr)\n",
    "\n",
    "F1plot(y_fscr,val,'Min Sample Split',True)\n"
   ]
  },
  {
   "cell_type": "code",
   "execution_count": 6,
   "metadata": {
    "collapsed": false,
    "scrolled": true
   },
   "outputs": [
    {
     "data": {
      "image/png": "[encoded data removed]",
      "text/plain": [
       "<matplotlib.figure.Figure at 0x7fbd9b60bf28>"
      ]
     },
     "metadata": {},
     "output_type": "display_data"
    }
   ],
   "source": [
    "accplot(y_accs,val,'Min Sample Split',True)"
   ]
  },
  {
   "cell_type": "markdown",
   "metadata": {},
   "source": [
    "Best Min Sample Split is: 32"
   ]
  },
  {
   "cell_type": "code",
   "execution_count": 7,
   "metadata": {
    "collapsed": false
   },
   "outputs": [
    {
     "name": "stdout",
     "output_type": "stream",
     "text": [
      "----------------------\n",
      "Max Depth =  2.0\n",
      "Accuracy =  0.8861074270557029\n",
      "Precision =  0.16596931659693165\n",
      "Recall =  0.5721153846153846\n",
      "F1-Score =  0.25729729729729733\n",
      "----------------------\n",
      "Max Depth =  4.0\n",
      "Accuracy =  0.9227453580901857\n",
      "Precision =  0.24705882352941178\n",
      "Recall =  0.6057692307692307\n",
      "F1-Score =  0.350974930362117\n",
      "----------------------\n",
      "Max Depth =  8.0\n",
      "Accuracy =  0.9303713527851459\n",
      "Precision =  0.2675438596491228\n",
      "Recall =  0.5865384615384616\n",
      "F1-Score =  0.3674698795180723\n",
      "----------------------\n",
      "Max Depth =  16.0\n",
      "Accuracy =  0.9537466843501327\n",
      "Precision =  0.38127090301003347\n",
      "Recall =  0.5480769230769231\n",
      "F1-Score =  0.44970414201183434\n",
      "----------------------\n",
      "Max Depth =  32.0\n",
      "Accuracy =  0.9655172413793104\n",
      "Precision =  0.5\n",
      "Recall =  0.5192307692307693\n",
      "F1-Score =  0.509433962264151\n",
      "----------------------\n",
      "Max Depth =  64.0\n",
      "Accuracy =  0.9688328912466844\n",
      "Precision =  0.5531914893617021\n",
      "Recall =  0.5\n",
      "F1-Score =  0.5252525252525252\n",
      "----------------------\n",
      "Max Depth =  128.0\n",
      "Accuracy =  0.9703249336870027\n",
      "Precision =  0.5792349726775956\n",
      "Recall =  0.5096153846153846\n",
      "F1-Score =  0.5421994884910486\n",
      "----------------------\n",
      "Max Depth =  256.0\n",
      "Accuracy =  0.9694960212201591\n",
      "Precision =  0.5625\n",
      "Recall =  0.5192307692307693\n",
      "F1-Score =  0.54\n",
      "----------------------\n",
      "Max Depth =  512.0\n",
      "Accuracy =  0.9681697612732095\n",
      "Precision =  0.5404040404040404\n",
      "Recall =  0.5144230769230769\n",
      "F1-Score =  0.5270935960591133\n",
      "----------------------\n",
      "Max Depth =  1024.0\n",
      "Accuracy =  0.9696618037135278\n",
      "Precision =  0.5668449197860963\n",
      "Recall =  0.5096153846153846\n",
      "F1-Score =  0.5367088607594936\n"
     ]
    },
    {
     "data": {
      "image/png": "[encoded data removed]",
      "text/plain": [
       "<matplotlib.figure.Figure at 0x7fbd9c447358>"
      ]
     },
     "metadata": {},
     "output_type": "display_data"
    }
   ],
   "source": [
    "#optimize tree depth\n",
    "base = 2. #base for numbers\n",
    "exp = np.arange(10)+1. #exponent for base\n",
    "val = base**exp #values to be tested\n",
    "recs = list() #all recalls\n",
    "prec = list() #all precisions\n",
    "accs = list() #all accuracies\n",
    "fscr = list() #all F1-scores\n",
    "\n",
    "#loop through forests\n",
    "for v in val:\n",
    "    print('----------------------')\n",
    "    print('Max Depth = ',v)\n",
    "    forest = RandomForestClassifier(n_estimators = 100, max_depth = v, max_features='sqrt',class_weight='balanced',min_samples_split=32)\n",
    "    forest = forest.fit(tr_data_X,tr_data_Y)\n",
    "    Z =forest.predict(CV_data_X)\n",
    "\n",
    "    #set up variables\n",
    "    acc = 0 #accuracy\n",
    "    true_pos = 0.\n",
    "    false_pos = 0.\n",
    "    true_neg = 0.\n",
    "    false_neg = 0.\n",
    "    final = 0.\n",
    "\n",
    "    #get parameters for statistics\n",
    "    for i in range(0,len(Z)):\n",
    "        if Z[i] == CV_data_Y[i]: #mark correct answers\n",
    "            acc = acc + 1.\n",
    "        if (Z[i] == 1) and (CV_data_Y[i] == 1): #mark true positives\n",
    "            true_pos = true_pos + 1.\n",
    "        if (Z[i] == 1) and (CV_data_Y[i] == 0): #mark false positives\n",
    "            false_pos = false_pos + 1.\n",
    "        if (Z[i] == 0) and (CV_data_Y[i] == 1): #mark false negatives\n",
    "            false_neg = false_neg + 1.\n",
    "        if (Z[i] == 0) and (CV_data_Y[i] == 0): #mark true negatives\n",
    "            true_neg = true_neg + 1.\n",
    "\n",
    "    #calculate Accuracy\n",
    "    final = acc/len(Z)\n",
    "    print('Accuracy = ',final)\n",
    "    accs.append(final)\n",
    "\n",
    "    #calculate Precision\n",
    "    pre = true_pos/(true_pos+false_pos)\n",
    "    print('Precision = ',pre)\n",
    "    prec.append(pre)\n",
    "    \n",
    "    #calculate Recall\n",
    "    rec = true_pos/(true_pos+false_neg)\n",
    "    print('Recall = ',rec)\n",
    "    recs.append(rec)\n",
    "    \n",
    "    #calculate F1-Score\n",
    "    f1 = 2*((rec*pre)/(rec+pre))\n",
    "    print('F1-Score = ',f1)\n",
    "    fscr.append(f1)\n",
    "\n",
    "y_accs = np.asarray(accs)\n",
    "y_prec = np.asarray(prec)\n",
    "y_recs = np.asarray(recs)\n",
    "y_fscr = np.asarray(fscr)\n",
    "\n",
    "F1plot(y_fscr,val,'Max Depth',True)"
   ]
  },
  {
   "cell_type": "code",
   "execution_count": 8,
   "metadata": {
    "collapsed": false
   },
   "outputs": [
    {
     "data": {
      "image/png": "[encoded data removed]",
      "text/plain": [
       "<matplotlib.figure.Figure at 0x7fbd9b62db38>"
      ]
     },
     "metadata": {},
     "output_type": "display_data"
    }
   ],
   "source": [
    "accplot(y_accs,val,'Max Depth',True)"
   ]
  },
  {
   "cell_type": "markdown",
   "metadata": {},
   "source": [
    "Best Max Depth is: 128"
   ]
  },
  {
   "cell_type": "code",
   "execution_count": 9,
   "metadata": {
    "collapsed": false
   },
   "outputs": [
    {
     "name": "stdout",
     "output_type": "stream",
     "text": [
      "----------------------\n",
      "Min Samples Leaf =  1.0\n",
      "Accuracy =  0.968998673740053\n",
      "Precision =  0.5544041450777202\n",
      "Recall =  0.5144230769230769\n",
      "F1-Score =  0.5336658354114713\n",
      "----------------------\n",
      "Min Samples Leaf =  2.0\n",
      "Accuracy =  0.9645225464190982\n",
      "Precision =  0.48760330578512395\n",
      "Recall =  0.5673076923076923\n",
      "F1-Score =  0.5244444444444445\n",
      "----------------------\n",
      "Min Samples Leaf =  4.0\n",
      "Accuracy =  0.9530835543766578\n",
      "Precision =  0.3867069486404834\n",
      "Recall =  0.6153846153846154\n",
      "F1-Score =  0.47495361781076073\n",
      "----------------------\n",
      "Min Samples Leaf =  8.0\n",
      "Accuracy =  0.9237400530503979\n",
      "Precision =  0.2622641509433962\n",
      "Recall =  0.6682692307692307\n",
      "F1-Score =  0.3766937669376694\n",
      "----------------------\n",
      "Min Samples Leaf =  16.0\n",
      "Accuracy =  0.8846153846153846\n",
      "Precision =  0.18556701030927836\n",
      "Recall =  0.6923076923076923\n",
      "F1-Score =  0.29268292682926833\n",
      "----------------------\n",
      "Min Samples Leaf =  32.0\n",
      "Accuracy =  0.8390251989389921\n",
      "Precision =  0.14111006585136407\n",
      "Recall =  0.7211538461538461\n",
      "F1-Score =  0.23603461841070023\n",
      "----------------------\n",
      "Min Samples Leaf =  64.0\n",
      "Accuracy =  0.8197944297082228\n",
      "Precision =  0.12848689771766694\n",
      "Recall =  0.7307692307692307\n",
      "F1-Score =  0.21854780733285403\n",
      "----------------------\n",
      "Min Samples Leaf =  128.0\n",
      "Accuracy =  0.824104774535809\n",
      "Precision =  0.12816041848299914\n",
      "Recall =  0.7067307692307693\n",
      "F1-Score =  0.21697416974169745\n",
      "----------------------\n",
      "Min Samples Leaf =  256.0\n",
      "Accuracy =  0.7657493368700266\n",
      "Precision =  0.09318028359216746\n",
      "Recall =  0.6634615384615384\n",
      "F1-Score =  0.16341030195381884\n",
      "----------------------\n",
      "Min Samples Leaf =  512.0\n",
      "Accuracy =  0.7733753315649867\n",
      "Precision =  0.08754448398576513\n",
      "Recall =  0.5913461538461539\n",
      "F1-Score =  0.15251084934903908\n",
      "----------------------\n",
      "Min Samples Leaf =  1024.0\n",
      "Accuracy =  0.7944297082228117\n",
      "Precision =  0.08520900321543408\n",
      "Recall =  0.5096153846153846\n",
      "F1-Score =  0.14600550964187325\n"
     ]
    },
    {
     "data": {
      "image/png": "[encoded data removed]",
      "text/plain": [
       "<matplotlib.figure.Figure at 0x7fbd9c488e48>"
      ]
     },
     "metadata": {},
     "output_type": "display_data"
    }
   ],
   "source": [
    "#optimize minimum number of samples per leaf\n",
    "base = 2. #base for numbers\n",
    "exp = np.arange(11) #exponent for base #note that in this case the default value was 1, so we are starting at 1.\n",
    "val = base**exp #values to be tested\n",
    "recs = list() #all recalls\n",
    "prec = list() #all precisions\n",
    "accs = list() #all accuracies\n",
    "fscr = list() #all F1-scores\n",
    "\n",
    "#loop through forests\n",
    "for v in val:\n",
    "    print('----------------------')\n",
    "    print('Min Samples Leaf = ',v)\n",
    "    forest = RandomForestClassifier(n_estimators = 100, max_depth = 128, min_samples_leaf = v,\n",
    "                                    max_features='sqrt',class_weight='balanced',min_samples_split=32)\n",
    "    forest = forest.fit(tr_data_X,tr_data_Y)\n",
    "    Z =forest.predict(CV_data_X)\n",
    "\n",
    "    #set up variables\n",
    "    acc = 0 #accuracy\n",
    "    true_pos = 0.\n",
    "    false_pos = 0.\n",
    "    true_neg = 0.\n",
    "    false_neg = 0.\n",
    "    final = 0.\n",
    "\n",
    "    #get parameters for statistics\n",
    "    for i in range(0,len(Z)):\n",
    "        if Z[i] == CV_data_Y[i]: #mark correct answers\n",
    "            acc = acc + 1.\n",
    "        if (Z[i] == 1) and (CV_data_Y[i] == 1): #mark true positives\n",
    "            true_pos = true_pos + 1.\n",
    "        if (Z[i] == 1) and (CV_data_Y[i] == 0): #mark false positives\n",
    "            false_pos = false_pos + 1.\n",
    "        if (Z[i] == 0) and (CV_data_Y[i] == 1): #mark false negatives\n",
    "            false_neg = false_neg + 1.\n",
    "        if (Z[i] == 0) and (CV_data_Y[i] == 0): #mark true negatives\n",
    "            true_neg = true_neg + 1.\n",
    "\n",
    "    #calculate Accuracy\n",
    "    final = acc/len(Z)\n",
    "    print('Accuracy = ',final)\n",
    "    accs.append(final)\n",
    "\n",
    "    #calculate Precision\n",
    "    pre = true_pos/(true_pos+false_pos)\n",
    "    print('Precision = ',pre)\n",
    "    prec.append(pre)\n",
    "    \n",
    "    #calculate Recall\n",
    "    rec = true_pos/(true_pos+false_neg)\n",
    "    print('Recall = ',rec)\n",
    "    recs.append(rec)\n",
    "    \n",
    "    #calculate F1-Score\n",
    "    f1 = 2*((rec*pre)/(rec+pre))\n",
    "    print('F1-Score = ',f1)\n",
    "    fscr.append(f1)\n",
    "\n",
    "y_accs = np.asarray(accs)\n",
    "y_prec = np.asarray(prec)\n",
    "y_recs = np.asarray(recs)\n",
    "y_fscr = np.asarray(fscr)\n",
    "\n",
    "F1plot(y_fscr,val,'Min Samples Leaf',True)"
   ]
  },
  {
   "cell_type": "code",
   "execution_count": 10,
   "metadata": {
    "collapsed": false
   },
   "outputs": [
    {
     "data": {
      "image/png": "[encoded data removed]",
      "text/plain": [
       "<matplotlib.figure.Figure at 0x7fbd9c709da0>"
      ]
     },
     "metadata": {},
     "output_type": "display_data"
    }
   ],
   "source": [
    "accplot(y_accs,val,'Min Samples Leaf',True)"
   ]
  },
  {
   "cell_type": "markdown",
   "metadata": {},
   "source": [
    "Best Min Samples Leaf is: 1"
   ]
  },
  {
   "cell_type": "code",
   "execution_count": 11,
   "metadata": {
    "collapsed": false
   },
   "outputs": [
    {
     "name": "stdout",
     "output_type": "stream",
     "text": [
      "----------------------\n",
      "Number of trees =  50.0\n",
      "Accuracy =  0.9651856763925729\n",
      "Precision =  0.4955357142857143\n",
      "Recall =  0.5336538461538461\n",
      "F1-Score =  0.513888888888889\n",
      "----------------------\n",
      "Number of trees =  100.0\n",
      "Accuracy =  0.9655172413793104\n",
      "Precision =  0.5\n",
      "Recall =  0.5480769230769231\n",
      "F1-Score =  0.5229357798165137\n",
      "----------------------\n",
      "Number of trees =  150.0\n",
      "Accuracy =  0.9650198938992043\n",
      "Precision =  0.4928909952606635\n",
      "Recall =  0.5\n",
      "F1-Score =  0.4964200477326969\n",
      "----------------------\n",
      "Number of trees =  200.0\n",
      "Accuracy =  0.9660145888594165\n",
      "Precision =  0.5070422535211268\n",
      "Recall =  0.5192307692307693\n",
      "F1-Score =  0.513064133016627\n",
      "----------------------\n",
      "Number of trees =  250.0\n",
      "Accuracy =  0.9666777188328912\n",
      "Precision =  0.5164319248826291\n",
      "Recall =  0.5288461538461539\n",
      "F1-Score =  0.5225653206650832\n",
      "----------------------\n",
      "Number of trees =  300.0\n",
      "Accuracy =  0.9663461538461539\n",
      "Precision =  0.5118483412322274\n",
      "Recall =  0.5192307692307693\n",
      "F1-Score =  0.5155131264916468\n",
      "----------------------\n",
      "Number of trees =  350.0\n",
      "Accuracy =  0.96684350132626\n",
      "Precision =  0.5190476190476191\n",
      "Recall =  0.5240384615384616\n",
      "F1-Score =  0.521531100478469\n",
      "----------------------\n",
      "Number of trees =  400.0\n",
      "Accuracy =  0.9670092838196287\n",
      "Precision =  0.5215311004784688\n",
      "Recall =  0.5240384615384616\n",
      "F1-Score =  0.5227817745803358\n",
      "----------------------\n",
      "Number of trees =  450.0\n",
      "Accuracy =  0.9676724137931034\n",
      "Precision =  0.5317073170731708\n",
      "Recall =  0.5240384615384616\n",
      "F1-Score =  0.5278450363196127\n",
      "----------------------\n",
      "Number of trees =  500.0\n",
      "Accuracy =  0.9663461538461539\n",
      "Precision =  0.5118483412322274\n",
      "Recall =  0.5192307692307693\n",
      "F1-Score =  0.5155131264916468\n"
     ]
    },
    {
     "data": {
      "image/png": "[encoded data removed]",
      "text/plain": [
       "<matplotlib.figure.Figure at 0x7fbd9c848cf8>"
      ]
     },
     "metadata": {},
     "output_type": "display_data"
    }
   ],
   "source": [
    "#optimize number of trees\n",
    "base = 50. #base for numbers\n",
    "exp = np.arange(10)+1 #exponent for base #note that in this case the default value was 1, so we are starting at 1.\n",
    "val = base*exp #values to be tested #in this case expect linear to do better.\n",
    "recs = list() #all recalls\n",
    "prec = list() #all precisions\n",
    "accs = list() #all accuracies\n",
    "fscr = list() #all F1-scores\n",
    "\n",
    "#loop through forests\n",
    "for v in val:\n",
    "    print('----------------------')\n",
    "    print('Number of trees = ',v)\n",
    "    forest = RandomForestClassifier(n_estimators = v.astype(int), max_depth = 32, min_samples_leaf = 1,\n",
    "                                    max_features='sqrt',class_weight='balanced',min_samples_split=32)\n",
    "    forest = forest.fit(tr_data_X,tr_data_Y)\n",
    "    Z =forest.predict(CV_data_X)\n",
    "\n",
    "    #set up variables\n",
    "    acc = 0 #accuracy\n",
    "    true_pos = 0.\n",
    "    false_pos = 0.\n",
    "    true_neg = 0.\n",
    "    false_neg = 0.\n",
    "    final = 0.\n",
    "\n",
    "    #get parameters for statistics\n",
    "    for i in range(0,len(Z)):\n",
    "        if Z[i] == CV_data_Y[i]: #mark correct answers\n",
    "            acc = acc + 1.\n",
    "        if (Z[i] == 1) and (CV_data_Y[i] == 1): #mark true positives\n",
    "            true_pos = true_pos + 1.\n",
    "        if (Z[i] == 1) and (CV_data_Y[i] == 0): #mark false positives\n",
    "            false_pos = false_pos + 1.\n",
    "        if (Z[i] == 0) and (CV_data_Y[i] == 1): #mark false negatives\n",
    "            false_neg = false_neg + 1.\n",
    "        if (Z[i] == 0) and (CV_data_Y[i] == 0): #mark true negatives\n",
    "            true_neg = true_neg + 1.\n",
    "\n",
    "    #calculate Accuracy\n",
    "    final = acc/len(Z)\n",
    "    print('Accuracy = ',final)\n",
    "    accs.append(final)\n",
    "\n",
    "    #calculate Precision\n",
    "    pre = true_pos/(true_pos+false_pos)\n",
    "    print('Precision = ',pre)\n",
    "    prec.append(pre)\n",
    "    \n",
    "    #calculate Recall\n",
    "    rec = true_pos/(true_pos+false_neg)\n",
    "    print('Recall = ',rec)\n",
    "    recs.append(rec)\n",
    "    \n",
    "    #calculate F1-Score\n",
    "    f1 = 2*((rec*pre)/(rec+pre))\n",
    "    print('F1-Score = ',f1)\n",
    "    fscr.append(f1)\n",
    "\n",
    "y_accs = np.asarray(accs)\n",
    "y_prec = np.asarray(prec)\n",
    "y_recs = np.asarray(recs)\n",
    "y_fscr = np.asarray(fscr)\n",
    "\n",
    "F1plot(y_fscr,val,'Number of Trees',False)"
   ]
  },
  {
   "cell_type": "code",
   "execution_count": 13,
   "metadata": {
    "collapsed": false
   },
   "outputs": [
    {
     "data": {
      "image/png": "[encoded data removed]",
      "text/plain": [
       "<matplotlib.figure.Figure at 0x7fbd9bd20470>"
      ]
     },
     "metadata": {},
     "output_type": "display_data"
    }
   ],
   "source": [
    "accplot(y_accs,val,'Number of Trees',False)"
   ]
  },
  {
   "cell_type": "markdown",
   "metadata": {},
   "source": [
    "Best number of trees: 150"
   ]
  },
  {
   "cell_type": "code",
   "execution_count": null,
   "metadata": {
    "collapsed": true
   },
   "outputs": [],
   "source": []
  },
  {
   "cell_type": "code",
   "execution_count": 39,
   "metadata": {
    "collapsed": false
   },
   "outputs": [
    {
     "name": "stderr",
     "output_type": "stream",
     "text": [
      "100%|██████████| 801/801 [00:17<00:00, 45.70it/s]\n"
     ]
    },
    {
     "data": {
      "image/png": "[encoded data removed]",
      "text/plain": [
       "<matplotlib.figure.Figure at 0x7f8868e093c8>"
      ]
     },
     "metadata": {},
     "output_type": "display_data"
    }
   ],
   "source": [
    "#Optimize threshold.\n",
    "\n",
    "#train best forest\n",
    "forest = RandomForestClassifier(n_estimators = 150, max_depth = 32, min_samples_leaf = 2,\n",
    "                                max_features='sqrt',class_weight='balanced',min_samples_split=32)\n",
    "forest = forest.fit(tr_data_X,tr_data_Y)\n",
    "P =forest.predict_proba(CV_data_X)\n",
    "\n",
    "recs = list() #all recalls\n",
    "prec = list() #all precisions\n",
    "accs = list() #all accuracies\n",
    "fscr = list() #all F1-scores\n",
    "\n",
    "#loop over thresholds\n",
    "val = (np.arange(801)+100)/1000.\n",
    "for v in tqdm(val):\n",
    "    Z = list()\n",
    "    for i in range(0,len(P)):\n",
    "        Z.append(sc.greater(P[i][1],v).astype(int)) #returns array where prob of passing is greater than threshold.\n",
    "    #Z = Z.astype(int)\n",
    "    #set up variables\n",
    "    acc = 0 #accuracy\n",
    "    true_pos = 0.\n",
    "    false_pos = 0.\n",
    "    true_neg = 0.\n",
    "    false_neg = 0.\n",
    "    final = 0.\n",
    "\n",
    "    #get parameters for statistics\n",
    "    for i in range(0,len(Z)):\n",
    "        if Z[i] == CV_data_Y[i]: #mark correct answers\n",
    "            acc = acc + 1.\n",
    "        if (Z[i] == 1) and (CV_data_Y[i] == 1): #mark true positives\n",
    "            true_pos = true_pos + 1.\n",
    "        if (Z[i] == 1) and (CV_data_Y[i] == 0): #mark false positives\n",
    "            false_pos = false_pos + 1.\n",
    "        if (Z[i] == 0) and (CV_data_Y[i] == 1): #mark false negatives\n",
    "            false_neg = false_neg + 1.\n",
    "        if (Z[i] == 0) and (CV_data_Y[i] == 0): #mark true negatives\n",
    "            true_neg = true_neg + 1.\n",
    "\n",
    "    #calculate Accuracy\n",
    "    final = acc/len(Z)\n",
    "    #print('Accuracy = ',final)\n",
    "    accs.append(final)\n",
    "\n",
    "    #calculate Precision\n",
    "    pre = true_pos/(true_pos+false_pos)\n",
    "    #print('Precision = ',pre)\n",
    "    prec.append(pre)\n",
    "    \n",
    "    #calculate Recall\n",
    "    rec = true_pos/(true_pos+false_neg)\n",
    "    #print('Recall = ',rec)\n",
    "    recs.append(rec)\n",
    "    \n",
    "    #calculate F1-Score\n",
    "    f1 = 2*((rec*pre)/(rec+pre))\n",
    "    #print('F1-Score = ',f1)\n",
    "    fscr.append(f1)\n",
    "\n",
    "y_accs = np.asarray(accs)\n",
    "y_prec = np.asarray(prec)\n",
    "y_recs = np.asarray(recs)\n",
    "y_fscr = np.asarray(fscr)\n",
    "\n",
    "F1plot(y_fscr,val*100,'Threshold (%)',False)"
   ]
  },
  {
   "cell_type": "code",
   "execution_count": 40,
   "metadata": {
    "collapsed": false
   },
   "outputs": [
    {
     "data": {
      "image/png": "[encoded data removed]",
      "text/plain": [
       "<matplotlib.figure.Figure at 0x7f8868e40a58>"
      ]
     },
     "metadata": {},
     "output_type": "display_data"
    }
   ],
   "source": [
    "accplot(y_accs,val,'Number of Trees',False)"
   ]
  },
  {
   "cell_type": "markdown",
   "metadata": {},
   "source": [
    "Correct threshold is set to 50%"
   ]
  },
  {
   "cell_type": "code",
   "execution_count": 41,
   "metadata": {
    "collapsed": false
   },
   "outputs": [
    {
     "name": "stdout",
     "output_type": "stream",
     "text": [
      "(24126, 1317)\n",
      "(24126,)\n"
     ]
    }
   ],
   "source": [
    "#STEP 5: Create code that generates ROC curve.\n",
    "#For this use training and CV sets together\n",
    "#create training set\n",
    "roc_data = data.iloc[0:trlen+cvlen]\n",
    "roc_data_Y = (roc_data.as_matrix(columns=['final_result'])).flatten()\n",
    "roc_data = roc_data.drop(['bill_number','bill_type','index','result','status','final_result','congress'],axis=1)\n",
    "roc_data_X = roc_data.as_matrix()\n",
    "print(roc_data_X.shape)\n",
    "print(roc_data_Y.shape)"
   ]
  },
  {
   "cell_type": "code",
   "execution_count": 46,
   "metadata": {
    "collapsed": false
   },
   "outputs": [
    {
     "name": "stdout",
     "output_type": "stream",
     "text": [
      "Accuracy =  0.9641850439396452\n",
      "Precision =  0.5906976744186047\n",
      "Recall =  0.4980392156862745\n",
      "F1-Score =  0.5404255319148937\n",
      "True Pos =  127.0\n",
      "False Pos =  88.0\n",
      "False Neg =  128.0\n",
      "True Neg =  5688.0\n"
     ]
    },
    {
     "name": "stderr",
     "output_type": "stream",
     "text": [
      "100%|██████████| 1001/1001 [00:21<00:00, 47.00it/s]\n"
     ]
    }
   ],
   "source": [
    "#train best forest\n",
    "forest = RandomForestClassifier(n_estimators = 150, max_depth = 32, min_samples_leaf = 2,\n",
    "                                max_features='sqrt',class_weight='balanced',min_samples_split=32)\n",
    "forest = forest.fit(roc_data_X,roc_data_Y)\n",
    "Z = forest.predict(test_data_X)\n",
    "\n",
    "acc = 0 #accuracy\n",
    "true_pos = 0.\n",
    "false_pos = 0.\n",
    "true_neg = 0.\n",
    "false_neg = 0.\n",
    "final = 0.\n",
    "\n",
    "#get parameters for statistic\n",
    "for i in range(0,len(Z)):\n",
    "    if Z[i] == test_data_Y[i]: #mark correct answers\n",
    "        acc = acc + 1.\n",
    "    if (Z[i] == 1) and (test_data_Y[i] == 1): #mark true positives\n",
    "        true_pos = true_pos + 1.\n",
    "    if (Z[i] == 0) and (test_data_Y[i] == 1): #mark false negatives\n",
    "        false_neg = false_pos + 1.\n",
    "    if (Z[i] == 1) and (test_data_Y[i] == 0): #mark false positives\n",
    "        false_pos = false_pos + 1.\n",
    "    if (Z[i] == 0) and (test_data_Y[i] == 0): #mark true negatives\n",
    "        true_neg = true_neg + 1.\n",
    "        \n",
    "        \n",
    "#calculate Accuracy\n",
    "final = acc/len(Z)\n",
    "print('Accuracy = ',final)\n",
    "\n",
    "#calculate Precision\n",
    "pre = true_pos/(true_pos+false_pos)\n",
    "print('Precision = ',pre)\n",
    "    \n",
    "#calculate Recall\n",
    "rec = true_pos/(true_pos+false_neg)\n",
    "print('Recall = ',rec)\n",
    "    \n",
    "#calculate F1-Score\n",
    "f1 = 2*((rec*pre)/(rec+pre))\n",
    "print('F1-Score = ',f1)\n",
    "\n",
    "#print result parameters\n",
    "print('True Pos = ',true_pos)\n",
    "print('False Pos = ',false_pos)\n",
    "print('False Neg = ',false_neg)\n",
    "print('True Neg = ',true_neg)\n",
    "\n",
    "\n",
    "#get ROC curve data\n",
    "P =forest.predict_proba(test_data_X)\n",
    "\n",
    "fpos = list() #all false positives\n",
    "tpos = list() #all true positives\n",
    "fneg = list() #all false negatives\n",
    "tneg = list() #all true negatives\n",
    "\n",
    "#loop over thresholds\n",
    "val = np.arange(1001)/1000.\n",
    "for v in tqdm(val):\n",
    "    Z = list()\n",
    "    for i in range(0,len(P)):\n",
    "        Z.append(sc.greater(P[i][1],v).astype(int)) #returns array where prob of passing is greater than threshold.\n",
    "    #Z = Z.astype(int)\n",
    "    #set up variables\n",
    "    true_pos = 0.\n",
    "    false_pos = 0.\n",
    "    false_neg = 0.\n",
    "    true_neg = 0.\n",
    "\n",
    "    #get parameters for statistics\n",
    "    for i in range(0,len(Z)):\n",
    "        if (Z[i] == 1) and (test_data_Y[i] == 1): #mark true positives\n",
    "            true_pos = true_pos + 1.\n",
    "        if (Z[i] == 0) and (test_data_Y[i] == 1): #mark false negatives\n",
    "            false_neg = false_pos + 1.\n",
    "        if (Z[i] == 1) and (test_data_Y[i] == 0): #mark false positives\n",
    "            false_pos = false_pos + 1.\n",
    "        if (Z[i] == 0) and (test_data_Y[i] == 0): #mark true negatives\n",
    "            true_neg = true_neg + 1.\n",
    "\n",
    "    fpos.append(false_pos)\n",
    "    tpos.append(true_pos)\n",
    "    fneg.append(false_neg)\n",
    "    tneg.append(true_neg)"
   ]
  },
  {
   "cell_type": "code",
   "execution_count": 61,
   "metadata": {
    "collapsed": false
   },
   "outputs": [
    {
     "data": {
      "text/plain": [
       "[<matplotlib.lines.Line2D at 0x7f8868c0ea90>]"
      ]
     },
     "execution_count": 61,
     "metadata": {},
     "output_type": "execute_result"
    },
    {
     "data": {
      "image/png": "[encoded data removed]",
      "text/plain": [
       "<matplotlib.figure.Figure at 0x7f88693a76a0>"
      ]
     },
     "metadata": {},
     "output_type": "display_data"
    }
   ],
   "source": [
    "#plot ROC curve\n",
    "ar_tpos = np.asarray(tpos)\n",
    "ar_fpos = np.asarray(fpos)\n",
    "ar_tneg = np.asarray(tneg)\n",
    "ar_fneg = np.asarray(fneg)\n",
    "\n",
    "TPR = list()\n",
    "FPR = list()\n",
    "for i in range(0,len(ar_tpos)):\n",
    "    if ar_tpos[i] == 0:\n",
    "        if ar_fneg[i] == 0:\n",
    "            TPR.append(1.)\n",
    "        else:\n",
    "            TPR.append(0.)\n",
    "    else:\n",
    "        TPR.append(ar_tpos[i]/(ar_tpos[i]+ar_fneg[i]))\n",
    "    if ar_fpos[i] == 0:\n",
    "        if ar_tneg[i] == 0:\n",
    "            FPR.append(0.)\n",
    "        else:\n",
    "            FPR.append(1.)\n",
    "    else:\n",
    "        FPR.append(ar_fpos[i]/(ar_fpos[i]+ar_tneg[i]))\n",
    "#TPR = ar_tpos/(ar_tpos+ar_fneg)  #true positive rate\n",
    "#FPR = ar_fpos/(ar_fpos+ar_tneg)  #false positive rate\n",
    "TPR = np.asarray(TPR)\n",
    "FPR = np.asarray(FPR)\n",
    "\n",
    "plt.plot(FPR,TPR,color='blue')\n",
    "plt.title('ROC curve', fontsize=20)\n",
    "plt.xlabel('False Positive Rate (FPR)', fontsize=16)\n",
    "plt.ylabel('True Positive Rate (TPR)', fontsize=16)\n",
    "plt.plot([0,1],[0,1],linestyle='--',color='black')"
   ]
  },
  {
   "cell_type": "code",
   "execution_count": 63,
   "metadata": {
    "collapsed": false
   },
   "outputs": [
    {
     "name": "stdout",
     "output_type": "stream",
     "text": [
      "[ 0.03564915  0.03564915  0.03564915 ...,  1.          1.          1.        ]\n",
      "[ 0.          0.          0.         ...,  0.03564915  0.03564915\n",
      "  0.03564915]\n",
      "215.0\n"
     ]
    }
   ],
   "source": [
    "print(TPR)\n",
    "print(FPR)\n",
    "print(ar_fpos[-1])"
   ]
  },
  {
   "cell_type": "code",
   "execution_count": 64,
   "metadata": {
    "collapsed": false
   },
   "outputs": [
    {
     "name": "stdout",
     "output_type": "stream",
     "text": [
      "5816.0\n"
     ]
    }
   ],
   "source": [
    "print(ar_tneg[-1])"
   ]
  },
  {
   "cell_type": "code",
   "execution_count": null,
   "metadata": {
    "collapsed": true
   },
   "outputs": [],
   "source": []
  }
 ],
 "metadata": {
  "kernelspec": {
   "display_name": "Python 3",
   "language": "python",
   "name": "python3"
  },
  "language_info": {
   "codemirror_mode": {
    "name": "ipython",
    "version": 3
   },
   "file_extension": ".py",
   "mimetype": "text/x-python",
   "name": "python",
   "nbconvert_exporter": "python",
   "pygments_lexer": "ipython3",
   "version": "3.5.1"
  }
 },
 "nbformat": 4,
 "nbformat_minor": 0
}
